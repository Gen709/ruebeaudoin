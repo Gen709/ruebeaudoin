{
 "cells": [
  {
   "cell_type": "code",
   "execution_count": 53,
   "id": "2806e728-e933-41c0-89c0-ac524368a37d",
   "metadata": {},
   "outputs": [
    {
     "name": "stdout",
     "output_type": "stream",
     "text": [
      "600 = 124 x 4 + 104\n",
      "124 = 104 x 1 + 20\n",
      "104 = 20 x 5 + 4\n",
      "20 = 4 x 5 + 0\n",
      "Le PGCD est 4\n",
      "['600 - 124 x 4', '124 - 104 x 1', '104 - 20 x 5', '20 - 4 x 5']\n",
      "Bézout Coefficients:\n",
      "x = 104 - 5 * y\n",
      "x = 124 - 1 * y\n",
      "x = 600 - 4 * y\n",
      "Final Coefficients: [(600, 124, 4), (124, 104, 1), (104, 20, 5), (20, 4, 5)] 4\n"
     ]
    }
   ],
   "source": [
    "\n",
    "\n",
    "def pgcd(a, b, l):\n",
    "    \"\"\"\n",
    "    Calculate the greatest common divisor (PGCD) of two integers using the Euclidean algorithm.\n",
    "    \n",
    "    Parameters:\n",
    "    - a (int): First integer.\n",
    "    - b (int): Second integer.\n",
    "    - l (list): List to store the intermediate steps of the algorithm.\n",
    "    \n",
    "    Returns:\n",
    "    - Tuple: (PGCD, list of steps)\n",
    "    \"\"\"\n",
    "    r = a % b\n",
    "    c = a // b\n",
    "    print(f\"{a} = {b} x {c} + {r}\")\n",
    "    l.append((a, b, c, r))\n",
    "    if r != 0:\n",
    "        a = b\n",
    "        b = r\n",
    "        return pgcd(a, b, l)\n",
    "    else:\n",
    "        print(f\"Le PGCD est {b}\")\n",
    "        return b, l\n",
    "\n",
    "def coefficients_bezout(a, b, l):\n",
    "    \"\"\"\n",
    "    Calculate the Bézout coefficients for two integers using the Euclidean algorithm.\n",
    "    \n",
    "    Parameters:\n",
    "    - a (int): First integer.\n",
    "    - b (int): Second integer.\n",
    "    - l (list): List to store the intermediate steps of the algorithm.\n",
    "    \n",
    "    Returns:\n",
    "    - None\n",
    "    \"\"\"\n",
    "    _, l = pgcd(a, b, l)\n",
    "    print([f\"{x[0]} - {x[1]} x {x[2]}\" for x in l])\n",
    "    coef = [(x[0], x[1], x[2]) for x in l]\n",
    "    i = len(coef)\n",
    "    _pgcd = coef[i-1][1]\n",
    "    coefficients = []\n",
    "\n",
    "    for y in range(i-1, 0, -1):\n",
    "        x, _, c = coef[y-1]\n",
    "        coefficients.append((x, c))\n",
    "\n",
    "    print(\"Bézout Coefficients:\")\n",
    "    for coeff in coefficients:\n",
    "        print(f\"x = {coeff[0]} - {coeff[1]} * y\")\n",
    "\n",
    "    print(\"Final Coefficients:\", coef, _pgcd)\n",
    "\n",
    "\n",
    "def solution_possible(a, b, c):\n",
    "    \"\"\"\n",
    "    Check if there exists a solution to the equation ax + by = c, where x and y are integers.\n",
    "    \n",
    "    Parameters:\n",
    "    - a (int): Coefficient for x.\n",
    "    - b (int): Coefficient for y.\n",
    "    - c (int): Constant term.\n",
    "    \n",
    "    Returns:\n",
    "    - bool: True if a solution exists, False otherwise.\n",
    "    \"\"\"\n",
    "    _pgcd = pgcd(a, b)[0]\n",
    "    if c % _pgcd == 0:\n",
    "        return True\n",
    "    else:\n",
    "        return False\n",
    "\n",
    "\n",
    "\n",
    "a = 600\n",
    "b = 124\n",
    "c = 115\n",
    "l = []\n",
    "\n",
    "# _pgcd, r = pgcd(a, b, l)\n",
    "# r\n",
    "coefficients_bezout(a, b, l)"
   ]
  },
  {
   "cell_type": "code",
   "execution_count": 13,
   "id": "b208a0a1-1e27-4208-a75b-a445fd476152",
   "metadata": {},
   "outputs": [
    {
     "name": "stdout",
     "output_type": "stream",
     "text": [
      "161 = 368 x 0 + 161\n",
      "368 = 161 x 2 + 46\n",
      "161 = 46 x 3 + 23\n",
      "46 = 23 x 2 + 0\n",
      "Le PGCD est 23\n"
     ]
    },
    {
     "data": {
      "text/plain": [
       "True"
      ]
     },
     "execution_count": 13,
     "metadata": {},
     "output_type": "execute_result"
    }
   ],
   "source": [
    "solution_possible(a, b, c)"
   ]
  },
  {
   "cell_type": "code",
   "execution_count": null,
   "id": "3bcf1672-6ea1-421c-83a7-e6eb7691d121",
   "metadata": {},
   "outputs": [],
   "source": []
  }
 ],
 "metadata": {
  "kernelspec": {
   "display_name": "Python 3 (ipykernel)",
   "language": "python",
   "name": "python3"
  },
  "language_info": {
   "codemirror_mode": {
    "name": "ipython",
    "version": 3
   },
   "file_extension": ".py",
   "mimetype": "text/x-python",
   "name": "python",
   "nbconvert_exporter": "python",
   "pygments_lexer": "ipython3",
   "version": "3.9.18"
  }
 },
 "nbformat": 4,
 "nbformat_minor": 5
}
