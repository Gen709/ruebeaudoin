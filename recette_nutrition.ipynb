{
 "cells": [
  {
   "cell_type": "code",
   "execution_count": 20,
   "id": "8d375574-10c3-4b9a-be60-24303ba7db39",
   "metadata": {},
   "outputs": [],
   "source": [
    "import re\n",
    "from recette.models import Recipy"
   ]
  },
  {
   "cell_type": "code",
   "execution_count": 2,
   "id": "9775dc74-6eb9-420e-96b8-d1168d6a40e7",
   "metadata": {},
   "outputs": [],
   "source": [
    "r_qs = Recipy.objects.all()"
   ]
  },
  {
   "cell_type": "code",
   "execution_count": 3,
   "id": "b01f44a6-d12d-47d2-b344-2c43913874cf",
   "metadata": {},
   "outputs": [],
   "source": [
    "r1 = r_qs[0]"
   ]
  },
  {
   "cell_type": "code",
   "execution_count": 5,
   "id": "c1925891-5853-479c-8f48-b76b54a4d564",
   "metadata": {},
   "outputs": [
    {
     "name": "stdout",
     "output_type": "stream",
     "text": [
      "Sonoran-Style Flour Tortillas\n"
     ]
    }
   ],
   "source": [
    "print(r1)"
   ]
  },
  {
   "cell_type": "markdown",
   "id": "eb114404-3107-496a-b1b6-97e0312d278b",
   "metadata": {},
   "source": [
    "## Get ingredients For one "
   ]
  },
  {
   "cell_type": "code",
   "execution_count": 52,
   "id": "9856722f-9632-43ce-a587-bb87886ad7aa",
   "metadata": {},
   "outputs": [],
   "source": [
    "ingredient_list = [(i.food_name.food_description_f, \n",
    "                    i.qty, i.unit, \n",
    "                    re.search(\"\\d+\", i.conversion_factor.mesure_name.mesure_name_f).group(0),\n",
    "                    re.search(\"\\D+\", i.conversion_factor.mesure_name.mesure_name_f).group(0),\n",
    "                    i.conversion_factor.mesure_name.mesure_name_f, \n",
    "                    i.conversion_factor.conversion_factor_value ) \n",
    "                   for i in r1.ingredients_set.all()]\n",
    "# qty \\d / unit \\D"
   ]
  },
  {
   "cell_type": "code",
   "execution_count": 53,
   "id": "a99e1461-526c-417f-8b0f-70ce35e59871",
   "metadata": {},
   "outputs": [
    {
     "data": {
      "text/plain": [
       "[('Sel, table', '1.5', 'teaspoons', '5', 'ml', '5ml', Decimal('0.06122000')),\n",
       " ('Agent de levage, levure chimique, faible en sodium',\n",
       "  '1.25',\n",
       "  'teaspoons',\n",
       "  '5',\n",
       "  'ml',\n",
       "  '5ml',\n",
       "  Decimal('0.05102000')),\n",
       " ('Eau municipale', '5', 'onces', '125', 'ml', '125ml', Decimal('1.25211000')),\n",
       " ('Grains céréaliers, farine de blé, blanche, tout usage, blanchie',\n",
       "  '10',\n",
       "  'ounces',\n",
       "  '250',\n",
       "  'ml',\n",
       "  '250ml',\n",
       "  Decimal('1.32079000')),\n",
       " ('Beurre, salé', '3', 'ounces', '250', 'ml', '250ml', Decimal('2.39856000'))]"
      ]
     },
     "execution_count": 53,
     "metadata": {},
     "output_type": "execute_result"
    }
   ],
   "source": [
    "ingredient_list"
   ]
  },
  {
   "cell_type": "markdown",
   "id": "b55090fb-e9c0-427e-8252-e50c77040781",
   "metadata": {},
   "source": [
    "## Conversion"
   ]
  },
  {
   "cell_type": "markdown",
   "id": "7d5e089a-ad6d-4ebc-815f-bbee5389e650",
   "metadata": {},
   "source": [
    "### Import data"
   ]
  },
  {
   "cell_type": "code",
   "execution_count": 68,
   "id": "445c2a56-e06a-4561-83d6-2fb08e45e4e3",
   "metadata": {},
   "outputs": [],
   "source": [
    "import requests\n",
    "\n",
    "url = 'https://www.thecookierookie.com/cooking-measurements-kitchen-conversion-chart/'\n",
    "\n",
    "header = {\n",
    "  \"User-Agent\": \"Mozilla/5.0 (X11; Linux x86_64) AppleWebKit/537.36 (KHTML, like Gecko) Chrome/50.0.2661.75 Safari/537.36\",\n",
    "  \"X-Requested-With\": \"XMLHttpRequest\"\n",
    "}\n",
    "\n",
    "r = requests.get(url, headers=header)\n",
    "\n",
    "dfs = pd.read_html(r.text)"
   ]
  },
  {
   "cell_type": "code",
   "execution_count": 55,
   "id": "db0d2ef6-7f91-4d91-b236-1f91171e7365",
   "metadata": {},
   "outputs": [
    {
     "data": {
      "text/plain": [
       "[('teaspoons', 'ml'),\n",
       " ('teaspoons', 'ml'),\n",
       " ('onces', 'ml'),\n",
       " ('ounces', 'ml'),\n",
       " ('ounces', 'ml')]"
      ]
     },
     "execution_count": 55,
     "metadata": {},
     "output_type": "execute_result"
    }
   ],
   "source": [
    "[(i[2], i[4]) for i in ingredient_list]"
   ]
  },
  {
   "cell_type": "code",
   "execution_count": 56,
   "id": "0cc7f9e0-ac9c-44aa-846f-5c5937259a03",
   "metadata": {},
   "outputs": [],
   "source": [
    "import pandas as pd"
   ]
  },
  {
   "cell_type": "code",
   "execution_count": 62,
   "id": "b4af93ae-b0c6-4a6f-9dd9-7b5878a52205",
   "metadata": {},
   "outputs": [],
   "source": [
    "df_list_1 = pd.read_html('https://www.bhg.com/recipes/how-to/cooking-basics/measurement-conversion-chart/', header=0)"
   ]
  },
  {
   "cell_type": "code",
   "execution_count": 66,
   "id": "41e23970-e7af-4d55-85c1-f432e94471aa",
   "metadata": {},
   "outputs": [
    {
     "data": {
      "text/html": [
       "<div>\n",
       "<style scoped>\n",
       "    .dataframe tbody tr th:only-of-type {\n",
       "        vertical-align: middle;\n",
       "    }\n",
       "\n",
       "    .dataframe tbody tr th {\n",
       "        vertical-align: top;\n",
       "    }\n",
       "\n",
       "    .dataframe thead th {\n",
       "        text-align: right;\n",
       "    }\n",
       "</style>\n",
       "<table border=\"1\" class=\"dataframe\">\n",
       "  <thead>\n",
       "    <tr style=\"text-align: right;\">\n",
       "      <th></th>\n",
       "      <th>Measurement</th>\n",
       "      <th>Ounces</th>\n",
       "      <th>Metric</th>\n",
       "    </tr>\n",
       "  </thead>\n",
       "  <tbody>\n",
       "    <tr>\n",
       "      <th>0</th>\n",
       "      <td>⅛ teaspoon (tsp.)</td>\n",
       "      <td>-</td>\n",
       "      <td>0.5 milliliter (ml)</td>\n",
       "    </tr>\n",
       "    <tr>\n",
       "      <th>1</th>\n",
       "      <td>¼ tsp.</td>\n",
       "      <td>-</td>\n",
       "      <td>1 ml</td>\n",
       "    </tr>\n",
       "    <tr>\n",
       "      <th>2</th>\n",
       "      <td>½ tsp.</td>\n",
       "      <td>-</td>\n",
       "      <td>2 ml</td>\n",
       "    </tr>\n",
       "    <tr>\n",
       "      <th>3</th>\n",
       "      <td>1 tsp.</td>\n",
       "      <td>-</td>\n",
       "      <td>5 ml</td>\n",
       "    </tr>\n",
       "    <tr>\n",
       "      <th>4</th>\n",
       "      <td>1 Tbsp.</td>\n",
       "      <td>-</td>\n",
       "      <td>15 ml</td>\n",
       "    </tr>\n",
       "    <tr>\n",
       "      <th>5</th>\n",
       "      <td>2 Tbsp.</td>\n",
       "      <td>1 fluid ounce (fl. oz.)</td>\n",
       "      <td>30 ml</td>\n",
       "    </tr>\n",
       "    <tr>\n",
       "      <th>6</th>\n",
       "      <td>¼ cup</td>\n",
       "      <td>2 fl. oz.</td>\n",
       "      <td>60 ml</td>\n",
       "    </tr>\n",
       "    <tr>\n",
       "      <th>7</th>\n",
       "      <td>⅓ cup</td>\n",
       "      <td>3 fl. oz.</td>\n",
       "      <td>80 ml</td>\n",
       "    </tr>\n",
       "    <tr>\n",
       "      <th>8</th>\n",
       "      <td>½ cup</td>\n",
       "      <td>4 fl. oz.</td>\n",
       "      <td>120 ml</td>\n",
       "    </tr>\n",
       "    <tr>\n",
       "      <th>9</th>\n",
       "      <td>⅔ cup</td>\n",
       "      <td>5 fl. oz.</td>\n",
       "      <td>160 ml</td>\n",
       "    </tr>\n",
       "    <tr>\n",
       "      <th>10</th>\n",
       "      <td>¾ cup</td>\n",
       "      <td>6 fl. oz.</td>\n",
       "      <td>180 ml</td>\n",
       "    </tr>\n",
       "    <tr>\n",
       "      <th>11</th>\n",
       "      <td>1 cup</td>\n",
       "      <td>8 fl. oz.</td>\n",
       "      <td>240 ml</td>\n",
       "    </tr>\n",
       "    <tr>\n",
       "      <th>12</th>\n",
       "      <td>2 cups</td>\n",
       "      <td>16 fl. oz. (1 pt.)</td>\n",
       "      <td>480 ml</td>\n",
       "    </tr>\n",
       "    <tr>\n",
       "      <th>13</th>\n",
       "      <td>1 qt.</td>\n",
       "      <td>64 fl. oz. (2 pt.)</td>\n",
       "      <td>0.95 L</td>\n",
       "    </tr>\n",
       "  </tbody>\n",
       "</table>\n",
       "</div>"
      ],
      "text/plain": [
       "          Measurement                   Ounces               Metric\n",
       "0   ⅛ teaspoon (tsp.)                        -  0.5 milliliter (ml)\n",
       "1              ¼ tsp.                        -                 1 ml\n",
       "2              ½ tsp.                        -                 2 ml\n",
       "3              1 tsp.                        -                 5 ml\n",
       "4             1 Tbsp.                        -                15 ml\n",
       "5             2 Tbsp.  1 fluid ounce (fl. oz.)                30 ml\n",
       "6               ¼ cup                2 fl. oz.                60 ml\n",
       "7               ⅓ cup                3 fl. oz.                80 ml\n",
       "8               ½ cup                4 fl. oz.               120 ml\n",
       "9               ⅔ cup                5 fl. oz.               160 ml\n",
       "10              ¾ cup                6 fl. oz.               180 ml\n",
       "11              1 cup                8 fl. oz.               240 ml\n",
       "12             2 cups       16 fl. oz. (1 pt.)               480 ml\n",
       "13              1 qt.       64 fl. oz. (2 pt.)               0.95 L"
      ]
     },
     "execution_count": 66,
     "metadata": {},
     "output_type": "execute_result"
    }
   ],
   "source": [
    "df_list[0]"
   ]
  },
  {
   "cell_type": "code",
   "execution_count": 72,
   "id": "c33559cb-7ea5-4bc5-8851-070784ca4430",
   "metadata": {},
   "outputs": [],
   "source": [
    "import pickle\n",
    "with open('data/web/mesure1.pkl', 'wb') as f:\n",
    "    pickle.dump(dfs, f)"
   ]
  },
  {
   "cell_type": "code",
   "execution_count": 73,
   "id": "f1e649d2-ae0f-48b1-a17d-de7c3156adb4",
   "metadata": {},
   "outputs": [
    {
     "data": {
      "text/plain": [
       "[   Abbreviation  Measurement\n",
       " 0          tbsp   tablespoon\n",
       " 1           tsp     teaspoon\n",
       " 2            oz        ounce\n",
       " 3        fl. oz  fluid ounce\n",
       " 4             c          cup\n",
       " 5            qt        quart\n",
       " 6            pt         pint\n",
       " 7           gal       gallon\n",
       " 8            lb        pound\n",
       " 9            mL   milliliter\n",
       " 10            g        grams\n",
       " 11           kg     kilogram\n",
       " 12            l        liter,\n",
       "   Teaspoons Tablespoons    Cups\n",
       " 0     3 tsp      1 tbsp  1/16 c\n",
       " 1     6 tsp      2 tbsp   1/8 c\n",
       " 2    12 tsp      4 tbsp   1/4 c\n",
       " 3    24 tsp      8 tbsp   1/2 c\n",
       " 4    36 tsp     12 tbsp   3/4 c\n",
       " 5    48 tsp     16 tbsp     1 c,\n",
       "   Fluid Ounces  Cups   Pints  Quarts   Gallons\n",
       " 0     8 fl. oz   1 c  1/2 pt  1/4 qt  1/16 gal\n",
       " 1    16 fl. oz   2 c    1 pt  1/2 qt   1/8 gal\n",
       " 2    32 fl. oz   4 c    2 pt    1 qt   1/4 gal\n",
       " 3    64 fl. oz   8 c    4 pt    2 qt   1/2 gal\n",
       " 4   128 fl. oz  16 c    8 pt    4 qt     1 gal,\n",
       "       Sticks   Cups Tablespoons Ounces   Grams\n",
       " 0  1/2 stick  1/4 c      4 tbsp   2 oz  57.5 g\n",
       " 1    1 stick  1/2 c      8 tbsp   4 oz   115 g\n",
       " 2   2 sticks    1 c     16 tbsp   8 oz   230 g,\n",
       "   (Degrees) Celsius (Degrees) Fahrenheit\n",
       " 0             120 C                250 F\n",
       " 1             160 C                320 F\n",
       " 2             180 C                350 F\n",
       " 3             205 C                400 F\n",
       " 4             220 C                425 F,\n",
       "     Metric        Standard\n",
       " 0     1 mL         1/5 tsp\n",
       " 1     5 mL           1 tsp\n",
       " 2    15 mL          1 tbsp\n",
       " 3   240 mL  1 c (8 fl. oz)\n",
       " 4  1 liter       34 fl. oz,\n",
       "   Metric          Standard\n",
       " 0    1 g           .035 oz\n",
       " 1  100 g            3.5 oz\n",
       " 2  500 g  17.7 oz (1.1 lb)\n",
       " 3   1 kg             35 oz,\n",
       "    Standard  Metric\n",
       " 0   1/5 tsp    1 ml\n",
       " 1     1 tsp    5 ml\n",
       " 2    1 tbsp   15 ml\n",
       " 3  1 fl. oz   30 ml\n",
       " 4       1 c  237 ml\n",
       " 5      1 pt  473 ml\n",
       " 6      1 qt   .95 l\n",
       " 7     1 gal   3.8 l\n",
       " 8      1 oz    28 g\n",
       " 9      1 lb   454 g,\n",
       "          Measurement/Ingredient   Ounces\n",
       " 0        1 c. all-purpose flour   4.5 oz\n",
       " 1         1 c. granulated sugar   7.1 oz\n",
       " 2  1 c. unsifted powdered sugar   4.4 oz\n",
       " 3       1 c. packed brown sugar  7.75 oz\n",
       " 4              1 c. rolled oats     3 oz\n",
       " 5            1 c. vegetable oil   7.7 oz\n",
       " 6                     1 c. milk    8 oz.\n",
       " 7              1 c. heavy cream   8.4 oz\n",
       " 8                   1 c. butter    8 oz.\n",
       " 9    1 large egg (white + yolk)   1.7 oz,\n",
       "          Measurement/Ingredient  Grams\n",
       " 0        1 c. all-purpose flour  127 g\n",
       " 1         1 c. granulated sugar  200 g\n",
       " 2  1 c. unsifted powdered sugar  125 g\n",
       " 3       1 c. packed brown sugar  220 g\n",
       " 4              1 c. rolled oats   85 g\n",
       " 5            1 c. vegetable oil  218 g\n",
       " 6                     1 c. milk  227 g\n",
       " 7              1 c. heavy cream  238 g\n",
       " 8                   1 c. butter  227 g\n",
       " 9    1 large egg (white + yolk)   48 g]"
      ]
     },
     "execution_count": 73,
     "metadata": {},
     "output_type": "execute_result"
    }
   ],
   "source": [
    "dfs"
   ]
  },
  {
   "cell_type": "code",
   "execution_count": null,
   "id": "2c8063be-2ddf-46ba-830e-4c2021b0890f",
   "metadata": {},
   "outputs": [],
   "source": []
  }
 ],
 "metadata": {
  "kernelspec": {
   "display_name": "Django Shell-Plus",
   "language": "python",
   "name": "django_extensions"
  },
  "language_info": {
   "codemirror_mode": {
    "name": "ipython",
    "version": 3
   },
   "file_extension": ".py",
   "mimetype": "text/x-python",
   "name": "python",
   "nbconvert_exporter": "python",
   "pygments_lexer": "ipython3",
   "version": "3.9.2"
  }
 },
 "nbformat": 4,
 "nbformat_minor": 5
}
