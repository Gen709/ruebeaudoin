{
 "cells": [
  {
   "cell_type": "code",
   "execution_count": 11,
   "id": "798ec9d3-fbef-4b0a-94d7-f4752b07052a",
   "metadata": {},
   "outputs": [],
   "source": [
    "import calendar\n",
    "from datetime import datetime as dt"
   ]
  },
  {
   "cell_type": "code",
   "execution_count": 3,
   "id": "add2a028-d63e-4f25-9bd6-da5dc84c6225",
   "metadata": {},
   "outputs": [],
   "source": [
    "c = calendar.TextCalendar(calendar.SUNDAY)"
   ]
  },
  {
   "cell_type": "code",
   "execution_count": 5,
   "id": "3b1f32f3-ff5d-42c5-ab6a-6d82dad15f28",
   "metadata": {},
   "outputs": [
    {
     "name": "stdout",
     "output_type": "stream",
     "text": [
      "   February 2023\n",
      "Su Mo Tu We Th Fr Sa\n",
      "          1  2  3  4\n",
      " 5  6  7  8  9 10 11\n",
      "12 13 14 15 16 17 18\n",
      "19 20 21 22 23 24 25\n",
      "26 27 28\n",
      "\n"
     ]
    }
   ],
   "source": [
    "print(c.formatmonth(2023, 2))"
   ]
  },
  {
   "cell_type": "code",
   "execution_count": 28,
   "id": "b84daab3-eb37-4a03-9197-0a57c3f8a0ae",
   "metadata": {},
   "outputs": [
    {
     "data": {
      "text/plain": [
       "1"
      ]
     },
     "execution_count": 28,
     "metadata": {},
     "output_type": "execute_result"
    }
   ],
   "source": [
    "dt(2022, 1, 1).day"
   ]
  },
  {
   "cell_type": "code",
   "execution_count": 26,
   "id": "bb776b4e-6328-4ad0-a848-5756485f532a",
   "metadata": {},
   "outputs": [
    {
     "data": {
      "text/plain": [
       "[(2021, 12, 26, 6),\n",
       " (2021, 12, 27, 0),\n",
       " (2021, 12, 28, 1),\n",
       " (2021, 12, 29, 2),\n",
       " (2021, 12, 30, 3),\n",
       " (2021, 12, 31, 4),\n",
       " (2022, 1, 1, 5),\n",
       " (2022, 1, 2, 6),\n",
       " (2022, 1, 3, 0),\n",
       " (2022, 1, 4, 1),\n",
       " (2022, 1, 5, 2),\n",
       " (2022, 1, 6, 3),\n",
       " (2022, 1, 7, 4),\n",
       " (2022, 1, 8, 5),\n",
       " (2022, 1, 9, 6),\n",
       " (2022, 1, 10, 0),\n",
       " (2022, 1, 11, 1),\n",
       " (2022, 1, 12, 2),\n",
       " (2022, 1, 13, 3),\n",
       " (2022, 1, 14, 4),\n",
       " (2022, 1, 15, 5),\n",
       " (2022, 1, 16, 6),\n",
       " (2022, 1, 17, 0),\n",
       " (2022, 1, 18, 1),\n",
       " (2022, 1, 19, 2),\n",
       " (2022, 1, 20, 3),\n",
       " (2022, 1, 21, 4),\n",
       " (2022, 1, 22, 5),\n",
       " (2022, 1, 23, 6),\n",
       " (2022, 1, 24, 0),\n",
       " (2022, 1, 25, 1),\n",
       " (2022, 1, 26, 2),\n",
       " (2022, 1, 27, 3),\n",
       " (2022, 1, 28, 4),\n",
       " (2022, 1, 29, 5),\n",
       " (2022, 1, 30, 6),\n",
       " (2022, 1, 31, 0),\n",
       " (2022, 2, 1, 1),\n",
       " (2022, 2, 2, 2),\n",
       " (2022, 2, 3, 3),\n",
       " (2022, 2, 4, 4),\n",
       " (2022, 2, 5, 5)]"
      ]
     },
     "execution_count": 26,
     "metadata": {},
     "output_type": "execute_result"
    }
   ],
   "source": [
    "# [d for d in c.itermonthdates(2022, 1)]\n",
    "# [d for d in c.itermonthdays(2022, 1)]\n",
    "# [d for d in c.itermonthdays2(2022, 1)]\n",
    "# [d for d in c.itermonthdays3(2022, 1)]\n",
    "[d for d in c.itermonthdays4(2022, 1)]\n",
    "# [d for d in c.monthdatescalendar(2023, 3)]\n",
    "# [d for d in c.yeardatescalendar(2023,3)]\n",
    "    "
   ]
  },
  {
   "cell_type": "code",
   "execution_count": null,
   "id": "af3a25c0-94f8-47ca-bb0e-4cbde531ece8",
   "metadata": {},
   "outputs": [],
   "source": []
  }
 ],
 "metadata": {
  "kernelspec": {
   "display_name": "Django Shell-Plus",
   "language": "python",
   "name": "django_extensions"
  },
  "language_info": {
   "codemirror_mode": {
    "name": "ipython",
    "version": 3
   },
   "file_extension": ".py",
   "mimetype": "text/x-python",
   "name": "python",
   "nbconvert_exporter": "python",
   "pygments_lexer": "ipython3",
   "version": "3.9.2"
  }
 },
 "nbformat": 4,
 "nbformat_minor": 5
}
