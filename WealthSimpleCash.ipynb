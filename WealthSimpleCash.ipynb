{
 "cells": [
  {
   "cell_type": "code",
   "execution_count": 7,
   "id": "2b5be052-0a21-4e50-8a92-98398fb1716a",
   "metadata": {},
   "outputs": [],
   "source": [
    "from PIL import Image \n",
    "from pytesseract import pytesseract \n",
    "from pytesseract import Output\n",
    "import cv2\n",
    "import os"
   ]
  },
  {
   "cell_type": "code",
   "execution_count": 2,
   "id": "a6e59269-0a77-47bb-ad19-96237903c066",
   "metadata": {},
   "outputs": [],
   "source": [
    "PATH = \"data/WealthSimple/cash\""
   ]
  },
  {
   "cell_type": "code",
   "execution_count": 61,
   "id": "5ae9643f-1702-4dc4-9874-f8c94a7460d0",
   "metadata": {},
   "outputs": [],
   "source": [
    "image_list = []\n",
    "text_list = []\n",
    "text_dict = {}\n",
    "for filename in os.listdir(PATH):\n",
    "    if filename.endswith(('.png', '.jpg', '.jpeg')):\n",
    "        image_path = os.path.join(PATH, filename)\n",
    "        image_list.append(image_path)\n",
    "        # Extract text from each image\n",
    "        image = Image.open(image_path)\n",
    "        text = pytesseract.image_to_string(image)\n",
    "        text_dict[image_path] = pytesseract.image_to_string(image)\n",
    "        text_list.append(text)\n",
    "        # Process or store the extracted text as needed\n",
    "        # print(f'Text from {filename}:\\n{text}\\n{\"-\"*30}')"
   ]
  },
  {
   "cell_type": "code",
   "execution_count": 111,
   "id": "13e40e1c-9e57-41b9-b9b2-6681b53b76dd",
   "metadata": {
    "tags": []
   },
   "outputs": [
    {
     "name": "stdout",
     "output_type": "stream",
     "text": [
      "data/WealthSimple/cash/IMG_3588.jpeg\n",
      "['Super C La Plaine', '= 2598', 'Achat', 'Cash', '29 septembre 2023', 'Metro De La', 'Rousselier', 'Achat', 'Cash', '26 septembre 2023', 'Stm Loge Honor', 'Beaugra', '&S g', 'Achat', 'Cash', '23 septembre 2023', 'f Q e', '- 37,58 $ CAD', '- 18,43 $ CAD', '- 9,00 $ CAD']\n",
      "['Super C La Plaine', '= 2598', 'Achat', 'Cash', '29 septembre 2023', 'Metro De La', 'Rousselier', 'Achat', 'Cash', '26 septembre 2023', 'Stm Loge Honor', 'Beaugra', '&S g', 'Achat', 'Cash', '23 septembre 2023', 'f Q e', '- 37,58 $ CAD', '- 18,43 $ CAD', '- 9,00 $ CAD']\n",
      "['Super C La Plaine', '= 2598', 'Achat', 'Cash', '29 septembre 2023', 'Metro De La', 'Rousselier', 'Achat', 'Cash', '26 septembre 2023', 'Stm Loge Honor', 'Beaugra', '&S g', 'Achat', 'Cash', '23 septembre 2023', 'f Q e', '- 37,58 $ CAD', '- 18,43 $ CAD', '- 9,00 $ CAD']\n",
      "data/WealthSimple/cash/IMG_3584.jpeg\n",
      "data/WealthSimple/cash/IMG_3592.jpeg\n",
      "data/WealthSimple/cash/IMG_3593.jpeg\n",
      "data/WealthSimple/cash/IMG_3585.jpeg\n",
      "data/WealthSimple/cash/IMG_3589.jpeg\n",
      "data/WealthSimple/cash/IMG_3582.jpeg\n",
      "data/WealthSimple/cash/IMG_3594.jpeg\n",
      "data/WealthSimple/cash/IMG_3595.jpeg\n",
      "data/WealthSimple/cash/IMG_3583.jpeg\n",
      "data/WealthSimple/cash/IMG_3596.jpeg\n",
      "data/WealthSimple/cash/IMG_3579.jpeg\n",
      "data/WealthSimple/cash/IMG_3580.jpeg\n",
      "data/WealthSimple/cash/IMG_3581.jpeg\n",
      "['Metro De La', 'Rousselier', 'Achat', 'Cash', '1 novembre 2023', 'Intéréts', 'Cash', '29 octobre 2023', 'Maxi', '[=a Achat', 'Cash', '28 octobre 2023', 'Iga', 'fi Q', '08:48', 'Cash activité =', '- 3,98 $ CAD', '27,25 $ CAD', '- 16,37 $ CAD', '- 35,08 $ CAD', 'e ©']\n",
      "['Metro De La', 'Rousselier', 'Achat', 'Cash', '1 novembre 2023', 'Intéréts', 'Cash', '29 octobre 2023', 'Maxi', '[=a Achat', 'Cash', '28 octobre 2023', 'Iga', 'fi Q', '08:48', 'Cash activité =', '- 3,98 $ CAD', '27,25 $ CAD', '- 16,37 $ CAD', '- 35,08 $ CAD', 'e ©']\n",
      "['Metro De La', 'Rousselier', 'Achat', 'Cash', '1 novembre 2023', 'Intéréts', 'Cash', '29 octobre 2023', 'Maxi', '[=a Achat', 'Cash', '28 octobre 2023', 'Iga', 'fi Q', '08:48', 'Cash activité =', '- 3,98 $ CAD', '27,25 $ CAD', '- 16,37 $ CAD', '- 35,08 $ CAD', 'e ©']\n",
      "data/WealthSimple/cash/IMG_3578.jpeg\n",
      "data/WealthSimple/cash/IMG_3590.jpeg\n",
      "data/WealthSimple/cash/IMG_3586.jpeg\n",
      "['& Achat', 'Cash', '5 octobre 2023', 'Dépét', '6) Transfert électronique de...', 'Cash', 'Maxi', '& Achat', 'Cash', '2 octobre 2023', 'Adonis Anjou', '©) Achat', 'Cash', '- 30,34 $ CAD', '2 000,00 $ CAD', '- 6,48 $ CAD', '- 63,07 $ CAD']\n",
      "['& Achat', 'Cash', '5 octobre 2023', 'Dépét', '6) Transfert électronique de...', 'Cash', 'Maxi', '& Achat', 'Cash', '2 octobre 2023', 'Adonis Anjou', '©) Achat', 'Cash', '- 30,34 $ CAD', '2 000,00 $ CAD', '- 6,48 $ CAD', '- 63,07 $ CAD']\n",
      "['& Achat', 'Cash', '5 octobre 2023', 'Dépét', '6) Transfert électronique de...', 'Cash', 'Maxi', '& Achat', 'Cash', '2 octobre 2023', 'Adonis Anjou', '©) Achat', 'Cash', '- 30,34 $ CAD', '2 000,00 $ CAD', '- 6,48 $ CAD', '- 63,07 $ CAD']\n",
      "data/WealthSimple/cash/IMG_3587.jpeg\n",
      "['Iga', 'achat', 'Cash', 'Metro De La', 'Rousselier', '&', 'Achat', 'Cash', 'Metro De La', 'Rousselier', '&', 'Achat', 'Cash', 'Intéréts', 'Cash', '30 septembre 2023', 'fA Q e', '- 2,49 § CAD', '- 3,49 $ CAD', '- 9,15 $ CAD', '19,62 $ CAD']\n",
      "['Iga', 'achat', 'Cash', 'Metro De La', 'Rousselier', '&', 'Achat', 'Cash', 'Metro De La', 'Rousselier', '&', 'Achat', 'Cash', 'Intéréts', 'Cash', '30 septembre 2023', 'fA Q e', '- 2,49 § CAD', '- 3,49 $ CAD', '- 9,15 $ CAD', '19,62 $ CAD']\n",
      "data/WealthSimple/cash/IMG_3591.jpeg\n"
     ]
    }
   ],
   "source": [
    "import re\n",
    "for filename, t in text_dict.items():\n",
    "    print(filename)\n",
    "    for s in t.split(\"\\n\"):\n",
    "        # print(s)\n",
    "        if \"$\" in s:\n",
    "            if s.find(\"-\") == 0:\n",
    "                line = t.split(\"\\n\")[5:] \n",
    "                line = [x for x in line if x !=\"\"]\n",
    "                print(line)\n",
    "                amount_list = [float(x.replace(\"-\", \"\").replace(\"$ CAD\", \"\").replace(\",\", \".\").replace(\" \", \"\")) \n",
    "                                     for x in t.split(\"\\n\")[5:] if \"$\" in x]\n",
    "                no_amount_list = [x for x in t.split(\"\\n\")[5:] if \"$\" not in x]\n",
    "                empty_space_removed = [x for x in no_amount_list if x !=\"\"]\n",
    "                test = \" \".join(empty_space_removed)\n",
    "                # print(test)\n",
    "                \n",
    "                # data_list = [x.strip() for x in test.split(\"Achat Cash\")]\n",
    "                # Regular expression pattern for extracting dates\n",
    "                date_pattern = re.compile(r'\\b\\d{1,2}\\s(?:janvier|février|mars|avril|mai|juin|juillet|août|septembre|octobre|novembre|décembre)\\s\\d{4}\\b', re.IGNORECASE)\n",
    "\n",
    "                # Separate the list into two lists: one with dates and one without\n",
    "                dates = []\n",
    "                non_date_parts = []\n",
    "\n",
    "                for item in data_list:\n",
    "                    match = re.search(date_pattern, item)\n",
    "                    if match:\n",
    "                        dates.append(match.group())\n",
    "                        non_date_parts.append(item.replace(match.group(), '').strip())\n",
    "                    else:\n",
    "                        non_date_parts.append(item)\n",
    "                # print(cash_str_index)\n",
    "                # print(empty_space_removed)\n",
    "                # date_list = [empty_space_removed[i+1] for i in cash_str_index]\n",
    "                # print(date_list)\n",
    "                # remainder = [x for x in empty_space_removed if x not in date_list]\n",
    "                # print(remainder)\n",
    "                # print(date_list)\n",
    "                # print(empty_space_removed)\n",
    "                # pass\n",
    "                # i = t.split(\"\\n\").index(s)\n",
    "                # print(t.split(\"\\n\")[i-10:i], s)\n",
    "            else:\n",
    "                # print(filename)\n",
    "                # print(s)\n",
    "                # print(\"Store:\", s[:s.find(\"-\")].strip(), \"-- Amount\", s[s.find(\"-\")+1:].replace('$', \"\").replace(\"CAD\", \"\").replace(\",\", \".\").strip())\n",
    "                amount = s[s.find(\"-\")+1:].replace('$', \"\").replace(\"CAD\", \"\").replace(\",\", \".\").replace(\" \", \"\").strip()\n",
    "                try:\n",
    "                    float(amount)\n",
    "                except:\n",
    "                    # print(amount)\n",
    "                    pass"
   ]
  },
  {
   "cell_type": "code",
   "execution_count": 22,
   "id": "a72aae4a-06e8-46b7-a575-62b62068c71e",
   "metadata": {},
   "outputs": [
    {
     "name": "stdout",
     "output_type": "stream",
     "text": [
      "4 Rechercher al! © 08:48 com\n",
      "\n",
      "< Cash activité S\n",
      "\n",
      "Marche Toit Rouge - 61,32 $ CAD\n",
      "achat\n",
      "\n",
      "Cash\n",
      "\n",
      "19 octobre 2023\n",
      "\n",
      "Dépat 1 200,00 § CAD\n",
      "6) Transfert électronique de...\n",
      "Cash\n",
      "\n",
      "Dollarama -488$CAD\n",
      "& Achat\n",
      "\n",
      "Cash\n",
      "\n",
      "18 octobre 2023\n",
      "\n",
      "Stm Loge Lionel - 7,00 $ CAD\n",
      "=a Groulx\n",
      "\n",
      "Achat\n",
      "\n",
      "Cash\n",
      "\n",
      "in Q 2 ©\n",
      "\n"
     ]
    }
   ],
   "source": [
    "# Opening the image & storing it in an image object \n",
    "img = Image.open(file) \n",
    "# Passing the image object to image_to_string() function \n",
    "# This function will extract the text from the image \n",
    "text = pytesseract.image_to_string(img) \n",
    "  \n",
    "# Displaying the extracted text \n",
    "print(text)"
   ]
  },
  {
   "cell_type": "code",
   "execution_count": 5,
   "id": "cd0882f3-5edc-4777-900f-830a8874bef7",
   "metadata": {},
   "outputs": [
    {
     "name": "stdout",
     "output_type": "stream",
     "text": [
      "4 Rechercher al! > 08:48 com\n",
      "\n",
      "< Cash activité =\n",
      "\n",
      "Marche Toit Rouge - 61,32 $ CAD\n",
      "=| Achat\n",
      "\n",
      "Cash\n",
      "\n",
      "19 octobre 2023\n",
      "\n",
      "Dépot 1 200,00 § CAD\n",
      "6) Transfert électronique de...\n",
      "Cash\n",
      "\n",
      "Dollarama -488$CAD\n",
      "& Achat\n",
      "\n",
      "Cash\n",
      "\n",
      "18 octobre 2023\n",
      "\n",
      "Stm Loge Lionel - 7,00 $ CAD\n",
      "=a Groulx\n",
      "\n",
      "Achat\n",
      "\n",
      "Cash\n",
      "\n",
      "fi Q e ©\n",
      "\n"
     ]
    }
   ],
   "source": [
    "import pytesseract\n",
    "\n",
    "from PIL import Image\n",
    "\n",
    "\n",
    "img_path1 = file\n",
    "text = pytesseract.image_to_string(img_path1,lang='eng')\n",
    "print(text)"
   ]
  },
  {
   "cell_type": "code",
   "execution_count": null,
   "id": "302af54d-d247-4324-90bc-8592d647e088",
   "metadata": {},
   "outputs": [],
   "source": []
  }
 ],
 "metadata": {
  "kernelspec": {
   "display_name": "Django Shell-Plus",
   "language": "python",
   "name": "django_extensions"
  },
  "language_info": {
   "codemirror_mode": {
    "name": "ipython",
    "version": 3
   },
   "file_extension": ".py",
   "mimetype": "text/x-python",
   "name": "python",
   "nbconvert_exporter": "python",
   "pygments_lexer": "ipython3",
   "version": "3.9.18"
  }
 },
 "nbformat": 4,
 "nbformat_minor": 5
}
