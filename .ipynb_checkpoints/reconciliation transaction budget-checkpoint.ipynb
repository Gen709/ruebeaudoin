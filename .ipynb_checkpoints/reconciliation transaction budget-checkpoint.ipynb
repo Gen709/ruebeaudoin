{
 "cells": [
  {
   "cell_type": "markdown",
   "id": "fe23366e-9a63-47ec-a850-ba58dfec98b5",
   "metadata": {},
   "source": [
    "# Imports"
   ]
  },
  {
   "cell_type": "code",
   "execution_count": 1,
   "id": "046363b4-c616-4e44-8df8-f71d13c8c6de",
   "metadata": {},
   "outputs": [],
   "source": [
    "from investment.models import Transaction\n",
    "from investment.utils import get_date_parameter\n",
    "\n",
    "from django.contrib.auth.models import User \n",
    "from django.db.models.functions import TruncMonth\n",
    "\n",
    "from datetime import datetime, timedelta\n",
    "from dateutil.relativedelta import relativedelta\n",
    "import calendar"
   ]
  },
  {
   "cell_type": "code",
   "execution_count": 57,
   "id": "1be1b507-2c22-43ae-9b12-845d44e3d6a9",
   "metadata": {},
   "outputs": [],
   "source": [
    "evaluation_date = \"2023-12-31\"\n",
    "user = User.objects.get(id=1)"
   ]
  },
  {
   "cell_type": "code",
   "execution_count": 58,
   "id": "42bea572-4788-4307-9e65-5ed6a8401897",
   "metadata": {},
   "outputs": [
    {
     "name": "stdout",
     "output_type": "stream",
     "text": [
      "2023-01-01 00:00:00 2023-12-31 00:00:00-05:00\n",
      "<QuerySet [<Transaction: 2023-01-06  vin  25.0>, <Transaction: 2023-01-08  vin  14.35>, <Transaction: 2023-02-07  vin  216.29>, <Transaction: 2023-02-12  vin  16.65>, <Transaction: 2023-03-04  vin  30.0>, <Transaction: 2023-03-09  vin  23.4>, <Transaction: 2023-03-11  vin  3.77>, <Transaction: 2023-03-16  vin  18.9>, <Transaction: 2023-03-18  vin  27.95>, <Transaction: 2023-03-23  vin  18.15>, <Transaction: 2023-03-25  vin  26.6>, <Transaction: 2023-04-13  vin  29.25>, <Transaction: 2023-04-14  vin  68.4>, <Transaction: 2023-04-15  vin  15.65>, <Transaction: 2023-04-16  vin  35.05>, <Transaction: 2023-04-20  vin  16.95>, <Transaction: 2023-04-21  vin  45.85>, <Transaction: 2023-04-21  vin  18.3>, <Transaction: 2023-04-25  vin  16.95>, <Transaction: 2023-04-29  vin  44.45>, '...(remaining elements truncated)...']> 3441.42 3380.0\n"
     ]
    },
    {
     "name": "stderr",
     "output_type": "stream",
     "text": [
      "/Users/Louis-Philippe/Sites/709ruebeaudoin/myvenv/lib/python3.9/site-packages/django/db/models/fields/__init__.py:1534: RuntimeWarning: DateTimeField Transaction.date received a naive datetime (2023-01-01 00:00:00) while time zone support is active.\n",
      "  warnings.warn(\n"
     ]
    }
   ],
   "source": [
    "\n",
    "def get_transactions(user, budget_id, evaluation_date, period=\"YTD\"):\n",
    "    budget_item = Budget.objects.get(spending_item_name=budget_id)\n",
    "    date_dict = get_date_parameter(evaluation_date)\n",
    "    evaluation_date = date_dict[\"evaluation_date\"]\n",
    "    year = date_dict[\"evaluation_date\"].year\n",
    "    month = date_dict[\"evaluation_date\"].month\n",
    "    day = date_dict[\"evaluation_date\"].day\n",
    "    \n",
    "    if period == \"MTD\":\n",
    "        beginign_of_period = date_dict[\"b\"]\n",
    "        budgeted = budget_item.calculate_amount() * day / calendar.monthrange(year, month)[1]\n",
    "    if period == \"YTD\":\n",
    "        beginign_of_period = datetime(evaluation_date.year, 1, 1)\n",
    "        budgeted = budget_item.calculate_amount() * (date_dict[\"evaluation_date\"].month + day / calendar.monthrange(year, month)[1])\n",
    "    print(beginign_of_period, evaluation_date)\n",
    "    transactions = Transaction.objects.filter(user__id=user.id, \n",
    "                                              category__id=budget_item.id, \n",
    "                                              date__range=(beginign_of_period, evaluation_date)).order_by('date')\n",
    "\n",
    "    total = round(sum(x.amount for x in transactions), 2)\n",
    "    budgeted = round(budgeted, 2)\n",
    "   \n",
    "    return transactions, total, budgeted\n",
    "        \n",
    "    \n",
    "\n",
    "\n",
    "transactions, total, budgeted = get_transactions(user, \"vin\", evaluation_date, period=\"YTD\")\n",
    "print(transactions, total, budgeted)"
   ]
  },
  {
   "cell_type": "code",
   "execution_count": null,
   "id": "e284e6cb-fe49-4beb-b993-260a6ec23f53",
   "metadata": {},
   "outputs": [],
   "source": [
    "date_dict = get_date_parameter(evaluation_date)\n",
    "{k: datetime.strftime(v.date(), \"%Y-%m-%d\") for k, v in date_dict.items()}"
   ]
  },
  {
   "cell_type": "code",
   "execution_count": null,
   "id": "28b23c34-846b-4546-9792-9af71111d7d0",
   "metadata": {},
   "outputs": [],
   "source": [
    "ratio = date_dict[\"evaluation_date\"].day / calendar.monthrange(date_dict[\"evaluation_date\"].year, date_dict[\"evaluation_date\"].month)[1]\n",
    "ratio"
   ]
  },
  {
   "cell_type": "code",
   "execution_count": null,
   "id": "0dd72cb6-e7a6-4ca6-a75c-41c73bbab910",
   "metadata": {},
   "outputs": [],
   "source": [
    "t = Transaction.objects.all()\n",
    "visa_transaction = VisaDesjardinsTransaction.objects.all()\n",
    "compte_transaction = CompteDesjardins.objects.all()\n",
    "print(f\"there aee a total of {len(t)} transaction of which {len(visa_transaction)} are visa transaction and {len(compte_transaction)} are current compte\")"
   ]
  },
  {
   "cell_type": "code",
   "execution_count": null,
   "id": "bebf0bb2-3909-497b-b07f-7eb853c2ed59",
   "metadata": {},
   "outputs": [],
   "source": [
    "begining_of_last_month_date = date_dict['previous_month_eom_date']\n",
    "begining_of_last_month_date_str = datetime.strftime(begining_of_last_month_date, \"%Y-%m-%d\")\n",
    "# get the amount spent up until the end of last month\n",
    "spent_amount_dict={}\n",
    "for t in Transaction.objects.exclude(category__isnull=True).filter(user__id=user.id, \n",
    "                                                                   date__lte=begining_of_last_month_date,\n",
    "                                                                   category__accounting_category__id=2):\n",
    "    if t.category in spent_amount_dict.keys():\n",
    "        spent_amount_dict[t.category] += t.amount\n",
    "    else:\n",
    "        spent_amount_dict[t.category] = t.amount\n",
    "\n",
    "# get the amount spent this month\n",
    "this_month_spent_amount_dict={}\n",
    "for t in Transaction.objects.exclude(category__isnull=True).filter(user__id=user.id, \n",
    "                                                                   date__gt=begining_of_last_month_date,\n",
    "                                                                   category__accounting_category__id=2):\n",
    "    if t.category in this_month_spent_amount_dict.keys():\n",
    "        this_month_spent_amount_dict[t.category] += t.amount\n",
    "    else:\n",
    "        this_month_spent_amount_dict[t.category] = t.amount\n",
    "    \n",
    "\n",
    "print(f\"At the begining of the month, up to {begining_of_last_month_date_str}, these amount where spent\\n\")\n",
    "data_dict = {\"budget_data\":{}}\n",
    "for spending_item in Budget.objects.filter(accounting_category__id=2):\n",
    "    data_dict[\"budget_data\"][spending_item] = {\"carried_over_from_previous_months\": round(spending_item.calculate_amount() * begining_of_last_month_date.month - spent_amount_dict.get(spending_item, 0), 2), \n",
    "                                   \"bi_weekly_amount\": spending_item.calculate_amount(frequency_name=\"Bi-Weekly\"), \n",
    "                                   \"Cummulative amount\": round(spending_item.calculate_amount() * begining_of_last_month_date.month - spent_amount_dict.get(spending_item, 0), 2), \n",
    "                                   \"spent_this_month\": this_month_spent_amount_dict.get(spending_item, 0),\n",
    "                                   \"remainder_for_the_month\": round(spending_item.calculate_amount() + spending_item.calculate_amount() * begining_of_last_month_date.month - spent_amount_dict.get(spending_item, 0) - this_month_spent_amount_dict.get(spending_item, 0), 2) \n",
    "                                  }\n",
    "    # print(spending_item.spending_item_name,\"\\n\",\n",
    "    #       \"---- Budgeté\", round(spending_item.calculate_amount() * begining_of_last_month_date.month, 2),\"\\n\",\n",
    "    #       \"---- Depensé\", round(spent_amount_dict.get(spending_item, 0), 2),\"\\n\",\n",
    "    #       \"---- Différence\", round(spending_item.calculate_amount() * begining_of_last_month_date.month - spent_amount_dict.get(spending_item, 0), 2), \"\\n\",\n",
    "    #       \"---- Budgeté ce mois ci\", round(spending_item.calculate_amount(), 2), \"\\n\",\n",
    "    #       \"---- Cumulé\", round(spending_item.calculate_amount() + spending_item.calculate_amount() * begining_of_last_month_date.month - spent_amount_dict.get(spending_item, 0), 2), \"\\n\",\n",
    "    #       \"---- Depensé ce mois\", this_month_spent_amount_dict.get(spending_item, 0), \"\\n\")\n",
    "\n",
    "\n"
   ]
  },
  {
   "cell_type": "code",
   "execution_count": null,
   "id": "6ac504e5-da95-4973-bc26-85189e17cb9c",
   "metadata": {},
   "outputs": [],
   "source": [
    "def get_current_month_variable_expenses_reconciliation2(evaluation_date):\n",
    "    user = User.objects.get(id=1)\n",
    "    evaluation_date = evaluation_date\n",
    "    date_dict = get_date_parameter(evaluation_date)\n",
    "    evaluation_date =  date_dict['evaluation_date']\n",
    "    begining_of_last_month_date = date_dict['previous_month_eom_date']\n",
    "    ratio = evaluation_date.day / calendar.monthrange(evaluation_date.today().year, evaluation_date.today().month)[1]\n",
    "    data_dict = {\"ratio\": ratio, \n",
    "                 \"budget_data\":{}\n",
    "                 }\n",
    "    data_dict.update(date_dict)\n",
    "    # date de la fin de mois\n",
    "    \n",
    "    # get the amount spent up until the end of last month\n",
    "    spent_amount_dict={}\n",
    "    for t in Transaction.objects.exclude(category__isnull=True).filter(user__id=user.id, \n",
    "                                                                    date__lte=begining_of_last_month_date,\n",
    "                                                                    category__accounting_category__id=2):\n",
    "        if t.category in spent_amount_dict.keys():\n",
    "            spent_amount_dict[t.category] += t.amount\n",
    "        else:\n",
    "            spent_amount_dict[t.category] = t.amount\n",
    "    # get the amount spent this month\n",
    "    this_month_spent_amount_dict={}\n",
    "    for t in Transaction.objects.exclude(category__isnull=True).filter(user__id=user.id, \n",
    "                                                                    date__range=(begining_of_last_month_date, date_dict['evaluation_date']),\n",
    "                                                                    category__accounting_category__id=2):\n",
    "        if t.category in this_month_spent_amount_dict.keys():\n",
    "            this_month_spent_amount_dict[t.category] += t.amount\n",
    "        else:\n",
    "            this_month_spent_amount_dict[t.category] = t.amount\n",
    "        \n",
    "    for spending_item in Budget.objects.filter(accounting_category__id=2):\n",
    "        # monthly budget * number of months as of last month = Expected expence\n",
    "        # spent_amount_dict = actual expence \n",
    "        carried_over_from_previous_months = round(spending_item.calculate_amount() * begining_of_last_month_date.month - \n",
    "                                                  spent_amount_dict.get(spending_item, 0), 2)\n",
    "        \n",
    "        data_dict[\"budget_data\"][spending_item] = {\"carried_over_from_previous_months\": carried_over_from_previous_months, \n",
    "                                                   \"bi_weekly_amount\": spending_item.calculate_amount(frequency_name=\"Bi-Weekly\"), \n",
    "                                                   \"Cummulative amount\": carried_over_from_previous_months, \n",
    "                                                   \"spent_this_month\": this_month_spent_amount_dict.get(spending_item, 0),\n",
    "                                                   \"remainder_for_the_month\": round(spending_item.calculate_amount() + \n",
    "                                                                                    carried_over_from_previous_months - \n",
    "                                                                                    this_month_spent_amount_dict.get(spending_item, 0), 2) \n",
    "                                                }\n",
    "    return data_dict\n",
    "evaluation_date = \"2023-11-16\"\n",
    "data_dict = get_current_month_variable_expenses_reconciliation2(evaluation_date)"
   ]
  },
  {
   "cell_type": "markdown",
   "id": "084997bc-fcad-4e98-bb35-417640a1fa4e",
   "metadata": {},
   "source": []
  },
  {
   "cell_type": "code",
   "execution_count": null,
   "id": "5c2e905a-d56a-4073-9ff2-2aacd621f991",
   "metadata": {},
   "outputs": [],
   "source": [
    "# print(date_dict)\n",
    "spent_amount_dict={}\n",
    "for t in Transaction.objects.exclude(category__isnull=True).filter(user__id=user.id, \n",
    "                                                                   date__lte=date_dict['evaluation_date'],\n",
    "                                                                   category__accounting_category__id=2):\n",
    "    if t.category in spent_amount_dict.keys():\n",
    "        spent_amount_dict[t.category] += t.amount\n",
    "    else:\n",
    "        spent_amount_dict[t.category] = t.amount\n"
   ]
  },
  {
   "cell_type": "markdown",
   "id": "be80ca78-b29a-465d-a98f-9db804f264aa",
   "metadata": {},
   "source": [
    "# Montant reporté des autres mois"
   ]
  },
  {
   "cell_type": "code",
   "execution_count": null,
   "id": "c5916836-35b4-4c05-a57b-fde922b8497f",
   "metadata": {},
   "outputs": [],
   "source": [
    "budget_multiplier = date_dict['previous_month_eom_date'].month\n",
    "budget_multiplier"
   ]
  },
  {
   "cell_type": "code",
   "execution_count": null,
   "id": "785ff64f-8122-4cdf-9aab-33229555364b",
   "metadata": {},
   "outputs": [],
   "source": [
    "{k.spending_item_name: round(k.calculate_amount()*budget_multiplier-v, 2) for k,v in spent_amount_dict.items() if k}\n"
   ]
  },
  {
   "cell_type": "markdown",
   "id": "7226dabf-2808-44c7-9c02-728ce898af03",
   "metadata": {},
   "source": [
    "# Montant dépensé à date pour le mois"
   ]
  },
  {
   "cell_type": "code",
   "execution_count": null,
   "id": "7c06479d-f6bb-40bd-b68c-1ab30733bbb7",
   "metadata": {},
   "outputs": [],
   "source": [
    "{k.spending_item_name: round(k.calculate_amount()*budget_multiplier-v, 2) for k,v in spent_amount_dict.items() if k}\n",
    "\n"
   ]
  },
  {
   "cell_type": "code",
   "execution_count": null,
   "id": "7f80a2c2-d53e-491f-bccd-23dc5c3677da",
   "metadata": {},
   "outputs": [],
   "source": []
  },
  {
   "cell_type": "code",
   "execution_count": null,
   "id": "1547ece2-2e59-4aa8-9243-e337c80aa36d",
   "metadata": {},
   "outputs": [],
   "source": [
    "{k.spending_item_name: round(k.calculate_amount()*budget_multiplier - v, 2) for k,v in spent_amount_dict.items() if k}"
   ]
  },
  {
   "cell_type": "code",
   "execution_count": null,
   "id": "e69828b4-b498-4d21-9d01-ade47fde39ff",
   "metadata": {},
   "outputs": [],
   "source": [
    "{k.spending_item_name: (round(k.calculate_amount() * budget_multiplier), v) for k, v in spent_amount_dict.items() if k}\n",
    "\n"
   ]
  },
  {
   "cell_type": "code",
   "execution_count": null,
   "id": "4920757e-c465-4819-ad54-1202b87cac65",
   "metadata": {},
   "outputs": [],
   "source": [
    "print(date_dict['evaluation_date'])\n",
    "[(t.amount, t.merchant )for t in Transaction.objects.exclude(date__gt=date_dict['evaluation_date'], \n",
    "                                                             category__isnull=True).filter(user__id=user.id, \n",
    "                                                                                           category__spending_item_name=\"Internet\", \n",
    "                                                                                           date__lte=date_dict['evaluation_date']).order_by('date')]\n",
    "\n",
    "\n"
   ]
  },
  {
   "cell_type": "markdown",
   "id": "b9be75bf-4551-4b39-b445-eb1bccd0be95",
   "metadata": {},
   "source": [
    "# transactionts_by_budget_item_view"
   ]
  },
  {
   "cell_type": "code",
   "execution_count": null,
   "id": "5db1390e-e363-4bb8-b743-4938f922a5d8",
   "metadata": {},
   "outputs": [],
   "source": [
    "def transactionts_by_budget_item_view(budget_item_id, evaluation_date):\n",
    "\n",
    "    date_dict = get_date_parameter(evaluation_date)\n",
    "    \n",
    "    budget_item = Budget.objects.get(id=budget_item_id)\n",
    "\n",
    "    all_transactions = Transaction.objects.filter(user__id=user.id, \n",
    "                                                category__id=budget_item_id, # get all transaction for that budget item\n",
    "                                                date__lte=((date_dict['e']))\n",
    "                                                ).order_by('date')\n",
    "    all_transactions_as_of_last_month = Transaction.objects.filter(user__id=user.id, \n",
    "                                                category__id=budget_item_id, # get all transaction for that budget item\n",
    "                                                date__lte=(date_dict['previous_month_eom_date'])\n",
    "                                                ).order_by('date')\n",
    "    this_month_transaction = Transaction.objects.filter(user__id=user.id, \n",
    "                                                category__id=budget_item_id, # get all transaction for that budget item\n",
    "                                                date__range=(date_dict['previous_month_eom_date'], date_dict['e'])\n",
    "                                                ).order_by('date')\n",
    "    \n",
    "    next_month_transactions_exists = True if date_dict[\"evaluation_date\"] < timezone.make_aware(datetime.today()) else False\n",
    "    \n",
    "    previous_month_transactions_exists = True if date_dict[\"evaluation_date\"] > timezone.make_aware(datetime(date_dict[\"evaluation_date\"].year, 1, 1)) else False\n",
    "    \n",
    "    total_spent = round(sum([x.amount for x in all_transactions_as_of_last_month]),2)\n",
    "    \n",
    "    total_budgeted = budget_item.calculate_amount() * date_dict[\"previous_month_eom_date\"].month if date_dict[\"previous_month_eom_date\"].month != 12 else 0\n",
    "    \n",
    "    carried_over_amount = round(total_budgeted - total_spent, 2)\n",
    "    \n",
    "    current_month_transactions_total = round(sum(x.amount for x in this_month_transaction),2) \n",
    "    \n",
    "    context = {'transaction_total': current_month_transactions_total, \n",
    "                'transactions': this_month_transaction, \n",
    "                'budget_item': budget_item, \n",
    "                \"previous_month_transfer\": carried_over_amount, \n",
    "                'previous_month_exists': previous_month_transactions_exists, \n",
    "                'next_month_exists': next_month_transactions_exists, \n",
    "                'previous_month_url': reverse('transactions-by-budget-titem-view', kwargs={'budget_item_id': budget_item_id}), \n",
    "                'next_month_url': reverse('transactions-by-budget-titem-view', kwargs={'budget_item_id': budget_item_id}), \n",
    "                \"difference\": round(budget_item.calculate_amount() + carried_over_amount - current_month_transactions_total, 2)\n",
    "               }\n",
    "    \n",
    "    context.update(date_dict)\n",
    "    \n",
    "    return context"
   ]
  },
  {
   "cell_type": "code",
   "execution_count": null,
   "id": "c7cd3944-bf73-4652-82c1-7bb6fc1f0297",
   "metadata": {},
   "outputs": [],
   "source": [
    "budget_item_id = 809\n",
    "evaluation_date = \"2023-01-16\"\n",
    "transactionts_by_budget_item_view(budget_item_id, evaluation_date)"
   ]
  },
  {
   "cell_type": "code",
   "execution_count": null,
   "id": "4e6e507b-48fd-4860-bf5e-869071db8ab8",
   "metadata": {},
   "outputs": [],
   "source": [
    "category_null = Transaction.objects.filter(category__isnull==True)"
   ]
  },
  {
   "cell_type": "code",
   "execution_count": null,
   "id": "ac846583-adcf-4678-8952-c24308aa2b61",
   "metadata": {},
   "outputs": [],
   "source": [
    "len(category_null)"
   ]
  },
  {
   "cell_type": "code",
   "execution_count": null,
   "id": "66bb34d0-8e76-488b-8dba-a166923b2686",
   "metadata": {},
   "outputs": [],
   "source": [
    "paie_all = Transaction.objects.filter(merchant__icontains=\"Paie\")"
   ]
  },
  {
   "cell_type": "code",
   "execution_count": null,
   "id": "3dfb8807-a771-42e8-98f9-1c00051fd6c6",
   "metadata": {},
   "outputs": [],
   "source": [
    "len(paie_all)"
   ]
  },
  {
   "cell_type": "code",
   "execution_count": null,
   "id": "aa89d331-35c4-4946-993b-b66f56ade64a",
   "metadata": {},
   "outputs": [],
   "source": [
    "problematic_transaction = paie_all.exclude(merchant__icontains=\"C.S.S. de la Pointe\")"
   ]
  },
  {
   "cell_type": "code",
   "execution_count": null,
   "id": "093e5901-aae1-4f37-a957-c0ecf1a0cfca",
   "metadata": {},
   "outputs": [],
   "source": [
    "len(problematic_transaction)"
   ]
  },
  {
   "cell_type": "code",
   "execution_count": null,
   "id": "5cf60c8c-f85e-4b43-b04b-949fcb4dd642",
   "metadata": {},
   "outputs": [],
   "source": [
    "for t in problematic_transaction:\n",
    "    t.category = None\n",
    "    t.save()"
   ]
  },
  {
   "cell_type": "code",
   "execution_count": null,
   "id": "2979ad1c-540c-4024-b61d-dab8e2c959e6",
   "metadata": {},
   "outputs": [],
   "source": [
    "def budget_item_transaction_monthly_recon(budget_item, date_dict):\n",
    "\n",
    "    all_transactions_as_of_last_month = Transaction.objects.filter(user__id=user.id, \n",
    "                                                category__id=budget_item.id, # get all transaction for that budget item\n",
    "                                                date__lte=(date_dict['previous_month_eom_date'])\n",
    "                                                ).order_by('date')\n",
    "    this_month_transaction = Transaction.objects.filter(user__id=user.id, \n",
    "                                                category__id=budget_item.id, # get all transaction for that budget item\n",
    "                                                date__range=(date_dict['previous_month_eom_date'], date_dict['e'])\n",
    "                                                ).order_by('date')\n",
    "    \n",
    "    next_month_transactions_exists = True if date_dict[\"evaluation_date\"] < timezone.make_aware(datetime.today()) else False\n",
    "    \n",
    "    previous_month_transactions_exists = True if date_dict[\"evaluation_date\"] > timezone.make_aware(datetime(date_dict[\"evaluation_date\"].year, 1, 1)) else False\n",
    "    \n",
    "    total_spent = round(sum([x.amount for x in all_transactions_as_of_last_month]),2)\n",
    "    \n",
    "    total_budgeted = budget_item.calculate_amount() * date_dict[\"previous_month_eom_date\"].month if date_dict[\"previous_month_eom_date\"].month != 12 else 0\n",
    "    \n",
    "    carried_over_amount = round(total_budgeted - total_spent, 2)\n",
    "    \n",
    "    current_month_transactions_total = round(sum(x.amount for x in this_month_transaction),2) \n",
    "    \n",
    "    context = {'transaction_total': current_month_transactions_total, \n",
    "                'transactions': this_month_transaction, \n",
    "                'budget_item': budget_item, \n",
    "                \"previous_month_transfer\": carried_over_amount, \n",
    "                'previous_month_exists': previous_month_transactions_exists, \n",
    "                'next_month_exists': next_month_transactions_exists, \n",
    "                'previous_month_url': reverse('transactions-by-budget-titem-view', kwargs={'budget_item_id': budget_item.id}), \n",
    "                'next_month_url': reverse('transactions-by-budget-titem-view', kwargs={'budget_item_id': budget_item.id}), \n",
    "                \"difference\": round(budget_item.calculate_amount() + carried_over_amount - current_month_transactions_total, 2)\n",
    "               }\n",
    "    \n",
    "    return context"
   ]
  },
  {
   "cell_type": "code",
   "execution_count": 2,
   "id": "ae8bd3a3-ac2e-4e3b-8a05-56f6ce872081",
   "metadata": {},
   "outputs": [
    {
     "ename": "NameError",
     "evalue": "name 'budget_item_transaction_monthly_recon' is not defined",
     "output_type": "error",
     "traceback": [
      "\u001b[0;31m---------------------------------------------------------------------------\u001b[0m",
      "\u001b[0;31mNameError\u001b[0m                                 Traceback (most recent call last)",
      "Cell \u001b[0;32mIn [2], line 6\u001b[0m\n\u001b[1;32m      4\u001b[0m date_dict \u001b[38;5;241m=\u001b[39m get_date_parameter(evaluation_date)\n\u001b[1;32m      5\u001b[0m \u001b[38;5;28;01mfor\u001b[39;00m budget_item \u001b[38;5;129;01min\u001b[39;00m Budget\u001b[38;5;241m.\u001b[39mobjects\u001b[38;5;241m.\u001b[39mall():\n\u001b[0;32m----> 6\u001b[0m     data_dict[\u001b[38;5;124m\"\u001b[39m\u001b[38;5;124mbudget_data\u001b[39m\u001b[38;5;124m\"\u001b[39m][budget_item] \u001b[38;5;241m=\u001b[39m \u001b[43mbudget_item_transaction_monthly_recon\u001b[49m(budget_item, date_dict)\n\u001b[1;32m      7\u001b[0m     data_dict[\u001b[38;5;124m\"\u001b[39m\u001b[38;5;124mbudget_data\u001b[39m\u001b[38;5;124m\"\u001b[39m][budget_item]\u001b[38;5;241m.\u001b[39mpop(\u001b[38;5;124m'\u001b[39m\u001b[38;5;124mtransactions\u001b[39m\u001b[38;5;124m'\u001b[39m)\n\u001b[1;32m      8\u001b[0m data_dict\u001b[38;5;241m.\u001b[39mupdate(date_dict)  \n",
      "\u001b[0;31mNameError\u001b[0m: name 'budget_item_transaction_monthly_recon' is not defined"
     ]
    }
   ],
   "source": [
    "evaluation_date = \"2023-09-16\"\n",
    "user = User.objects.get(id=1)\n",
    "data_dict = { \"budget_data\":{}}\n",
    "date_dict = get_date_parameter(evaluation_date)\n",
    "for budget_item in Budget.objects.all():\n",
    "    data_dict[\"budget_data\"][budget_item] = budget_item_transaction_monthly_recon(budget_item, date_dict)\n",
    "    data_dict[\"budget_data\"][budget_item].pop('transactions')\n",
    "data_dict.update(date_dict)  "
   ]
  },
  {
   "cell_type": "code",
   "execution_count": null,
   "id": "8b1fa246-d07f-410f-a315-a29a888fc3f1",
   "metadata": {},
   "outputs": [],
   "source": [
    "data_dict"
   ]
  },
  {
   "cell_type": "code",
   "execution_count": 7,
   "id": "479fa158-79c9-40c2-9b05-4d6201b48905",
   "metadata": {},
   "outputs": [],
   "source": [
    "# views.py\n",
    "\n",
    "from django.http import JsonResponse\n",
    "from django.db.models import Sum\n",
    "from django.db.models.functions import TruncMonth\n",
    "\n",
    "\n",
    "def category_monthly_chart(category_id):\n",
    "    # Query the data\n",
    "    monthly_data = Transaction.objects.filter(\n",
    "        category_id=category_id,\n",
    "        date__year=2023,  # Replace with the desired year\n",
    "    ).annotate(month=TruncMonth('date')).values('month').annotate(total_amount=Sum('amount'))\n",
    "\n",
    "    # Prepare data for Plotly\n",
    "    months_order = ['January', 'February', 'March', 'April', 'May', 'June', 'July', 'August', 'September', 'October', 'November', 'December']\n",
    "\n",
    "    # Create a dictionary to map month names to their order\n",
    "    month_order_dict = {month: i for i, month in enumerate(months_order)}\n",
    "\n",
    "    # Sort the monthly data based on the custom order\n",
    "    monthly_data = sorted(monthly_data, key=lambda entry: month_order_dict[entry['month'].strftime('%B')])\n",
    "\n",
    "    # Extract months and amounts\n",
    "    months = [entry['month'].strftime('%B') for entry in monthly_data]\n",
    "    amounts = [entry['total_amount'] or 0 for entry in monthly_data]\n",
    "\n",
    "    # Prepare data for JsonResponse\n",
    "    chart_data = {'months': months, 'amounts': amounts}\n",
    "\n",
    "    return JsonResponse({'category_id': category_id, 'chart_data': chart_data})\n"
   ]
  },
  {
   "cell_type": "code",
   "execution_count": 8,
   "id": "70bc4efb-4845-4987-95d4-f69639e73891",
   "metadata": {},
   "outputs": [],
   "source": [
    "\n",
    "c = category_monthly_chart(809)"
   ]
  },
  {
   "cell_type": "code",
   "execution_count": 10,
   "id": "99834710-1a11-4d1a-bb2f-177d73582f06",
   "metadata": {},
   "outputs": [
    {
     "data": {
      "text/plain": [
       "b'{\"category_id\": 809, \"chart_data\": {\"months\": [\"January\", \"February\", \"March\", \"April\", \"May\", \"June\", \"July\", \"August\", \"September\", \"October\", \"December\"], \"amounts\": [610.47, 322.16999999999996, 873.5000000000001, 357.85, 678.23, 647.15, 1062.1200000000001, 578.1500000000001, 109.75, 56.42, 256.64]}}'"
      ]
     },
     "execution_count": 10,
     "metadata": {},
     "output_type": "execute_result"
    }
   ],
   "source": [
    "c.content"
   ]
  },
  {
   "cell_type": "code",
   "execution_count": null,
   "id": "1648db93-d731-4148-81cc-13277e702ccd",
   "metadata": {},
   "outputs": [],
   "source": [
    "[{\"model\": \"investment.transaction\", \"pk\": 1003, \"fields\": {\"category\": 852, \n",
    "                                                            \"date\": \"2023-11-17T05:00:00Z\", \n",
    "                                                            \"merchant\": \"APPLE.COM/BILL 866-712-7753 ON\", \n",
    "                                                            \"merchant_2\": 1651, \n",
    "                                                            \"amount\": 1.48, \n",
    "                                                            \"note\": \"\", \n",
    "                                                            \"source\": 3, \n",
    "                                                            \"user\": 2, \n",
    "                                                            \"is_completed\": false\n",
    "                                                           }\n",
    " }]\n",
    "\n",
    "\n",
    "\n",
    "\n",
    "\n",
    "\n"
   ]
  }
 ],
 "metadata": {
  "kernelspec": {
   "display_name": "Django Shell-Plus",
   "language": "python",
   "name": "django_extensions"
  },
  "language_info": {
   "codemirror_mode": {
    "name": "ipython",
    "version": 3
   },
   "file_extension": ".py",
   "mimetype": "text/x-python",
   "name": "python",
   "nbconvert_exporter": "python",
   "pygments_lexer": "ipython3",
   "version": "3.9.18"
  }
 },
 "nbformat": 4,
 "nbformat_minor": 5
}
