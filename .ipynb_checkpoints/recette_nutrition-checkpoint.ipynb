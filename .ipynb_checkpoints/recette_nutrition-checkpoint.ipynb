{
 "cells": [
  {
   "cell_type": "code",
   "execution_count": 20,
   "id": "8d375574-10c3-4b9a-be60-24303ba7db39",
   "metadata": {},
   "outputs": [],
   "source": [
    "import re\n",
    "from recette.models import Recipy"
   ]
  },
  {
   "cell_type": "code",
   "execution_count": 2,
   "id": "9775dc74-6eb9-420e-96b8-d1168d6a40e7",
   "metadata": {},
   "outputs": [],
   "source": [
    "r_qs = Recipy.objects.all()"
   ]
  },
  {
   "cell_type": "code",
   "execution_count": 3,
   "id": "b01f44a6-d12d-47d2-b344-2c43913874cf",
   "metadata": {},
   "outputs": [],
   "source": [
    "r1 = r_qs[0]"
   ]
  },
  {
   "cell_type": "code",
   "execution_count": 5,
   "id": "c1925891-5853-479c-8f48-b76b54a4d564",
   "metadata": {},
   "outputs": [
    {
     "name": "stdout",
     "output_type": "stream",
     "text": [
      "Sonoran-Style Flour Tortillas\n"
     ]
    }
   ],
   "source": [
    "print(r1)"
   ]
  },
  {
   "cell_type": "markdown",
   "id": "eb114404-3107-496a-b1b6-97e0312d278b",
   "metadata": {},
   "source": [
    "## Get ingredients"
   ]
  },
  {
   "cell_type": "code",
   "execution_count": 29,
   "id": "9856722f-9632-43ce-a587-bb87886ad7aa",
   "metadata": {},
   "outputs": [],
   "source": [
    "ingredient_list = [(i.food_name.food_description_f, \n",
    "                    i.qty, i.unit, \n",
    "                    i.conversion_factor.mesure_name.mesure_name_f, \n",
    "                    i.conversion_factor.conversion_factor_value ) \n",
    "                   for i in r1.ingredients_set.all()]\n",
    "# qty \\d / unit \\D"
   ]
  },
  {
   "cell_type": "code",
   "execution_count": 22,
   "id": "a99e1461-526c-417f-8b0f-70ce35e59871",
   "metadata": {},
   "outputs": [
    {
     "data": {
      "text/plain": [
       "[('Sel, table', '1.5', 'teaspoons', '5ml', Decimal('0.06122000')),\n",
       " ('Agent de levage, levure chimique, faible en sodium',\n",
       "  '1.25',\n",
       "  'teaspoons',\n",
       "  '5ml',\n",
       "  Decimal('0.05102000')),\n",
       " ('Eau municipale', '5', 'onces', '125ml', Decimal('1.25211000')),\n",
       " ('Grains céréaliers, farine de blé, blanche, tout usage, blanchie',\n",
       "  '10',\n",
       "  'ounces',\n",
       "  '250ml',\n",
       "  Decimal('1.32079000')),\n",
       " ('Beurre, salé', '3', 'ounces', '250ml', Decimal('2.39856000'))]"
      ]
     },
     "execution_count": 22,
     "metadata": {},
     "output_type": "execute_result"
    }
   ],
   "source": [
    "ingredient_list"
   ]
  },
  {
   "cell_type": "code",
   "execution_count": null,
   "id": "aa92a7fb-a325-46a9-a214-3a960e0823e1",
   "metadata": {},
   "outputs": [],
   "source": []
  }
 ],
 "metadata": {
  "kernelspec": {
   "display_name": "Django Shell-Plus",
   "language": "python",
   "name": "django_extensions"
  },
  "language_info": {
   "codemirror_mode": {
    "name": "ipython",
    "version": 3
   },
   "file_extension": ".py",
   "mimetype": "text/x-python",
   "name": "python",
   "nbconvert_exporter": "python",
   "pygments_lexer": "ipython3",
   "version": "3.9.2"
  }
 },
 "nbformat": 4,
 "nbformat_minor": 5
}
