{
 "cells": [
  {
   "cell_type": "markdown",
   "id": "351e2ca6-51d2-4972-b862-d7e98622a03f",
   "metadata": {},
   "source": [
    "# Budget"
   ]
  },
  {
   "cell_type": "markdown",
   "id": "a4e42030-e799-4dfe-aa75-877ca32f5a27",
   "metadata": {},
   "source": [
    "## import"
   ]
  },
  {
   "cell_type": "code",
   "execution_count": 2,
   "id": "6f7a1665-62bd-47ec-b4e3-46fdaa5015ce",
   "metadata": {},
   "outputs": [],
   "source": [
    "from investment.models import Budget, FinancialManager, FinancialInstitutions,\\\n",
    "CashFlowType, CashFlowAccountingCategorie, CashFlowFrequency, SpendingTheme\n",
    "from django.contrib.auth.models import User\n",
    "import csv"
   ]
  },
  {
   "cell_type": "code",
   "execution_count": 3,
   "id": "fb2acaaf-4472-423f-ba0d-d93395d6d69a",
   "metadata": {},
   "outputs": [
    {
     "name": "stdout",
     "output_type": "stream",
     "text": [
      "1\n"
     ]
    }
   ],
   "source": [
    "for u in User.objects.all():\n",
    "    print(u.id)\n",
    "user = User.objects.get(id=1)"
   ]
  },
  {
   "cell_type": "code",
   "execution_count": 4,
   "id": "379afc83-8a74-472c-8969-03a2901739f2",
   "metadata": {
    "tags": []
   },
   "outputs": [
    {
     "data": {
      "text/plain": [
       "(0, {})"
      ]
     },
     "execution_count": 4,
     "metadata": {},
     "output_type": "execute_result"
    }
   ],
   "source": [
    "Budget.objects.all().delete()"
   ]
  },
  {
   "cell_type": "code",
   "execution_count": 5,
   "id": "3940dd66-c00b-4a0f-b79e-fb1ca89e3849",
   "metadata": {
    "tags": []
   },
   "outputs": [],
   "source": [
    "import chardet\n",
    "file_path = 'data/BUdget.csv'\n",
    "data_list = []\n",
    "with open(file_path, 'rb') as rawdata:\n",
    "    result = chardet.detect(rawdata.read())\n",
    "# with open(file_path, 'r', encoding='utf-8-sig') as csvfile:\n",
    "with open(file_path, 'r', encoding=result['encoding']) as csvfile:\n",
    "    # Create a DictReader object\n",
    "    csv_reader = csv.DictReader(csvfile)\n",
    "    # Iterate through each row (each row is a dictionary)\n",
    "    for row in csv_reader:\n",
    "        # Remove \\ufe from the start of each value\n",
    "        # cleaned_row = {key: value.replace('\\ufe', '') for key, value in row.items()}\n",
    "        # print(row)  # Print each row (dictionary)\n",
    "        data_list.append(row)"
   ]
  },
  {
   "cell_type": "code",
   "execution_count": 6,
   "id": "1e3cd86a-6f4a-4722-9b88-768552907886",
   "metadata": {},
   "outputs": [
    {
     "name": "stdout",
     "output_type": "stream",
     "text": [
      "logement\n",
      "logement\n",
      "logement\n",
      "logement\n",
      "divertissement\n",
      "nourriture\n",
      "logement\n",
      "logement\n",
      "nourriture\n",
      "self-care\n",
      "self-care\n",
      "Vêtements\n",
      "self-care\n",
      "alchool et restaurant\n",
      "alchool et restaurant\n",
      "alchool et restaurant\n",
      "divertissement\n",
      "divertissement\n",
      "divertissement\n",
      "enfants\n",
      "enfants\n",
      "enfants\n",
      "enfants\n",
      "enfants\n",
      "transport\n",
      "transport\n",
      "transport\n",
      "transport\n",
      "transport\n",
      "transport\n"
     ]
    }
   ],
   "source": [
    "for data in data_list:\n",
    "    b = Budget()\n",
    "    for k,v in data.items():\n",
    "        if k == 'amount':\n",
    "            v = abs(float(v.replace(\",\", \"\").replace(\"(\", \"\").replace(\")\", \"\")))\n",
    "        if k == 'financial_institution':\n",
    "            # print(v)\n",
    "            v = FinancialInstitutions.objects.get(name=v)\n",
    "        if k == 'cost_type':\n",
    "            v = CashFlowType.objects.get(name=v)\n",
    "        if k == 'accounting_category':\n",
    "            v = CashFlowAccountingCategorie.objects.get(name=v)\n",
    "            # print(v)\n",
    "        if k == 'frequency':\n",
    "            v = CashFlowFrequency.objects.get(name=v)\n",
    "        if k == 'spending_theme':\n",
    "            if v != \"\":\n",
    "                print(v)\n",
    "                v = SpendingTheme.objects.get(name=v)\n",
    "            else:\n",
    "                v= None\n",
    "            # print(v)\n",
    "            \n",
    "        setattr(b, k, v)\n",
    "    setattr(b, 'owner', user)\n",
    "    print(b)\n",
    "    # b.save()"
   ]
  },
  {
   "cell_type": "code",
   "execution_count": 7,
   "id": "8706d42a-a222-4280-abbd-b41543d24a0d",
   "metadata": {},
   "outputs": [],
   "source": [
    "fm = FinancialManager(user=user)\n"
   ]
  },
  {
   "cell_type": "markdown",
   "id": "6eab29c7-4475-4a92-b303-658510ad2e78",
   "metadata": {},
   "source": [
    "## Revenus, Depenses, Epargne"
   ]
  },
  {
   "cell_type": "markdown",
   "id": "75a59fc8-3b00-4c91-99c8-88b3f256fb92",
   "metadata": {},
   "source": [
    "### Détail"
   ]
  },
  {
   "cell_type": "code",
   "execution_count": 8,
   "id": "0280927c-4be4-471e-90e4-95d2f3ff7e0e",
   "metadata": {},
   "outputs": [
    {
     "name": "stdout",
     "output_type": "stream",
     "text": [
      "Amortization\n",
      "******* voiture 50000 dans 5 ans 833.33\n",
      "******* Pneus voiture 4 ans 1000 25.0\n",
      "Revenus\n",
      "******* Paye 6500.0\n",
      "Expenses\n",
      "******* Hypothèque (interet) 977.17\n",
      "******* Hydro 168.29\n",
      "******* assurances 166.15\n",
      "******* Internet 34.49\n",
      "******* Netflix 6.89\n",
      "******* epicerie 650.0\n",
      "******* Taxe scholaire 33.33\n",
      "******* Taxe municipales 233.33\n",
      "******* Les Fraiches 60.0\n",
      "******* Estheticienne 80.0\n",
      "******* Cheveux 25.0\n",
      "******* Vetement Genevieve 41.67\n",
      "******* Pharmacie 16.67\n",
      "******* Restaurant 83.33\n",
      "******* vie sociale 150.0\n",
      "******* vin 260.0\n",
      "******* Voyages 583.33\n",
      "******* Massages 20.0\n",
      "******* Cadeau 33.33\n",
      "******* Nourriture Cochons 30.0\n",
      "******* Frais garde 200.0\n",
      "******* Vetement Enfants 25.0\n",
      "******* Frais scholaires 20.83\n",
      "******* Activité Enfants 166.67\n",
      "******* Transport (electricité / parking / metro-bus) 25.0\n",
      "******* imprévues / auto 300.0\n",
      "******* Immatriculations de voiture 23.14\n",
      "******* Permis de conduire 7.5\n",
      "Investment\n"
     ]
    }
   ],
   "source": [
    "def get_budget_items_by_accounting_category_dict():\n",
    "    budget = Budget.objects.filter(owner=user)\n",
    "    cash_flow_accountin_type_qs = CashFlowAccountingCategorie.objects.all()\n",
    "    cash_flow_frequency_qs = CashFlowFrequency.objects.all()\n",
    "    result_dict = {}\n",
    "    for cash_flow_accountin_type in cash_flow_accountin_type_qs:\n",
    "        result_dict[cash_flow_accountin_type.name] = [b for b in budget.filter(accounting_category=cash_flow_accountin_type)]\n",
    "    return result_dict    \n",
    "\n",
    "for accounting_category_name, budget_obj_list in get_budget_items_by_accounting_category_dict().items():\n",
    "    print(accounting_category_name)\n",
    "\n",
    "    for budget_obj in budget_obj_list:\n",
    "        print(\"*******\", budget_obj.spending_item_name, budget_obj.calculate_amount())"
   ]
  },
  {
   "cell_type": "markdown",
   "id": "420bcd7b-3bd8-4959-9d8e-fc3bd91b83c9",
   "metadata": {},
   "source": [
    "### Résumé Revenus Dépenses, epargne"
   ]
  },
  {
   "cell_type": "code",
   "execution_count": 9,
   "id": "63a4f8bb-4c53-45fa-a289-7a23d3b0c2fa",
   "metadata": {},
   "outputs": [
    {
     "name": "stdout",
     "output_type": "stream",
     "text": [
      "{'Savings': {'Monthly': 2078.88, 'Yearly': 24946.42, 'Bi-Weekly': 959.5, 'Weekly': 479.72, 'Daily': 68.33999999999997}, 'Amortization': {'Monthly': 858.33, 'Yearly': 10300.0, 'Bi-Weekly': 396.16, 'Weekly': 198.08, 'Daily': 28.22}, 'Revenus': {'Monthly': 6500.0, 'Yearly': 78000.0, 'Bi-Weekly': 3000.0, 'Weekly': 1500.0, 'Daily': 213.7}, 'Expenses': {'Monthly': 4421.12, 'Yearly': 53053.58, 'Bi-Weekly': 2040.5, 'Weekly': 1020.28, 'Daily': 145.36}, 'Investment': {'Monthly': 0, 'Yearly': 0, 'Bi-Weekly': 0, 'Weekly': 0, 'Daily': 0}}\n"
     ]
    }
   ],
   "source": [
    "result_dict = {}\n",
    "result_dict[\"Savings\"] = {}\n",
    "total_expenses = 0\n",
    "total_revenus = 0\n",
    "cash_flow_frequency_qs = CashFlowFrequency.objects.all()\n",
    "for accounting_category, budget_obj_list in get_budget_items_by_accounting_category_dict().items():\n",
    "    result_dict[accounting_category]={}\n",
    "    for cash_flow_frequency in cash_flow_frequency_qs:\n",
    "        amount = round(sum([b.calculate_amount(frequency_name=cash_flow_frequency.name) for b in budget_obj_list]), 2)\n",
    "        result_dict[accounting_category][cash_flow_frequency.name] = amount\n",
    "        if cash_flow_frequency.name not in result_dict[\"Savings\"].keys():\n",
    "            result_dict[\"Savings\"][cash_flow_frequency.name]=0\n",
    "        elif accounting_category == \"Revenus\":\n",
    "            result_dict[\"Savings\"][cash_flow_frequency.name] += amount\n",
    "        elif accounting_category in [\"Expenses\", \"Amortization\"]:\n",
    "            result_dict[\"Savings\"][cash_flow_frequency.name] -= amount\n",
    "            \n",
    "        \n",
    "        \n",
    "        \n",
    "\n",
    "print(result_dict)"
   ]
  },
  {
   "cell_type": "markdown",
   "id": "5c853f22-a484-4f1b-80ba-3835d5d4fb7b",
   "metadata": {},
   "source": [
    "## Transferts aux Institutions financieres"
   ]
  },
  {
   "cell_type": "code",
   "execution_count": 10,
   "id": "1d18fdfb-9e28-418e-8052-948a69389f14",
   "metadata": {},
   "outputs": [
    {
     "data": {
      "text/plain": [
       "{'Banque Nationale du Canada': {'Monthly': 0,\n",
       "  'Yearly': 0,\n",
       "  'Bi-Weekly': 0,\n",
       "  'Weekly': 0,\n",
       "  'Daily': 0},\n",
       " 'Desjardins': {'Monthly': 1799.66,\n",
       "  'Yearly': 21595.84,\n",
       "  'Bi-Weekly': 830.6,\n",
       "  'Weekly': 415.3,\n",
       "  'Daily': 59.17},\n",
       " 'Tangerine': {'Monthly': 0,\n",
       "  'Yearly': 0,\n",
       "  'Bi-Weekly': 0,\n",
       "  'Weekly': 0,\n",
       "  'Daily': 0},\n",
       " 'Wealthsimple': {'Monthly': 2621.46,\n",
       "  'Yearly': 31457.74,\n",
       "  'Bi-Weekly': 1209.9,\n",
       "  'Weekly': 604.98,\n",
       "  'Daily': 86.19}}"
      ]
     },
     "execution_count": 10,
     "metadata": {},
     "output_type": "execute_result"
    }
   ],
   "source": [
    "result_dict = {}\n",
    "for financial_institution in FinancialInstitutions.objects.all():\n",
    "    result_dict[financial_institution.name] = {}\n",
    "    for cash_flow_frequency in CashFlowFrequency.objects.all():\n",
    "        result_dict[financial_institution.name][cash_flow_frequency.name] = round(sum([b.calculate_amount(frequency_name=cash_flow_frequency.name) \n",
    "                                                                                 for b in Budget.objects.filter(financial_institution=financial_institution, \n",
    "                                                                                                                accounting_category__id = 2)]), 2)\n",
    "        \n",
    "result_dict"
   ]
  },
  {
   "cell_type": "code",
   "execution_count": 11,
   "id": "da082d7f-3b02-4baf-b347-8ccb0514c77b",
   "metadata": {},
   "outputs": [
    {
     "data": {
      "text/plain": [
       "{'Banque Nationale du Canada': {'Monthly': 0,\n",
       "  'Yearly': 0,\n",
       "  'Bi-Weekly': 0,\n",
       "  'Weekly': 0,\n",
       "  'Daily': 0},\n",
       " 'Desjardins': {'Monthly': 1799.66,\n",
       "  'Yearly': 21595.84,\n",
       "  'Bi-Weekly': 830.6,\n",
       "  'Weekly': 415.3,\n",
       "  'Daily': 59.17},\n",
       " 'Tangerine': {'Monthly': 0,\n",
       "  'Yearly': 0,\n",
       "  'Bi-Weekly': 0,\n",
       "  'Weekly': 0,\n",
       "  'Daily': 0},\n",
       " 'Wealthsimple': {'Monthly': 2621.46,\n",
       "  'Yearly': 31457.74,\n",
       "  'Bi-Weekly': 1209.9,\n",
       "  'Weekly': 604.98,\n",
       "  'Daily': 86.19}}"
      ]
     },
     "execution_count": 11,
     "metadata": {},
     "output_type": "execute_result"
    }
   ],
   "source": [
    "def get_cash_transfert_to_financial_institutions_dict():\n",
    "    result_dict = {}\n",
    "    for financial_institution in FinancialInstitutions.objects.all():\n",
    "        result_dict[financial_institution.name] = {}\n",
    "        for cash_flow_frequency in CashFlowFrequency.objects.all():\n",
    "            result_dict[financial_institution.name][cash_flow_frequency.name] = round(sum([b.calculate_amount(frequency_name=cash_flow_frequency.name) \n",
    "                                                                                     for b in Budget.objects.filter(financial_institution=financial_institution, \n",
    "                                                                                                                    accounting_category__id = 2)]), 2)\n",
    "    return result_dict\n",
    "get_cash_transfert_to_financial_institutions_dict()"
   ]
  },
  {
   "cell_type": "markdown",
   "id": "6d04bccb-826f-4d11-8473-eb80e6763ae7",
   "metadata": {},
   "source": [
    "### Case Use"
   ]
  },
  {
   "cell_type": "code",
   "execution_count": 12,
   "id": "732aedd2-f5f2-4abd-ac21-d3d0d8ce9029",
   "metadata": {},
   "outputs": [
    {
     "name": "stdout",
     "output_type": "stream",
     "text": [
      "[('Desjardins', 830.6), ('Wealthsimple', 1209.9)]\n"
     ]
    }
   ],
   "source": [
    "def get_non_zero_ct_by_frquency_dict(frequency_name='Bi-Weekly'):\n",
    "    cash_transfer_list = []\n",
    "    for financial_institution_name, frequency_amount in get_cash_transfert_to_financial_institutions_dict().items():\n",
    "        for frequency, amount in frequency_amount.items():\n",
    "            if frequency == frequency_name and amount != 0:\n",
    "                cash_transfer_list.append((financial_institution_name, amount))\n",
    "    return cash_transfer_list\n",
    "                \n",
    "print(get_non_zero_ct_by_frquency_dict())"
   ]
  },
  {
   "cell_type": "markdown",
   "id": "81d168de-f38c-474c-b013-152f6616e585",
   "metadata": {},
   "source": [
    "### Sunburn chart cash transfert"
   ]
  },
  {
   "cell_type": "code",
   "execution_count": 13,
   "id": "371c9bd6-e5d8-4481-9817-4a9387296e8b",
   "metadata": {},
   "outputs": [
    {
     "name": "stdout",
     "output_type": "stream",
     "text": [
      " Desjardins 830.6\n",
      " Wealthsimple 1209.9\n",
      "Desjardins Hypothèque (interet) 451.0\n",
      "Desjardins Hydro 77.67\n",
      "Desjardins assurances 76.68\n",
      "Desjardins Internet 15.92\n",
      "Desjardins Netflix 3.18\n",
      "Desjardins Estheticienne 36.92\n",
      "Desjardins Frais garde 92.31\n",
      "Desjardins Activité Enfants 76.92\n",
      "Wealthsimple epicerie 300.0\n",
      "Wealthsimple Taxe scholaire 15.38\n",
      "Wealthsimple Taxe municipales 107.69\n",
      "Wealthsimple Les Fraiches 27.69\n",
      "Wealthsimple Cheveux 11.54\n",
      "Wealthsimple Vetement Genevieve 19.23\n",
      "Wealthsimple Pharmacie 7.69\n",
      "Wealthsimple Restaurant 38.46\n",
      "Wealthsimple vie sociale 69.23\n",
      "Wealthsimple vin 120.0\n",
      "Wealthsimple Voyages 269.23\n",
      "Wealthsimple Massages 9.23\n",
      "Wealthsimple Cadeau 15.38\n",
      "Wealthsimple Nourriture Cochons 13.85\n",
      "Wealthsimple Vetement Enfants 11.54\n",
      "Wealthsimple Frais scholaires 9.62\n",
      "Wealthsimple Transport (electricité / parking / metro-bus) 11.54\n",
      "Wealthsimple imprévues / auto 138.46\n",
      "Wealthsimple Immatriculations de voiture 10.68\n",
      "Wealthsimple Permis de conduire 3.46\n",
      "Wealthsimple voiture 50000 dans 5 ans 384.62\n",
      "Wealthsimple Pneus voiture 4 ans 1000 11.54\n"
     ]
    }
   ],
   "source": [
    "def graph_non_zero_ct_by_frquency_dict(frequency_name='Bi-Weekly'):\n",
    "    parent_labels = []\n",
    "    parent_values = []\n",
    "    for financial_institution_name, frequency_amount in get_cash_transfert_to_financial_institutions_dict().items():\n",
    "        for frequency, amount in frequency_amount.items():\n",
    "            if frequency == frequency_name and amount != 0:\n",
    "                parent_labels.append(financial_institution_name)\n",
    "                parent_values.append(amount)\n",
    "                \n",
    "    child_labels = []\n",
    "    child_values = []   \n",
    "    for budget_item in Budget.objects.filter(owner__id=user.id).exclude(accounting_category__id=1).order_by('financial_institution'):\n",
    "        if budget_item.spending_item_name != \"Paye\":\n",
    "            child_labels.append((budget_item.financial_institution, budget_item.spending_item_name))\n",
    "            child_values.append(budget_item.calculate_amount(frequency_name=frequency_name))\n",
    "            # print(budget_item.financial_institution, budget_item.spending_item_name, budget_item.calculate_amount(frequency_name=frequency_name))\n",
    "            \n",
    "    parents = [x[0] for x in child_labels]\n",
    "    number_of_parents = len(set(parents))\n",
    "    parents = [\"\"] * number_of_parents + parents\n",
    "    categories = parent_labels + [x[1] for x in child_labels]\n",
    "    values = parent_values + child_values\n",
    "    \n",
    "    return parents, categories, values\n",
    "\n",
    "   \n",
    "        \n",
    "\n",
    "parents, categories, values = graph_non_zero_ct_by_frquency_dict(frequency_name='Bi-Weekly')\n",
    "\n",
    "for parent, label, value in zip(parents, categories, values):\n",
    "    print(parent, label, value)"
   ]
  },
  {
   "cell_type": "code",
   "execution_count": 14,
   "id": "2a9f54ed-a066-4811-9407-77afed347bf6",
   "metadata": {},
   "outputs": [
    {
     "name": "stdout",
     "output_type": "stream",
     "text": [
      "{'Desjardins': [('Activité Enfants', 76.92), ('Hypothèque (interet)', 451.0), ('Frais garde', 92.31), ('Hydro', 77.67), ('assurances', 76.68), ('Estheticienne', 36.92), ('Internet', 15.92), ('Netflix', 3.18)], 'Wealthsimple': [('voiture 50000 dans 5 ans', 384.62), ('Voyages', 269.23), ('Taxe municipales', 107.69), ('Restaurant', 38.46), ('Vetement Genevieve', 19.23), ('Taxe scholaire', 15.38), ('Cadeau', 15.38), ('epicerie', 300.0), ('Vetement Enfants', 11.54), ('Transport (electricité / parking / metro-bus)', 11.54), ('imprévues / auto', 138.46), ('Pneus voiture 4 ans 1000', 11.54), ('Immatriculations de voiture', 10.68), ('Frais scholaires', 9.62), ('Massages', 9.23), ('Pharmacie', 7.69), ('vie sociale', 69.23), ('vin', 120.0), ('Permis de conduire', 3.46), ('Les Fraiches', 27.69), ('Nourriture Cochons', 13.85), ('Cheveux', 11.54)]}\n"
     ]
    }
   ],
   "source": [
    "financial_institution_qs = FinancialInstitutions.objects.all().order_by('name')\n",
    "result_dict = {}\n",
    "for financial_institution in financial_institution_qs:\n",
    "    result_list = [(b.spending_item_name, b.calculate_amount(frequency_name=\"Bi-Weekly\")) for b in \n",
    "                   Budget.objects.filter(owner=user, financial_institution=financial_institution).order_by('-amount') \n",
    "                   if b.spending_item_name != \"Paye\"]\n",
    "    if result_list:\n",
    "        result_dict[financial_institution.name] = result_list\n",
    "    \n",
    "\n",
    "print(result_dict)"
   ]
  },
  {
   "cell_type": "markdown",
   "id": "02e285d9-cab3-4ab4-bd62-87feb1d65cac",
   "metadata": {
    "tags": []
   },
   "source": [
    "## Transfert entre institution résumé"
   ]
  },
  {
   "cell_type": "code",
   "execution_count": 15,
   "id": "1ce7bedd-4184-4220-8d8f-2f331016e66c",
   "metadata": {},
   "outputs": [
    {
     "name": "stdout",
     "output_type": "stream",
     "text": [
      "{<FinancialInstitutions: Desjardins>: 3830.6, <FinancialInstitutions: Wealthsimple>: 1606.06} 5436.66\n"
     ]
    }
   ],
   "source": [
    "financial_institution_qs = FinancialInstitutions.objects.all().order_by('name')\n",
    "result_dict = {}\n",
    "for financial_institution in financial_institution_qs:\n",
    "    amount = round(sum([b.calculate_amount(frequency_name=\"Bi-Weekly\") for b in \n",
    "                                                Budget.objects.filter(owner=user, financial_institution=financial_institution)]), 2)\n",
    "    if amount > 0:\n",
    "        result_dict[financial_institution] = amount\n",
    "        \n",
    "    total_amount = round(sum([b.calculate_amount(frequency_name=\"Bi-Weekly\") for b in \n",
    "                                                Budget.objects.filter(owner=user)]), 2)\n",
    "\n",
    "print(result_dict, total_amount)\n",
    "\n",
    "    "
   ]
  },
  {
   "cell_type": "code",
   "execution_count": 15,
   "id": "b0dddc1b-08e1-40b1-82cb-f74b4eeac5de",
   "metadata": {},
   "outputs": [
    {
     "ename": "AttributeError",
     "evalue": "'FinancialManager' object has no attribute 'calculate_total_monthly_spending'",
     "output_type": "error",
     "traceback": [
      "\u001b[0;31m---------------------------------------------------------------------------\u001b[0m",
      "\u001b[0;31mAttributeError\u001b[0m                            Traceback (most recent call last)",
      "Cell \u001b[0;32mIn [15], line 1\u001b[0m\n\u001b[0;32m----> 1\u001b[0m \u001b[43mfm\u001b[49m\u001b[38;5;241;43m.\u001b[39;49m\u001b[43mcalculate_total_monthly_spending\u001b[49m()\n",
      "\u001b[0;31mAttributeError\u001b[0m: 'FinancialManager' object has no attribute 'calculate_total_monthly_spending'"
     ]
    }
   ],
   "source": [
    "fm.calculate_total_monthly_spending()"
   ]
  },
  {
   "cell_type": "markdown",
   "id": "bc019fde-e4b0-4fab-a470-4aa3c528310e",
   "metadata": {},
   "source": [
    "## Pie chart 1"
   ]
  },
  {
   "cell_type": "code",
   "execution_count": null,
   "id": "71a03987-f0c5-4d9e-8841-f2f74b54d9e6",
   "metadata": {},
   "outputs": [],
   "source": [
    "data = fm.get_budget_summary_by_frequency()\n",
    "labels, values = zip(*data)\n",
    "print(labels, values)"
   ]
  },
  {
   "cell_type": "code",
   "execution_count": null,
   "id": "ea0efb18-9e54-4c26-baf4-0af789cb6c2b",
   "metadata": {},
   "outputs": [],
   "source": [
    "get_budget_items_by_accounting_category_dict()"
   ]
  },
  {
   "cell_type": "code",
   "execution_count": null,
   "id": "af81fdbd-939a-441f-b435-c3abb4ec33ed",
   "metadata": {},
   "outputs": [],
   "source": [
    "\n",
    "total_spending_ammount = 0\n",
    "total_revenus = 0\n",
    "labels = []\n",
    "values = []\n",
    "for accounting_category, budget_obj_list in get_budget_items_by_accounting_category_dict().items():\n",
    "    if accounting_category == 'Spending':\n",
    "        for budget_obj in budget_obj_list:\n",
    "            amount = budget_obj.calculate_amount()\n",
    "            total_spending_ammount += amount\n",
    "            labels.append(budget_obj.spending_item_name)\n",
    "            values.append(amount)\n",
    "    if accounting_category == 'Revenus':\n",
    "        for budget_obj in budget_obj_list:\n",
    "            total_revenus += budget_obj.calculate_amount()\n",
    "            \n",
    "labels.append(\"Épargne\")\n",
    "values.append(round(total_revenus - total_spending_ammount, 2))\n",
    "    \n",
    "print(labels, values, total_revenus)"
   ]
  },
  {
   "cell_type": "markdown",
   "id": "7cc231c3-5f04-419b-a3b4-e4cb2714f6ca",
   "metadata": {},
   "source": [
    "## Pie chart 2"
   ]
  },
  {
   "cell_type": "markdown",
   "id": "40ad0a66-d5ff-455b-a4e2-c9cfc7e79771",
   "metadata": {},
   "source": [
    "## Budget detail view"
   ]
  },
  {
   "cell_type": "code",
   "execution_count": null,
   "id": "c511b99f-3d01-4861-bc4a-95880da15674",
   "metadata": {},
   "outputs": [],
   "source": [
    "\n",
    "labels = []\n",
    "values = []\n",
    "SpendingTheme.objects.all()\n",
    "for spendingtheme in SpendingTheme.objects.all():\n",
    "    labels.append(spendingtheme.name)\n",
    "    values.append(round(sum([b.calculate_amount() for b in spendingtheme.budget_set.all() if b.accounting_category.id in [2, 4]]), 2))\n",
    "\n",
    "total_spending = sum(values)\n",
    "total_revenus = sum([b.calculate_amount() for b in Budget.objects.all() if b.accounting_category.id == 1])\n",
    "labels.append('savings')\n",
    "values.append(round(total_revenus - total_spending, 2))\n",
    "print(labels, values)"
   ]
  },
  {
   "cell_type": "markdown",
   "id": "88161727-a75d-4b81-8d02-1ed2e13090fa",
   "metadata": {},
   "source": [
    "## Pie chart 3"
   ]
  },
  {
   "cell_type": "code",
   "execution_count": null,
   "id": "810cab8e-135d-4bb9-9e7b-21c760015081",
   "metadata": {},
   "outputs": [],
   "source": []
  },
  {
   "cell_type": "code",
   "execution_count": null,
   "id": "7af03419-7fb0-4534-8bbb-910cc4f8041f",
   "metadata": {},
   "outputs": [],
   "source": []
  },
  {
   "cell_type": "code",
   "execution_count": null,
   "id": "ff25666d-c14d-4698-a3b5-86a9174b48ce",
   "metadata": {},
   "outputs": [],
   "source": [
    "[b.owner for b in Budget.objects.all() if b.accounting_category == 'Dépense']"
   ]
  },
  {
   "cell_type": "code",
   "execution_count": null,
   "id": "49ffa081-f883-4a45-be89-3225776a76d9",
   "metadata": {},
   "outputs": [],
   "source": [
    "entete = [k for k in data_list[0].keys()]\n",
    "entete"
   ]
  },
  {
   "cell_type": "code",
   "execution_count": null,
   "id": "af957820-838d-4a25-b3b8-ff54899f2164",
   "metadata": {},
   "outputs": [],
   "source": [
    " model = [\"accounting_category\", \"spending_item_name\", \"financial_institution\", \"type\", \"amount\", \"frequency\", \"recurrence_interval\", \"is_recurring\", \"due_date\"]"
   ]
  },
  {
   "cell_type": "code",
   "execution_count": null,
   "id": "6cfd29d1-4ce1-446e-b8b2-21f56e295f24",
   "metadata": {},
   "outputs": [],
   "source": [
    "[budget_item.calculate_amount() for budget_item in [st.budget_set.filter(spending_theme__name=\"logement\", owner__id=user.id) for st in SpendingTheme.objects.all()]]"
   ]
  },
  {
   "cell_type": "code",
   "execution_count": null,
   "id": "ca26149c-3b78-4ab4-982e-be9dd81b09a4",
   "metadata": {},
   "outputs": [],
   "source": [
    "[budget_item.calculate_amount() for budget_item in[st.budget_set.filter(spending_theme__name=\"logement\", owner__id=user.id) for st in SpendingTheme.objects.all() if st.budget_set.filter(spending_theme__name=\"logement\", owner__id=user.id)][0]]"
   ]
  },
  {
   "cell_type": "code",
   "execution_count": null,
   "id": "654e5bb3-6af0-4e7e-b1e6-71b0bdfc3ca1",
   "metadata": {},
   "outputs": [],
   "source": []
  }
 ],
 "metadata": {
  "kernelspec": {
   "display_name": "Django Shell-Plus",
   "language": "python",
   "name": "django_extensions"
  },
  "language_info": {
   "codemirror_mode": {
    "name": "ipython",
    "version": 3
   },
   "file_extension": ".py",
   "mimetype": "text/x-python",
   "name": "python",
   "nbconvert_exporter": "python",
   "pygments_lexer": "ipython3",
   "version": "3.9.18"
  },
  "toc-autonumbering": true
 },
 "nbformat": 4,
 "nbformat_minor": 5
}
