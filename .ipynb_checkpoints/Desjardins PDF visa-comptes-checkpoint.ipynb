{
 "cells": [
  {
   "cell_type": "markdown",
   "id": "91214acd-fd0e-4f42-b68d-f9e6c5a3a05d",
   "metadata": {},
   "source": [
    "# imports"
   ]
  },
  {
   "cell_type": "code",
   "execution_count": null,
   "id": "dd0d6f2f-03ae-4fa3-b1c8-b6ca846b994c",
   "metadata": {},
   "outputs": [],
   "source": [
    "from datetime import datetime\n",
    "import tabula\n",
    "tabula.environment_info()\n",
    "import pandas as pd\n",
    "import numpy as np\n",
    "import os\n",
    "import matplotlib.pyplot as plt\n",
    "import pickle\n",
    "\n",
    "# Import necessary modules for Django configuration\n",
    "\n",
    "\n",
    "import sys\n",
    "from django import setup\n",
    "\n",
    "# Set the Django settings module\n",
    "os.environ['DJANGO_SETTINGS_MODULE'] = 'mysite.settings'  # Correct path to your settings module\n",
    "\n",
    "# Add the project directory to the Python path\n",
    "sys.path.append('/Users/Louis-Philippe/Sites/709ruebeaudoin/')  # Replace with the actual path to your project\n",
    "\n",
    "# Initialize Django settings\n",
    "setup()\n",
    "\n",
    "# Load Django extensions\n",
    "%load_ext django_extensions\n",
    "\n",
    "\n",
    "from investment.models import Budget, VisaDesjardinsTransaction, CompteDesjardins, Merchant, TransactionSource\n",
    "from django.contrib.auth.models import User\n",
    "from django.utils import timezone\n",
    "\n",
    "\n",
    "user = User.objects.get(id=1)\n"
   ]
  },
  {
   "cell_type": "markdown",
   "id": "a6abdd96-bf45-4009-9450-42bb084cf5fd",
   "metadata": {},
   "source": [
    "# Desjardins PDF"
   ]
  },
  {
   "cell_type": "markdown",
   "id": "3d813062-4c1e-4b56-8830-f742e1cbceeb",
   "metadata": {},
   "source": [
    "## General functions"
   ]
  },
  {
   "cell_type": "code",
   "execution_count": null,
   "id": "a05ab9e8-fb36-4be6-95a8-fedc97a1e98f",
   "metadata": {},
   "outputs": [],
   "source": [
    "def to_date(date_str):\n",
    "    date_dict={\"MAI\":5, 'JUN':6, 'JUL':7, 'AOU':8, 'SEP':9, 'OCT':10, 'JAN':1, \"FEV\":2, \"MAR\":3, \"AVR\":4}\n",
    "    if isinstance(date_str, str):\n",
    "        d_m = date_str.split()\n",
    "        d = int(d_m[0])\n",
    "        m = date_dict[d_m[1]]\n",
    "        return datetime(2023, m, d)\n",
    "    else:\n",
    "        return np.nan\n",
    "    \n",
    "PATH = \"data/Desjardins/\"\n",
    "\n",
    "def save_as_pickle(path, filename, my_dict):\n",
    "    with open(path + filename + '.pkl', 'wb') as file:\n",
    "        pickle.dump(my_dict, file)\n",
    "        print(f\"{filename} as been saved to {path}\")\n",
    "        # return my_dict\n",
    "        \n",
    "def open_pickle(path, dict_name):\n",
    "    with open(path + dict_name + '.pkl', 'rb') as file:\n",
    "        loaded_dict = pickle.load(file)\n",
    "        return loaded_dict\n",
    "              \n",
    "def create_visa_transaction(df, budget_item, user):\n",
    "    transaction_list = []\n",
    "    for k, transaction in df.iterrows():\n",
    "        v = VisaDesjardinsTransaction(category=None, \n",
    "                                  date = transaction[\"transaction_date\"], \n",
    "                                  merchant =  transaction[\"Description\"], \n",
    "                                  amount = transaction[\"Montant\"], \n",
    "                                  note = \"from jupyter\", \n",
    "                                  user = user,\n",
    "                                  BONIDOLLARS = transaction[\"BONIDOLLARS\"], \n",
    "                                  record_date = transaction[\"record_date\"])\n",
    "        transaction_list.append(v)\n",
    "        \n",
    "    return transaction_list\n",
    "\n",
    "# save_as_pickle(PATH, 'visa_compte_pdf_dict', pdf_nested_dict)"
   ]
  },
  {
   "cell_type": "code",
   "execution_count": null,
   "id": "ed59f15d-2338-4d0b-ab2c-f41c8fbabc2e",
   "metadata": {},
   "outputs": [],
   "source": [
    "\n",
    "visa_transaction_list = []\n",
    "visa_excluded_list = []"
   ]
  },
  {
   "cell_type": "markdown",
   "id": "9f12aa8b-4baf-4077-9ccd-e5d2c10d492d",
   "metadata": {},
   "source": [
    "## Generate the file names for Visa and bank account in dict"
   ]
  },
  {
   "cell_type": "code",
   "execution_count": null,
   "id": "2097606e-f3c7-4da9-87d4-6968e0888f64",
   "metadata": {
    "tags": []
   },
   "outputs": [],
   "source": [
    "# pdf_dict={\"visa\":[], 'compte':[]}\n",
    "pdf_nested_dict = open_pickle(PATH, 'visa_compte_pdf_dict')\n",
    "visa_patern_1 = \"454033600_20230524.pdf\"\n",
    "visa_patern_2 = \"454033######600#_20231025.pdf\"\n",
    "dir_name = \"data/Desjardins/\"\n",
    "last_part = \".pdf\"\n",
    "visa_patern = [\"visa/454033######600#_\",  \"visa/454033600_\"]\n",
    "bank_account_patern = [\"comptes/releve_815-30185-0257844-\"]\n",
    "file_patern_list = visa_patern + bank_account_patern\n",
    "newly_added_visa_list = []\n",
    "newly_added_bank_statement_list = []\n",
    "# print(file_patern_list)\n",
    "for file_patern in file_patern_list:\n",
    "    file_patern = dir_name + file_patern\n",
    "    for month in range(1,13):\n",
    "        for day in range(1, 30):\n",
    "            try:\n",
    "                date_part = datetime.strftime(datetime(2023, month, day), \"%Y%m%d\")\n",
    "                f = file_patern+date_part+last_part\n",
    "            except:\n",
    "                date_part = None\n",
    "            if date_part:\n",
    "                if os.path.isfile(f):\n",
    "                    if \"visa\" in f and f not in pdf_nested_dict[\"visa\"].keys():\n",
    "                        # pdf_dict[\"visa\"].append(f)\n",
    "                        pdf_nested_dict[\"visa\"][f] = {}\n",
    "                        newly_added_visa_list.append(f)\n",
    "                        print(f\"file {f} as been newly added to compte dict\")\n",
    "                    elif \"comptes\" in f and f not in pdf_nested_dict[\"compte\"].keys():\n",
    "                        # pdf_dict[\"compte\"].append(f)\n",
    "                        pdf_nested_dict[\"compte\"][f] = {}\n",
    "                        newly_added_bank_statement_list.append(f)\n",
    "                        print(f\"file {f} as been newly added to compte dict\")\n",
    "                else:\n",
    "                    pass"
   ]
  },
  {
   "cell_type": "markdown",
   "id": "99dbc501-a87b-4b8d-9601-67c0b8cf5147",
   "metadata": {},
   "source": [
    "# Visa"
   ]
  },
  {
   "cell_type": "markdown",
   "id": "dbca2f79-ad36-464a-b610-0c29c77b8b93",
   "metadata": {},
   "source": [
    "## Get the Visa data"
   ]
  },
  {
   "cell_type": "code",
   "execution_count": null,
   "id": "55897530-43f8-4207-bb0a-12b5d7a6abfd",
   "metadata": {},
   "outputs": [],
   "source": [
    "def get_df_from_visa_statement(pdf_nested_dict):\n",
    "    for k in pdf_nested_dict[\"visa\"].keys():\n",
    "        print(k)\n",
    "        if not pdf_nested_dict[\"visa\"][k]:\n",
    "            dfs = tabula.read_pdf(k, stream=True, pages=\"all\")\n",
    "            for index, df in enumerate(dfs):\n",
    "                pdf_nested_dict[\"visa\"][k][index] = df\n",
    "        else:\n",
    "            pass\n",
    "    return pdf_nested_dict\n",
    "    \n",
    "pdf_nested_dict = get_df_from_visa_statement(pdf_nested_dict)"
   ]
  },
  {
   "cell_type": "markdown",
   "id": "bd03afd6-42c4-4364-b7d8-01595c33cee4",
   "metadata": {},
   "source": [
    "### VisaDesjardinsPdf class"
   ]
  },
  {
   "cell_type": "code",
   "execution_count": null,
   "id": "799b0bdd-6b98-4fc8-97b2-dc00268a91ce",
   "metadata": {
    "scrolled": true,
    "tags": []
   },
   "outputs": [],
   "source": [
    "from datetime import datetime\n",
    "import pandas as pd\n",
    "import numpy as np\n",
    "import tabula\n",
    "from investment.models import VisaDesjardinsTransaction  # Make sure to import your VisaDesjardinsTransaction module\n",
    "\n",
    "class VisaDesjardinsPdfTransactionProcessor:\n",
    "    def __init__(self, file_path, user):\n",
    "        self.file_path = file_path\n",
    "        self.user = user\n",
    "        self.transaction_model = VisaDesjardinsTransaction\n",
    "\n",
    "    def to_date(self, date_str):\n",
    "        date_dict = {\"MAI\": 5, 'JUN': 6, 'JUL': 7, 'AOU': 8, 'SEP': 9, 'OCT': 10, 'NOV': 11, 'DEC': 12, 'JAN': 1, \"FEV\": 2, \"MAR\": 3, \"AVR\": 4}\n",
    "        if isinstance(date_str, str):\n",
    "            d_m = date_str.split()\n",
    "            d = int(d_m[0])\n",
    "            m = date_dict[d_m[1]]\n",
    "            return timezone.make_aware(datetime(2023, m, d))\n",
    "        else:\n",
    "            return np.nan\n",
    "\n",
    "    def set_table_title(self, df):\n",
    "        df.columns = df.iloc[1].to_list()\n",
    "        df = df.iloc[3:]\n",
    "        return df\n",
    "    \n",
    "    def set_col_to_numeric(self, df, col_list):\n",
    "        for col in col_list:\n",
    "            df[col] = df[col].apply(lambda x: x.replace('%', '') if isinstance(x, str) else x)\n",
    "            df[col] = df[col].apply(lambda x: x.replace(' ', '') if isinstance(x, str) else x)\n",
    "            df[col] = df[col].apply(lambda x: x.replace(',', '.') if isinstance(x, str) else x)\n",
    "            df[col] = df[col].apply(lambda x: x.replace('CR', '') if isinstance(x, str) else x)\n",
    "            df[col] = pd.to_numeric(df[col])\n",
    "\n",
    "    def format_columns(self, df):\n",
    "        transaction_date_list = []\n",
    "        record_date_list = []\n",
    "        description_list = []\n",
    "        rows_to_delete = []\n",
    "        for k, data in df.iterrows():\n",
    "            try:\n",
    "                int(data[\"Description\"][0:2])\n",
    "                transaction_d=int(data[\"Description\"][0:2])\n",
    "                transaction_m=int(data[\"Description\"][3:5])\n",
    "                record_d = int(data[\"Description\"][6:8])\n",
    "                record_m = int(data[\"Description\"][9:11])\n",
    "                description = data[\"Description\"][12:]\n",
    "                transaction_date = datetime(2023, transaction_m, transaction_d)\n",
    "                # print(transaction_date)\n",
    "                # transaction_date = timezone.make_aware(transaction_date)\n",
    "                # transaction_date = datetime(2023, transaction_m, transaction_d)\n",
    "                transaction_date_list.append(transaction_date)\n",
    "                # record_date = timezone.make_aware(datetime(2023, record_m, record_d))\n",
    "                record_date = datetime(2023, record_m, record_d)\n",
    "                record_date_list.append(record_date)\n",
    "                description_list.append(description)\n",
    "            except:\n",
    "                   rows_to_delete.append(k)\n",
    "        df = df.drop(rows_to_delete)\n",
    "        df[\"transaction_date\"] = transaction_date_list\n",
    "        df[\"record_date\"] = record_date_list\n",
    "        df[\"description\"] = description_list\n",
    "        df.drop(\"Description\", axis=1, inplace=True)\n",
    "        \n",
    "        # Convert columns to numeric\n",
    "        col_list = [\"BONIDOLLARS\", \"Montant\"]\n",
    "        self.set_col_to_numeric(df, col_list)\n",
    "        # df[\"BONIDOLLARS\"] = pd.to_numeric(df[\"BONIDOLLARS\"].str.replace(\",\", \".\").str.replace(\"%\", \"\"), errors=\"coerce\")\n",
    "        # df[\"Montant\"] = pd.to_numeric(df[\"Montant\"].str.replace(\",\", \".\"), errors=\"coerce\")\n",
    "        df[\"BONIDOLLARS\"] = df[\"BONIDOLLARS\"].fillna(0) / 100\n",
    "        # df[\"BONIDOLLARS\"] = df[\"BONIDOLLARS\"].fillna(0)\n",
    "        \n",
    "        columns_to_rename_dict = {\"transaction_date\": \"date\", \n",
    "                                  \"description\": \"merchant\", \n",
    "                                  \"Montant\": \"amount\"\n",
    "                                 }\n",
    "        df.rename(columns=columns_to_rename_dict, inplace=True)\n",
    "        # df['date'] = df['date'].apply(lambda x: x.tz_localize(timezone.get_default_timezone()) if x is not None else x)\n",
    "        return df\n",
    "\n",
    "    def process_dataframe(self, df):\n",
    "        liste_colone_1 = ['Transactions effectuées avec la carte de : GENEVIEVE POITRAS', 'Unnamed: 0', 'Carte : 4540 33** **** 6028', 'Unnamed: 1']\n",
    "        liste_colone_4 = ['Transactions effectuées avec la carte de : GENEVIEVE POITRAS', 'Carte : 4540 33** **** 6028', 'Unnamed: 0']\n",
    "        liste_colone_2 = ['Unnamed: 0', 'Unnamed: 1', 'Unnamed: 2', 'Limite de crédit disponible : 12 000', 'Unnamed: 3', 'Unnamed: 4', \"Taux d'intérêt\"]\n",
    "        liste_colone_3 = ['Unnamed: 0', 'Catégories', 'Unnamed: 1', 'BONIDOLLARS', '1 BONIDOLLAR accumulé = 1 $ à échanger']\n",
    "        liste_colone_5 = ['Opérations au compte', '4540 33** **** 6002', 'Unnamed: 0', 'Unnamed: 1', 'Unnamed: 2']\n",
    "        liste_colone_6 = ['Solde précédent', 'Unnamed: 0', 'Accumulés depuis', 'Unnamed: 1', 'Utilisés depuis', 'Unnamed: 2', 'Ajustements', 'Unnamed: 3', 'Total']\n",
    "        df_copy = df.copy()\n",
    "        if df_copy.columns.to_list() == liste_colone_1:\n",
    "            df_copy = self.set_table_title(df_copy)\n",
    "            d = self.format_columns(df_copy)\n",
    "            d = d[['BONIDOLLARS', 'amount', 'date', 'record_date', 'merchant']]\n",
    "        elif df_copy.columns.to_list() == liste_colone_4:\n",
    "            df_copy = self.set_table_title(df_copy)\n",
    "            d = self.format_columns(df_copy)\n",
    "        else:\n",
    "            d = pd.DataFrame()\n",
    "        return d\n",
    "        \n",
    "    def create_transaction(self, df):\n",
    "        # print(df)\n",
    "        transaction_list = []\n",
    "        transaction_model = self.transaction_model\n",
    "        for k, transaction_data in df.iterrows():\n",
    "            transaction_instance = transaction_model()\n",
    "            for column_name in df.columns:\n",
    "                if hasattr(transaction_instance, column_name):\n",
    "                    value = timezone.make_aware(transaction_data[column_name]) if type(transaction_data[column_name]) == datetime else transaction_data[column_name]\n",
    "                    setattr(transaction_instance, column_name, value)\n",
    "                    # setattr(transaction_instance, column_name, transaction_data[column_name]) \n",
    "            transaction_instance.user = self.user\n",
    "            transaction_list.append(transaction_instance)\n",
    "            \n",
    "        return transaction_list         \n",
    "    \n",
    "    def get_dfs_from_pdf(self):\n",
    "        pdf_nested_dict = {}\n",
    "        dfs = tabula.read_pdf(self.file_path, stream=True, pages=\"all\")\n",
    "        for index, df in enumerate(dfs):\n",
    "            pdf_nested_dict[index] = df\n",
    "        return pdf_nested_dict\n",
    "    \n",
    "    def get_processed_df_list(self):\n",
    "        processed_df_list = []\n",
    "        for k, df in self.get_dfs_from_pdf().items():\n",
    "            processed_df_list.append(self.process_dataframe(df))\n",
    "        return processed_df_list\n",
    "    \n",
    "    def get_transaction_list(self):\n",
    "        transaction_list = []\n",
    "        for processed_df in self.get_processed_df_list():\n",
    "            if not processed_df.empty:\n",
    "                print(processed_df)\n",
    "                transaction_list += self.create_transaction(processed_df)\n",
    "        return transaction_list\n",
    "\n",
    "# Usage:\n",
    "# user_object = YourUserObject  # Replace with your user object\n",
    "file_path = \"data/Desjardins/visa/454033######600#_20230125.pdf\"\n",
    "processor = VisaDesjardinsPdfTransactionProcessor(file_path, user)\n",
    "transactions = processor.get_transaction_list()\n",
    "processor.get_processed_df_list()"
   ]
  },
  {
   "cell_type": "code",
   "execution_count": null,
   "id": "44c9b08c-4002-4b90-b009-684edf479481",
   "metadata": {},
   "outputs": [],
   "source": [
    "processor.get_processed_df_list()[1][\"date\"].apply(lambda x: type(x))"
   ]
  },
  {
   "cell_type": "markdown",
   "id": "84ff2ebf-e49c-4adc-8b41-d36e2c53322b",
   "metadata": {
    "tags": []
   },
   "source": [
    "file_name = \"data/Desjardins/visa/454033600_20230925.pdf\"\n",
    "df_dict = pdf_nested_dict[\"visa\"][file_name]\n",
    "\n",
    "for df_index, df in df_dict.items():\n",
    "    print(\"**********\", df_index)"
   ]
  },
  {
   "cell_type": "markdown",
   "id": "54deaa29-2847-4769-9a1b-15388a2cc305",
   "metadata": {},
   "source": [
    "## Save visa data as CSV file"
   ]
  },
  {
   "cell_type": "code",
   "execution_count": null,
   "id": "2e63af88-b11d-4b25-be8e-115cd8ff32f0",
   "metadata": {
    "tags": []
   },
   "outputs": [],
   "source": [
    "\n",
    "def to_date(self, date_str):\n",
    "    date_dict = {\"MAI\": 5, 'JUN': 6, 'JUL': 7, 'AOU': 8, 'SEP': 9, 'OCT': 10, 'JAN': 1, \"FEV\": 2, \"MAR\": 3, \"AVR\": 4}\n",
    "    if isinstance(date_str, str):\n",
    "        d_m = date_str.split()\n",
    "        d = int(d_m[0])\n",
    "        m = date_dict[d_m[1]]\n",
    "        return datetime(2023, m, d)\n",
    "    else:\n",
    "        return np.nan\n",
    "        \n",
    "def set_table_title(df):\n",
    "    df.columns = df.iloc[1].to_list()\n",
    "    df = df.iloc[3:]\n",
    "    return df\n",
    "\n",
    "def format_columns(df):\n",
    "    transaction_date_list = []\n",
    "    record_date_list = []\n",
    "    description_list = []\n",
    "    rows_to_delete = []\n",
    "    for k, data in df.iterrows():\n",
    "        try:\n",
    "            int(data[\"Description\"][0:2])\n",
    "            transaction_d=int(data[\"Description\"][0:2])\n",
    "            transaction_m=int(data[\"Description\"][3:5])\n",
    "            record_d = int(data[\"Description\"][6:8])\n",
    "            record_m = int(data[\"Description\"][9:11])\n",
    "            description = data[\"Description\"][12:]\n",
    "            transaction_date = datetime(2023, transaction_m, transaction_d)\n",
    "            transaction_date_list.append(transaction_date)\n",
    "            record_date = datetime(2023, record_m, record_d)\n",
    "            record_date_list.append(record_date)\n",
    "            description_list.append(description)\n",
    "        except:\n",
    "               rows_to_delete.append(k)\n",
    "    df = df.drop(rows_to_delete)\n",
    "    df[\"transaction_date\"] = transaction_date_list\n",
    "    df[\"record_date\"] = record_date_list\n",
    "    df[\"description\"] = description_list\n",
    "    df.drop(\"Description\", axis=1, inplace=True)\n",
    "    \n",
    "    # Convert columns to numeric\n",
    "    df[\"BONIDOLLARS\"] = pd.to_numeric(df[\"BONIDOLLARS\"].str.replace(\",\", \".\").str.replace(\"%\", \"\"), errors=\"coerce\")\n",
    "    df[\"Montant\"] = pd.to_numeric(df[\"Montant\"].str.replace(\",\", \".\"), errors=\"coerce\")\n",
    "    df[\"BONIDOLLARS\"] = df[\"BONIDOLLARS\"] / 100\n",
    "    \n",
    "    columns_to_rename_dict = {\"transaction_date\": \"date\", \n",
    "                              \"description\": \"merchant\", \n",
    "                              \"Montant\": \"amount\"\n",
    "                             }\n",
    "        \n",
    "    df.rename(columns=columns_to_rename_dict, inplace=True)\n",
    "        \n",
    "    return df\n",
    "\n",
    "def process_dataframe(df):\n",
    "    liste_colone_1 = ['Transactions effectuées avec la carte de : GENEVIEVE POITRAS', 'Unnamed: 0', 'Carte : 4540 33** **** 6028', 'Unnamed: 1']\n",
    "    liste_colone_4 = ['Transactions effectuées avec la carte de : GENEVIEVE POITRAS', 'Carte : 4540 33** **** 6028', 'Unnamed: 0']\n",
    "    liste_colone_2 = ['Unnamed: 0', 'Unnamed: 1', 'Unnamed: 2', 'Limite de crédit disponible : 12 000', 'Unnamed: 3', 'Unnamed: 4', \"Taux d'intérêt\"]\n",
    "    liste_colone_3 = ['Unnamed: 0', 'Catégories', 'Unnamed: 1', 'BONIDOLLARS', '1 BONIDOLLAR accumulé = 1 $ à échanger']\n",
    "    liste_colone_5 = ['Opérations au compte', '4540 33** **** 6002', 'Unnamed: 0', 'Unnamed: 1', 'Unnamed: 2']\n",
    "    liste_colone_6 = ['Solde précédent', 'Unnamed: 0', 'Accumulés depuis', 'Unnamed: 1', 'Utilisés depuis', 'Unnamed: 2', 'Ajustements', 'Unnamed: 3', 'Total']\n",
    "    df_copy = df.copy()\n",
    "    if df_copy.columns.to_list() == liste_colone_1:\n",
    "        df_copy = set_table_title(df_copy)\n",
    "        d = format_columns(df_copy)\n",
    "        d = d[['BONIDOLLARS', 'amount', 'date', 'record_date', 'merchant']]\n",
    "    elif df_copy.columns.to_list() == liste_colone_4:\n",
    "        df_copy = set_table_title(df_copy)\n",
    "        d = format_columns(df_copy)\n",
    "    else:\n",
    "        d = pd.DataFrame()\n",
    "    return d\n",
    "        \n",
    "        \n",
    "def create_transaction(df, user):\n",
    "    transaction_list = []\n",
    "    for k, transaction in df.iterrows():\n",
    "        v = VisaDesjardinsTransaction(category=None, \n",
    "                                  date = transaction[\"date\"], \n",
    "                                  merchant =  transaction[\"merchant\"], \n",
    "                                  amount = transaction[\"amount\"],\n",
    "                                  BONIDOLLARS = transaction[\"BONIDOLLARS\"], \n",
    "                                  record_date = transaction[\"record_date\"])\n",
    "        v.user = user\n",
    "        transaction_list.append(v)\n",
    "        \n",
    "    return transaction_list         \n",
    "            \n",
    "def get_dfs_from_pdf(file_path):\n",
    "    pdf_nested_dict = {}\n",
    "    dfs = tabula.read_pdf(file_path, stream=True, pages=\"all\")\n",
    "    for index, df in enumerate(dfs):\n",
    "        pdf_nested_dict[index] = df\n",
    "    return pdf_nested_dict\n",
    "\n",
    "file_path = \"data/Desjardins/visa/454033######600#_20230125.pdf\"\n",
    "\n",
    "\n",
    "def get_processed_df_list(file_path):\n",
    "    processed_df_list = []\n",
    "    for k, df in get_dfs_from_pdf(file_path).items():\n",
    "        processed_df_list.append(process_dataframe(df))\n",
    "    return processed_df_list\n",
    "\n",
    "def get_transaction_list(file_path):\n",
    "    transaction_list = []\n",
    "    for processed_df in get_processed_df_list(file_path):\n",
    "        if not processed_df.empty:\n",
    "            print(processed_df.columns.to_list())\n",
    "            transaction_list += create_transaction(processed_df, user)\n",
    "        return transaction_list\n",
    "    \n",
    "\n",
    "# for file_name, df_dict in pdf_nested_dict[\"visa\"].items():\n",
    "#     csv_file_name = file_name.replace('pdf', 'csv')\n",
    "#     df_list = []\n",
    "#     for df_index, df in df_dict.items():\n",
    "#         df_copy = df.copy()\n",
    "#         if df_copy.columns.to_list() == liste_colone_1:\n",
    "#             df_copy = set_table_title(df_copy)\n",
    "#             d = format_columns(df_copy)\n",
    "#             d = d[['BONIDOLLARS', 'Montant', 'transaction_date', 'record_date', 'Description']]\n",
    "#         elif df_copy.columns.to_list() == liste_colone_2: # trash\n",
    "#             d=pd.DataFrame()\n",
    "#         elif df_copy.columns.to_list() == liste_colone_3: # résumé des points bonis par catégories\n",
    "#             d=pd.DataFrame()\n",
    "#         elif df_copy.columns.to_list() == liste_colone_4:\n",
    "#             df_copy = set_table_title(df_copy)\n",
    "#             d = format_columns(df_copy)\n",
    "#             print(d)\n",
    "#         elif df_copy.columns.to_list() == liste_colone_5: # confirmation pmt visa autorisés\n",
    "#             d=pd.DataFrame()\n",
    "#         elif df_copy.columns.to_list() == liste_colone_6: # point bonis\n",
    "#             d=pd.DataFrame()\n",
    "#         else:\n",
    "#             d=pd.DataFrame()\n",
    "#         if not d.empty:\n",
    "#             df_list.append(d)\n",
    "#             # pdf_nested_dict[\"visa\"][file_name][df_index] = d\n",
    "#         # else:\n",
    "#         #     pdf_nested_dict[\"visa\"][file_name][df_index] = None\n",
    "            \n",
    "#     stacked_df = pd.concat(df_list, ignore_index=True)\n",
    "#     stacked_df.to_csv(csv_file_name, index=False)"
   ]
  },
  {
   "cell_type": "markdown",
   "id": "d7142c47-56bd-4fca-9ff2-e19f57cf5b3d",
   "metadata": {},
   "source": [
    "### Load the csv fils into a DF"
   ]
  },
  {
   "cell_type": "code",
   "execution_count": null,
   "id": "048c9512-ffb0-4a75-92cc-aa04cd2ba528",
   "metadata": {
    "tags": []
   },
   "outputs": [],
   "source": [
    "visa_csv_df_list = []\n",
    "for pdf_file_nane in pdf_nested_dict[\"visa\"].keys():\n",
    "    csv_file_name = pdf_file_nane.replace(\"pdf\", \"csv\")\n",
    "    df = pd.read_csv(csv_file_name)\n",
    "    visa_csv_df_list.append(df)\n",
    "    \n",
    "visa_df = pd.concat(visa_csv_df_list, ignore_index=True)\n",
    "visa_df[\"transaction_date\"] = pd.to_datetime(visa_df[\"transaction_date\"])\n",
    "visa_df['Month'] = visa_df['transaction_date'].dt.to_period('M')\n",
    "len(visa_df)\n",
    "# visa_df[\"transaction_date\"] = pd.to_datetime(visa_df[\"transaction_date\"])"
   ]
  },
  {
   "cell_type": "code",
   "execution_count": null,
   "id": "74f92977-adb8-4eb9-9665-be8d93a487c8",
   "metadata": {},
   "outputs": [],
   "source": [
    "visa_df.info()"
   ]
  },
  {
   "cell_type": "code",
   "execution_count": null,
   "id": "da59f797-dd78-421d-b5e5-d28823fe3a3c",
   "metadata": {},
   "outputs": [],
   "source": [
    "visa_df.head()"
   ]
  },
  {
   "cell_type": "markdown",
   "id": "4189bce4-efd1-4071-aa4a-7947371dc8b3",
   "metadata": {},
   "source": [
    "### Alchool"
   ]
  },
  {
   "cell_type": "code",
   "execution_count": null,
   "id": "be8e34ce-bf45-4793-b1cd-375c04cafc73",
   "metadata": {
    "tags": []
   },
   "outputs": [],
   "source": [
    "\n",
    "\n",
    "budget_item_alchool = Budget.objects.get(id=819)\n",
    "alchool_list = [\"NORMAN HARDIE WINERY\", \"SAQ\", \"KARLO ESTATES\", \"LCBO\", \"PARSONS BREWING\", \"STOCK AND ROW\", \"HINTERLAND WINE\",\n",
    "                \"COUNTY CIDER PICTON\", \"SLAKE BREWING PICTON\", 'DOMAINE DARIUS HILLIER ON', 'CLOSSON CHASE VINEYARD HILLIER ON',\n",
    "                \"REDTAIL VINEYARD\", \"ROSEHALL RUN VINEYARDS\", \"AUX P'TITS BOCAUX\"]\n",
    "\n",
    "filtre = visa_df[\"Description\"].str.contains('|'.join(alchool_list), case=False)\n",
    "saq_transactions = visa_df[filtre]\n",
    "\n",
    "\n",
    "# print(saq_transactions)"
   ]
  },
  {
   "cell_type": "code",
   "execution_count": null,
   "id": "7477726e-c93d-476f-a1b3-aba54ac15244",
   "metadata": {},
   "outputs": [],
   "source": [
    "saq_monthly = saq_transactions.groupby('Month')['Montant'].sum().reset_index()\n",
    "visa_excluded_list += saq_transactions.index.to_list()\n",
    "print(len(visa_excluded_list))\n",
    "filtre = ((saq_transactions[\"transaction_date\"] >= \"2023-06-01\") & (saq_transactions[\"transaction_date\"] < \"2023-07-01\"))\n",
    "saq_transactions[filtre]\n",
    "saq_monthly[\"transfer\"] = saq_monthly[\"Montant\"]-260\n",
    "\n",
    "saq_monthly"
   ]
  },
  {
   "cell_type": "code",
   "execution_count": null,
   "id": "80c43533-f6d1-4cbc-9a3d-d63378f7b490",
   "metadata": {
    "tags": []
   },
   "outputs": [],
   "source": [
    "# Plot the stacked bar chart\n",
    "fig, ax = plt.subplots(figsize=(10, 6))\n",
    "plot_data = saq_transactions.groupby(['Month', 'Description'])['Montant'].sum().unstack()\n",
    "total_amounts = plot_data.sum()\n",
    "sorted_columns = total_amounts.sort_values(ascending=False).index\n",
    "plot_data = plot_data[sorted_columns]\n",
    "\n",
    "plot_data.plot(kind='bar', stacked=True, ax=ax)\n",
    "# ax = monthly_revenus_by_categories.plot(kind='bar', stacked=True, figsize=(10, 6), )\n",
    "\n",
    "# Set plot labels and title\n",
    "ax.set_ylabel('Montant')\n",
    "ax.set_xlabel('Mois')\n",
    "ax.set_title('Dépenses Mensuelles Alchool par source', color=\"white\")\n",
    "\n",
    "\n",
    "# Set background color to black\n",
    "ax.set_facecolor('black')\n",
    "fig.set_facecolor('black')\n",
    "\n",
    "# Set text color to white\n",
    "ax.xaxis.label.set_color('white')\n",
    "ax.yaxis.label.set_color('white')\n",
    "ax.tick_params(axis='x', colors='white')\n",
    "ax.tick_params(axis='y', colors='white')\n",
    "\n",
    "# Display the legend\n",
    "ax.legend(title='Description', \n",
    "          bbox_to_anchor=(1.05, 1), \n",
    "          loc='upper left', \n",
    "          facecolor='black', \n",
    "          edgecolor='black',\n",
    "          # labelcolor='linecolor'\n",
    "          labelcolor='white')\n",
    "\n",
    "plt.xticks(rotation=45, ha='right')\n",
    "# Show the plot\n",
    "plt.show()\n"
   ]
  },
  {
   "cell_type": "markdown",
   "id": "98b9b72b-c291-4381-83d1-783478f22753",
   "metadata": {},
   "source": [
    "### Épicerie"
   ]
  },
  {
   "cell_type": "code",
   "execution_count": null,
   "id": "7005263e-6148-4811-a356-0b0d04aa0784",
   "metadata": {
    "tags": []
   },
   "outputs": [],
   "source": [
    "epicerie_liste = [\"SUPER C\", \"METRO\", \"MAXI\", \"IGA\", \"FOODHERO\", \"LES FRAICHES\", \n",
    "                  \"ADONIS\", \"PROVIGO\", \"MARCHE RICHELIEU\", 'MIEL MORAND',\n",
    "                  'FERME LA VRAIE VIE', \"PASTA AND FUMO\", \"FLASHFOOD\", \"CAPULUS CAFE MOBILE\",\n",
    "                  \"MONSIEUR COCKTAIL\", \"Nespresso Canada\"]   \n",
    "budget_category_epicerie = Budget.objects.get(id=809)\n",
    "# manque le costco\n",
    "filtre = (visa_df[\"Description\"].str.contains('|'.join(epicerie_liste), case=False))\n",
    "epicerie_df = visa_df[filtre].copy()"
   ]
  },
  {
   "cell_type": "code",
   "execution_count": null,
   "id": "fb44a818-2165-449c-a95d-198579766ae2",
   "metadata": {
    "tags": []
   },
   "outputs": [],
   "source": [
    "grocery_monthly_spending = epicerie_df.groupby('Month')['Montant'].sum().reset_index()\n",
    "grocery_monthly_spending_by_grocer = epicerie_df.groupby(['Month', 'Description'])['Montant'].sum().reset_index()\n",
    "visa_excluded_list += epicerie_df.index.to_list()\n",
    "grocery_monthly_spending"
   ]
  },
  {
   "cell_type": "code",
   "execution_count": null,
   "id": "272b5d47-635d-4d9c-9e0a-8209cdef09a5",
   "metadata": {
    "tags": []
   },
   "outputs": [],
   "source": [
    "# Plot the stacked bar chart\n",
    "fig, ax = plt.subplots(figsize=(10, 6))\n",
    "plot_data = epicerie_df.groupby(['Month', 'Description'])['Montant'].sum().unstack()\n",
    "total_amounts = plot_data.sum()\n",
    "sorted_columns = total_amounts.sort_values(ascending=False).index\n",
    "plot_data = plot_data[sorted_columns]\n",
    "\n",
    "plot_data.plot(kind='bar', stacked=True, ax=ax)\n",
    "# ax = monthly_revenus_by_categories.plot(kind='bar', stacked=True, figsize=(10, 6), )\n",
    "\n",
    "# Set plot labels and title\n",
    "ax.set_ylabel('Revenus')\n",
    "ax.set_xlabel('Mois')\n",
    "ax.set_title('Dépenses Mensuelles d\\'épicerie par source', color=\"white\")\n",
    "\n",
    "\n",
    "# Set background color to black\n",
    "ax.set_facecolor('black')\n",
    "fig.set_facecolor('black')\n",
    "\n",
    "# Set text color to white\n",
    "ax.xaxis.label.set_color('white')\n",
    "ax.yaxis.label.set_color('white')\n",
    "ax.tick_params(axis='x', colors='white')\n",
    "ax.tick_params(axis='y', colors='white')\n",
    "\n",
    "# Display the legend\n",
    "ax.legend(title='Description', \n",
    "          bbox_to_anchor=(1.05, 1), \n",
    "          loc='upper left', \n",
    "          facecolor='black', \n",
    "          edgecolor='black',\n",
    "          # labelcolor='linecolor'\n",
    "          labelcolor='white')\n",
    "\n",
    "plt.xticks(rotation=45, ha='right')\n",
    "# Show the plot\n",
    "plt.show()\n"
   ]
  },
  {
   "cell_type": "code",
   "execution_count": null,
   "id": "6214b8e9-36c0-4f38-bb3b-363bb1f06696",
   "metadata": {},
   "outputs": [],
   "source": []
  },
  {
   "cell_type": "markdown",
   "id": "0a63c468-4d68-41b5-bbd7-cbdcd83fb6ac",
   "metadata": {},
   "source": [
    "### Pharmacie"
   ]
  },
  {
   "cell_type": "code",
   "execution_count": null,
   "id": "ad15893f-8be0-42c5-91f5-fbc8f398c9cf",
   "metadata": {},
   "outputs": [],
   "source": [
    "pharmacie_liste = [\"PHARMACIE\", \"JEAN COUTU\", \"BRUNET\", \"PHARMAPRIX\", \"PROXI\"]\n",
    "budget_category_pharmacie = Budget.objects.get(id=816)\n",
    "filtre = (visa_df[\"Description\"].str.contains('|'.join(pharmacie_liste), case=False))\n",
    "pharmacie_df = visa_df[filtre].copy()"
   ]
  },
  {
   "cell_type": "code",
   "execution_count": null,
   "id": "0fa9b28b-d40c-4eb0-9125-0bf0cb122b47",
   "metadata": {},
   "outputs": [],
   "source": [
    "visa_excluded_list += pharmacie_df.index.to_list()\n",
    "pharmacie_df\n",
    "pharmacie_monthly_spending = pharmacie_df.groupby('Month')['Montant'].sum().reset_index()\n",
    "pharmacie_monthly_spending"
   ]
  },
  {
   "cell_type": "code",
   "execution_count": null,
   "id": "ff84d513-612c-4914-97fe-7c00cc9ce361",
   "metadata": {
    "tags": []
   },
   "outputs": [],
   "source": [
    "# Plot the stacked bar chart\n",
    "fig, ax = plt.subplots(figsize=(10, 6))\n",
    "plot_data = pharmacie_df.groupby(['Month', 'Description'])['Montant'].sum().unstack()\n",
    "total_amounts = plot_data.sum()\n",
    "sorted_columns = total_amounts.sort_values(ascending=False).index\n",
    "plot_data = plot_data[sorted_columns]\n",
    "\n",
    "plot_data.plot(kind='bar', stacked=True, ax=ax)\n",
    "# ax = monthly_revenus_by_categories.plot(kind='bar', stacked=True, figsize=(10, 6), )\n",
    "\n",
    "# Set plot labels and title\n",
    "ax.set_ylabel('Revenus')\n",
    "ax.set_xlabel('Mois')\n",
    "ax.set_title('Dépenses Mensuelles pharmacie par source', color=\"white\")\n",
    "\n",
    "\n",
    "# Set background color to black\n",
    "ax.set_facecolor('black')\n",
    "fig.set_facecolor('black')\n",
    "\n",
    "# Set text color to white\n",
    "ax.xaxis.label.set_color('white')\n",
    "ax.yaxis.label.set_color('white')\n",
    "ax.tick_params(axis='x', colors='white')\n",
    "ax.tick_params(axis='y', colors='white')\n",
    "\n",
    "# Display the legend\n",
    "ax.legend(title='Description', \n",
    "          bbox_to_anchor=(1.05, 1), \n",
    "          loc='upper left', \n",
    "          facecolor='black', \n",
    "          edgecolor='black',\n",
    "          # labelcolor='linecolor'\n",
    "          labelcolor='white')\n",
    "\n",
    "plt.xticks(rotation=45, ha='right')\n",
    "# Show the plot\n",
    "plt.show()\n"
   ]
  },
  {
   "cell_type": "markdown",
   "id": "0cfd7321-806b-4e87-a9f2-1aca78055578",
   "metadata": {},
   "source": [
    "### Amazon"
   ]
  },
  {
   "cell_type": "code",
   "execution_count": null,
   "id": "2b4ea044-bc10-45d0-a682-134d0afe3db8",
   "metadata": {},
   "outputs": [],
   "source": [
    "# Les categories Amazon doivent etre déterminé manuellement\n",
    "\n",
    "amazon_liste = [\"AMZN\", \"WWW.AMAZON\", \"AMAZON.CA\"]\n",
    "filtre = (visa_df[\"Description\"].str.contains('|'.join(amazon_liste), case=False))\n",
    "amazon_df = visa_df[filtre].copy()\n",
    "visa_excluded_list += amazon_df.index.to_list()\n",
    "amazon_df\n",
    "amazon_monthly_spending = amazon_df.groupby('Month')['Montant'].sum().reset_index()\n",
    "amazon_monthly_spending\n"
   ]
  },
  {
   "cell_type": "markdown",
   "id": "918739d6-92c9-407e-bc14-9329ecf1c8e8",
   "metadata": {},
   "source": [
    "### Transport"
   ]
  },
  {
   "cell_type": "code",
   "execution_count": null,
   "id": "719033c4-ac3a-48f8-ba1b-81053c3511c0",
   "metadata": {},
   "outputs": [],
   "source": [
    "transport_liste = [\"AGENCE DE MOBILITE DURABLMONTREAL\", \"STM\", \"LE CIRCUIT ELECTRIQUE MONTREAL\",\n",
    "                   \"FLO SERVICES QUEBEC\", 'ESSO', \"SHELL\", \"PETRO CANADA\"]\n",
    "\n",
    "budget_category_transport = Budget.objects.get(id=828)\n",
    "\n",
    "filtre = (visa_df[\"Description\"].str.contains('|'.join(transport_liste), case=False))\n",
    "transport_df = visa_df[filtre].copy()\n",
    "transport_df = transport_df[transport_df[\"Description\"] != \"Nespresso Canada Toronto ON\"]\n",
    "visa_excluded_list += transport_df.index.to_list()\n",
    "transport_monthly_spending = transport_df.groupby('Month')['Montant'].sum().reset_index()\n",
    "transport_monthly_spending[\"Montant\"]"
   ]
  },
  {
   "cell_type": "code",
   "execution_count": null,
   "id": "91e2766c-ffd6-4406-8d22-f953d2e3ad1a",
   "metadata": {},
   "outputs": [],
   "source": [
    "filter_ = (transport_df[\"transaction_date\"] >= \"2023-07-01\") & (transport_df[\"transaction_date\"] < \"2023-08-01\")\n",
    "transport_df[filter_ ]"
   ]
  },
  {
   "cell_type": "markdown",
   "id": "2d54496b-2979-48cb-952b-d1c82be428aa",
   "metadata": {},
   "source": [
    "### Linge Genevieve"
   ]
  },
  {
   "cell_type": "code",
   "execution_count": null,
   "id": "cc8b98d4-4505-4da2-a401-8486a17b6736",
   "metadata": {},
   "outputs": [],
   "source": [
    "linge_gen_liste = [\"RW & CO\", \"WINNERS\", \"OLDNAVY.COM\", \"RW\", \"REITMANS\", \n",
    "                   \"SIMONS\", \"H&M\", \"MONTELLE INTIMATE\", \"GLOBO\", \"WOLVERINE WORLDWIDE\", \"ETSY\", \"COBIEBOUTIQUE\"]\n",
    "budget_category_linge_gen = Budget.objects.get(id=815)\n",
    "filtre = (visa_df[\"Description\"].str.contains('|'.join(linge_gen_liste), case=False))\n",
    "linge_gen_df = visa_df[filtre].copy()\n",
    "visa_excluded_list += linge_gen_df.index.to_list()\n",
    "linge_gen_monthly_spending =linge_gen_df.groupby('Month')['Montant'].sum().reset_index()\n",
    "linge_gen_monthly_spending[\"Montant\"].mean()"
   ]
  },
  {
   "cell_type": "markdown",
   "id": "9b286c85-1c28-4c63-a645-2e691dcde790",
   "metadata": {},
   "source": [
    "### Restaurant"
   ]
  },
  {
   "cell_type": "code",
   "execution_count": null,
   "id": "7e4f211c-c79c-4c1a-b8a9-6ad0363c7a38",
   "metadata": {},
   "outputs": [],
   "source": [
    "restaurant_liste = ['LES ENFANTS TERRIBLES', 'PETIT QUEBEC REPENTIGNY', 'MICROBRASSERIE COATICOOK COATICOOK',\n",
    "                    'PUB LORD WILLIAM', 'SMOKING BBQ MONTREAL', \"L'OEUFRIER BROMONT\",\n",
    "                    'DUNNS FAMOUS', \"L'HELICOPTERE\", \"RESTO INDIAN\", \"PULLMAN\", 'BUVETTE JUNE',\n",
    "                    \"LE POKE STATION\", \"SUSHISAMA\", \"MICROBRASSERIE LA MEMPH\", \"MCDONALD'S\", \"ERABLIERE\",\n",
    "                    \"POKE STATION\", \"LE DATE\", \"BOULEVARD CLERMONT\", \"HENRI BRASSERIE FRANCA\"\n",
    "                   ]\n",
    "budget_category_restaurant = Budget.objects.get(id=817)\n",
    "filtre = (visa_df[\"Description\"].str.contains('|'.join(restaurant_liste), case=False))\n",
    "restaurant_df = visa_df[filtre].copy()\n"
   ]
  },
  {
   "cell_type": "code",
   "execution_count": null,
   "id": "9474d4d2-9069-4ac2-86d0-1cf9f8088354",
   "metadata": {},
   "outputs": [],
   "source": [
    "visa_excluded_list += restaurant_df.index.to_list()\n",
    "restaurant_monthly_spending = restaurant_df.groupby('Month')['Montant'].sum().reset_index()\n",
    "restaurant_monthly_spending"
   ]
  },
  {
   "cell_type": "markdown",
   "id": "17c468b2-dbee-40f0-befb-8bfa9868d336",
   "metadata": {},
   "source": [
    "### Voyage"
   ]
  },
  {
   "cell_type": "code",
   "execution_count": null,
   "id": "a0efd302-34c1-4dc7-ab91-edf23033f616",
   "metadata": {},
   "outputs": [],
   "source": [
    "voyage_liste = [\"AIRBNB\", \"CITY OF KINGSTON\", \"SEPAQ\", \"RAM\", \"DVERT\", \"SERVICE CANADA\"\n",
    "                'EXPEDIA', 'AIR CAN', 'BRYCE CANYON', 'ZION NATIONAL', 'SPRINGDALE', 'LAS VEGAS',\n",
    "                \"EXPEDIA.CA\", \"RUBY'S GENERAL\"\n",
    "               ]\n",
    "budget_category_voyage = Budget.objects.get(id=820)\n",
    "filtre = (visa_df[\"Description\"].str.contains('|'.join(voyage_liste), case=False))\n",
    "voyage_df = visa_df[filtre].copy()\n"
   ]
  },
  {
   "cell_type": "code",
   "execution_count": null,
   "id": "e4ee3d18-3047-4456-86ed-6073ba6286df",
   "metadata": {},
   "outputs": [],
   "source": [
    "visa_excluded_list += voyage_df.index.to_list()\n",
    "voyage_monthly_spending = voyage_df.groupby('Month')['Montant'].sum().reset_index()\n",
    "voyage_monthly_spending"
   ]
  },
  {
   "cell_type": "markdown",
   "id": "166f9498-d925-478f-ab91-e8297bb7450b",
   "metadata": {},
   "source": [
    "### Vie Sociale"
   ]
  },
  {
   "cell_type": "code",
   "execution_count": null,
   "id": "66b35d07-0e09-4e8e-85e4-fe01fde603df",
   "metadata": {},
   "outputs": [],
   "source": [
    "to_exclude_list = [\"APPLE.COM\", \"LIBRAIRIE RENAUD BRAY\", \"CENTRECOMROUSSIN\", \"NETFLIX.COM\",\n",
    "                     \"MARCHE ST JEAN BAPTI\", \"CPC / SCP\", \"SPORTS EXPERTS\", \"CINEMAS\",\n",
    "                     \"UNARBREPOURMONQUARTIER\", \"INSCRIPTIONENLIGNE.CA\", \"QUEBECLOISIRS\",\n",
    "                     \"CANADA VALISE\", \"RACEROSTER PRISON\", \"CDN TIRE\", \"AU COIN DU PEDALEUR\",\n",
    "                     \"PATRICK MORIN\", \"LIBRAIRE\", \"ANIMALERIES\", \"PERFECTION.CA\", \"SP YUL RUN\",\n",
    "                   \"WAL-MART\", \"HORIZON ROC\", \"TUANGO\", \"DANIEL LEQUIN\", \"SOCIETE DES TRAVERSIER\",\n",
    "                  \"Prezi, Inc.\", \"CDNCANCERSOC\", \"9483-1104 QUEBEC\", \"JULES & HENRI\", \"Billabong\"]\n",
    "budget_category_vie_sociale = Budget.objects.get(id=818)\n",
    "filtre = (visa_df[\"Description\"].str.contains('|'.join(to_exclude_list), case=False))\n",
    "to_exclude_df = visa_df[filtre].copy()\n",
    "visa_excluded_list += to_exclude_df.index.to_list()\n",
    "visa_excluded_set = set(visa_excluded_list)\n",
    "filter_vie_sociale = visa_df.index.isin(visa_excluded_set)\n",
    "vie_sociale_df = visa_df[~filter_vie_sociale]"
   ]
  },
  {
   "cell_type": "code",
   "execution_count": null,
   "id": "7cfef330-a412-444c-910f-2bf617d7279e",
   "metadata": {},
   "outputs": [],
   "source": [
    "vie_sociale_monthly_spending = vie_sociale_df.groupby('Month')['Montant'].sum().reset_index()\n",
    "vie_sociale_monthly_spending_by_grocer = vie_sociale_df.groupby(['Month', 'Description'])['Montant'].sum().reset_index()\n",
    "# visa_excluded_list += vie_sociale_df.index.to_list()\n",
    "vie_sociale_monthly_spending\n",
    "\n",
    "# value_count = visa_df[~remove_already_counted][\"Description\"].value_counts()\n",
    "# value_count.index.to_list() \n",
    "\n",
    "# visa_df"
   ]
  },
  {
   "cell_type": "code",
   "execution_count": null,
   "id": "b72267fb-2702-4691-a47e-392d0f996397",
   "metadata": {},
   "outputs": [],
   "source": [
    "# Plot the stacked bar chart\n",
    "fig, ax = plt.subplots(figsize=(10, 6))\n",
    "plot_data = vie_sociale_df.groupby(['Month', 'Description'])['Montant'].sum().unstack()\n",
    "total_amounts = plot_data.sum()\n",
    "sorted_columns = total_amounts.sort_values(ascending=False).index\n",
    "plot_data = plot_data[sorted_columns]\n",
    "\n",
    "plot_data.plot(kind='bar', stacked=True, ax=ax)\n",
    "# ax = monthly_revenus_by_categories.plot(kind='bar', stacked=True, figsize=(10, 6), )\n",
    "\n",
    "# Set plot labels and title\n",
    "ax.set_ylabel('Revenus')\n",
    "ax.set_xlabel('Mois')\n",
    "ax.set_title('Dépenses Mensuelles d\\'épicerie par source', color=\"white\")\n",
    "\n",
    "\n",
    "# Set background color to black\n",
    "ax.set_facecolor('black')\n",
    "fig.set_facecolor('black')\n",
    "\n",
    "# Set text color to white\n",
    "ax.xaxis.label.set_color('white')\n",
    "ax.yaxis.label.set_color('white')\n",
    "ax.tick_params(axis='x', colors='white')\n",
    "ax.tick_params(axis='y', colors='white')\n",
    "\n",
    "# Display the legend\n",
    "ax.legend(title='Description', \n",
    "          bbox_to_anchor=(1.05, 1), \n",
    "          loc='upper left', \n",
    "          facecolor='black', \n",
    "          edgecolor='black',\n",
    "          # labelcolor='linecolor'\n",
    "          labelcolor='white')\n",
    "\n",
    "plt.xticks(rotation=45, ha='right')\n",
    "# Show the plot\n",
    "plt.show()\n"
   ]
  },
  {
   "cell_type": "markdown",
   "id": "a1809465-ee65-46ba-9a8c-f9ba68100f33",
   "metadata": {},
   "source": [
    "### Cadeau"
   ]
  },
  {
   "cell_type": "code",
   "execution_count": null,
   "id": "ac40ec70-7a83-48d1-9e7a-d86fa803aea6",
   "metadata": {},
   "outputs": [],
   "source": [
    "cadeau_list = ['JULES & HENRI', 'LIBRAIRIE RENAUD BRAY', 'QUEBECLOISIRS', 'CANADA VALISE', 'LIBRAIRE', 'HORIZON ROC', 'Billabong']\n",
    "\n",
    "budget_category_cadeau = Budget.objects.get(id=822)\n",
    "filtre = (visa_df[\"Description\"].str.contains('|'.join(cadeau_list), case=False))\n",
    "cadeau_df = visa_df[filtre].copy()\n",
    "visa_excluded_list += cadeau_df.index.to_list()\n",
    "\n",
    "\n"
   ]
  },
  {
   "cell_type": "markdown",
   "id": "300172fb-73e8-45b2-b8f5-9386739e86a6",
   "metadata": {},
   "source": [
    "### Acticités enfants"
   ]
  },
  {
   "cell_type": "code",
   "execution_count": null,
   "id": "f8951be9-bd59-4146-9eed-206725958f47",
   "metadata": {},
   "outputs": [],
   "source": [
    "activite_enfants_list = ['CENTRECOMROUSSIN', 'INSCRIPTIONENLIGNE.CA']\n",
    "budget_category_activite_enfants = Budget.objects.get(id=827)\n",
    "filtre = (visa_df[\"Description\"].str.contains('|'.join(activite_enfants_list), case=False))\n",
    "activite_enfants_list_df = visa_df[filtre].copy()\n",
    "visa_excluded_list += activite_enfants_list_df.index.to_list()"
   ]
  },
  {
   "cell_type": "markdown",
   "id": "2e662d56-cfc1-4640-bd55-ffefac562b98",
   "metadata": {},
   "source": [
    "### Maison dépréciation"
   ]
  },
  {
   "cell_type": "code",
   "execution_count": null,
   "id": "8001a5d7-4f1f-4e1c-8cd6-7980cfa65339",
   "metadata": {},
   "outputs": [],
   "source": [
    "maison_list = ['UNARBREPOURMONQUARTIER', 'PATRICK MORIN']"
   ]
  },
  {
   "cell_type": "markdown",
   "id": "afcc9352-489b-4fa8-8bc4-c8d032815962",
   "metadata": {},
   "source": [
    "### Activité sport GEN"
   ]
  },
  {
   "cell_type": "code",
   "execution_count": null,
   "id": "daf8c967-3a18-4c25-bacf-235c0300e02b",
   "metadata": {},
   "outputs": [],
   "source": [
    "activite_equipement_sport_gen_list = ['RACEROSTER PRISON', 'SP YUL RUN']"
   ]
  },
  {
   "cell_type": "markdown",
   "id": "a639e902-8188-4563-a915-9fd45ba416be",
   "metadata": {},
   "source": [
    "## Create the transactions"
   ]
  },
  {
   "cell_type": "code",
   "execution_count": null,
   "id": "e328cfe8-0180-439b-87e8-fc5865270f20",
   "metadata": {},
   "outputs": [],
   "source": [
    "transaction_df_list = [(saq_transactions, budget_item_alchool), \n",
    "                       (epicerie_df, budget_category_epicerie),\n",
    "                       (pharmacie_df, budget_category_pharmacie),\n",
    "                       (amazon_df, None), \n",
    "                       (transport_df, budget_category_transport),\n",
    "                       (linge_gen_df, budget_category_linge_gen),\n",
    "                       (restaurant_df, budget_category_restaurant),\n",
    "                       (voyage_df, budget_category_voyage),\n",
    "                       (vie_sociale_df, budget_category_vie_sociale),\n",
    "                       (cadeau_df, budget_category_cadeau),\n",
    "                       (activite_enfants_list_df, budget_category_activite_enfants),]\n",
    "visa_transaction_list=[]\n",
    "for transactions, budget_item in transaction_df_list:\n",
    "    t_l = insert_visa_transaction_into_model(transactions, budget_item, user)\n",
    "    visa_transaction_list += t_l"
   ]
  },
  {
   "cell_type": "code",
   "execution_count": null,
   "id": "34dfbd07-7086-454c-8bf5-95000d1af9d6",
   "metadata": {},
   "outputs": [],
   "source": [
    "num_transactions = len(visa_transaction_list)\n",
    "print(f\"There are {num_transactions} transactions\")\n",
    "for t in visa_transaction_list:\n",
    "    print(t)"
   ]
  },
  {
   "cell_type": "markdown",
   "id": "9669295f-cfca-4ef8-9e54-f349da084a99",
   "metadata": {
    "tags": []
   },
   "source": [
    "# Compte de Banque"
   ]
  },
  {
   "cell_type": "markdown",
   "id": "9349ce45-1b1b-4fb9-94e2-1be86b8469c8",
   "metadata": {},
   "source": [
    "## CompteDesjardinsPdf class "
   ]
  },
  {
   "cell_type": "code",
   "execution_count": null,
   "id": "51fa4869-f985-4af3-985e-612eecfd579a",
   "metadata": {
    "scrolled": true
   },
   "outputs": [],
   "source": [
    "class CompteDesjardinsPdf():\n",
    "    def __init__(self, file_path, user):\n",
    "        self.file_path = file_path\n",
    "        self.user = user\n",
    "        self.transaction_model = CompteDesjardins\n",
    "        self.source = TransactionSource.objects.get(id=4)\n",
    "        self.unique_provider_label_dict = [\"ENOTECA MONZA\", \"STM\", \"RENAUD BRAY\", \"MAXI\", \"COSTCO\", \"Allocation Canadienne pour enfants\", \"Paie\", \"Allocation famille\", \"Suppl. fournitures scolaires\", \"impôt\", \"CLub TRI PAT\", \"DESJARDINS ASS.\", \"Hypothèque\",  \"Internet\", \"PROXI\",  \"BELAIR\", \"txs scolaires\", \"HYDRO-QUEBEC\", \"ATELIER 100\", \"SAQ\", \"SUPER C\", \"École Chénier\", \"LES ANIMALERIES\", \"GLO GOLF AVENTURES\", \"CAFE MILANO\", \"DESJARDINS ASS. GENERALES\"]\n",
    "        self.unique_provider_id_list = [818, 828, 822, 809, 809, 838, 846, 855, 856, 858, 857, 806, 804, 807, 816, 806, 810, 805, 814, 819, 809, 824, 823, 820, 818, 806, ]\n",
    "\n",
    "    \n",
    "    def to_date(self, date_str):\n",
    "        date_dict={\"MAI\":5, 'JUN':6, 'JUL':7, 'AOU':8, 'SEP':9, 'OCT':10, 'NOV':11, 'DEC':12, 'JAN':1, \"FEV\":2, \"MAR\":3, \"AVR\":4}\n",
    "        if isinstance(date_str, str) and date_str !=\"\":\n",
    "            d_m = date_str.split()\n",
    "            try:\n",
    "                d = int(d_m[0])\n",
    "                m = date_dict[d_m[1]]\n",
    "            except:\n",
    "                print(\"problem date\", date_str)\n",
    "            return datetime(2023, m, d)\n",
    "        else:\n",
    "            return np.nan\n",
    "\n",
    "    \n",
    "    def get_dfs_from_pdf(self):\n",
    "        pdf_nested_dict = {}\n",
    "        dfs = tabula.read_pdf(self.file_path, stream=True, pages=\"all\")\n",
    "        index_correction = 0\n",
    "        for index, df in enumerate(dfs):\n",
    "            if df.empty:\n",
    "                index_correction +=1\n",
    "            elif not df.empty:\n",
    "                pdf_nested_dict[index - index_correction] = df\n",
    "        # print(pdf_nested_dict)      \n",
    "        return pdf_nested_dict\n",
    "\n",
    "\n",
    "    def set_col_to_numeric(self, df, col_list):\n",
    "        for col in col_list:\n",
    "            df[col] = df[col].apply(lambda x: x.replace(' ', '') if isinstance(x, str) else x)\n",
    "            df[col] = df[col].apply(lambda x: x.replace(',', '') if isinstance(x, str) else x)\n",
    "            df[col] = pd.to_numeric(df[col]) \n",
    "\n",
    "    # compte courrant\n",
    "    def process_dataframe1(self, df): \n",
    "        \"\"\" \n",
    "            Le tableau des transaction est lu de deux maniere différente par le PDF\n",
    "            reader. Parfois, Une colonne de valeur Null est ajouté et le titre \"Description\" est utilisé, \n",
    "            la colone avec les valeurs de description est nommée Unnamed 0. \n",
    "            Dans cette situation la position de la colonne Unnamed 0 est 3. \n",
    "            Dans l'autre situation la colonne code n'est pas lu. \n",
    "            les valeurs de description sont dans la colonne nommée Code.\n",
    "        \"\"\"\n",
    "        # print(df.columns.to_list())\n",
    "        df_copy = df.copy()\n",
    "        \n",
    "        Unnamed_col_index = df_copy.columns.to_list().index('Unnamed: 0')\n",
    "        if Unnamed_col_index == 3:\n",
    "            df_copy.drop('Unnamed: 0', axis=1, inplace=True)\n",
    "            df_copy.drop('Description', axis=1, inplace=True)\n",
    "            df_copy.rename(columns={'Code': 'Description'}, inplace=True)\n",
    "            # df_copy.drop(df_copy[df_copy['Description'] == 'Solde reporté'].index, inplace=True)\n",
    "            df_copy = df_copy.loc[~((df_copy['Description'] == 'Solde reporté') | df_copy['Date'].isna())]\n",
    "            \n",
    "            df_copy[\"Code\"] = df_copy[\"Description\"].str.split().str[0]\n",
    "            df_copy['Code'] = df_copy['Code'].replace('IVMWVirement', 'IVMW')\n",
    "            df_copy['Description'] = df_copy.apply(lambda row: row['Description'].replace(row['Code'], '') if pd.notna(row['Description']) and pd.notna(row['Code']) else None, axis=1)\n",
    "            # print(df_copy)\n",
    "        elif Unnamed_col_index == 2:\n",
    "            df_copy.drop('Description', axis=1, inplace=True)\n",
    "            df_copy.rename(columns={'Unnamed: 0': 'Description'}, inplace=True)\n",
    "            df_copy = df_copy[df_copy['Description'] != 'Solde reporté']\n",
    "            # df_copy.drop(df_copy[df_copy['Description'] == 'Solde reporté'].index, inplace=True)\n",
    "            df_copy = df_copy.loc[~((df_copy['Description'] == 'Solde reporté') | df_copy['Date'].isna())]\n",
    "            \n",
    "           \n",
    "        df_copy[\"Compte\"] = \"COMPTE D'OPÉRATIONS COURANTES\"\n",
    "        self.set_col_to_numeric(df_copy, ['Retrait', 'Dépôt', 'Solde'])        \n",
    "        df_copy[\"Date\"] = df_copy[\"Date\"].apply(self.to_date)\n",
    "    \n",
    "        return df_copy\n",
    "\n",
    "    # CELI\n",
    "    def process_dataframe2(self, df):\n",
    "        # TODO: Utiliser le montant du solde afin d'inféré s'il s'agit\n",
    "        # d\"un dépot ou d'un retrait, ajouter la colonne manquante\n",
    "        \"\"\"\n",
    "            On ajoute les entetes aux tableau ayant 5 colonnes.\n",
    "            les tableaux qui n'ont pas d'entete ne sont pas des tableau de transactions\n",
    "            peuvent etre des tableaux pour les autre type de compte\n",
    "            les tableaux avec 5 colonnes ne sont pas des tableaux complet\n",
    "            l'hypothese qui devra etre infirmée est que la colonne qui n'est pas lue\n",
    "            est celle des retraits. Il est possible que ce soit dans le cas ou il n'y a pas de \n",
    "            retrait, dans ce cas s'il y a des retrait la table aura peut etre 6 colonnes.\n",
    "            Autrement, si la table a des retrait et pas de dépot. Dans ce ca cette fonction\n",
    "            assumera incorectement qu'il s'agit de dépot\n",
    "        \"\"\"\n",
    "        df_copy = df.copy()\n",
    "        column_names = df_copy.columns.to_list()\n",
    "        nombre_de_colone = len(column_names)\n",
    "        new_row = pd.DataFrame([column_names], columns=column_names)\n",
    "        df_copy = pd.concat([new_row, df_copy], ignore_index=True)\n",
    "        \n",
    "        if nombre_de_colone == 5:\n",
    "            # print(f\"_______the dataframe has {nombre_de_colone} columns __________\\n\")\n",
    "            # print(f\"il faut déterminé s'il s'agit d'un retrait ou d'un dépot\\en utilisant les solde successifs\")\n",
    "            df_copy.columns = ['Date', 'Code', 'Description', 'Transaction', 'Solde']\n",
    "            df_copy[\"Solde\"] = pd.to_numeric(df_copy[\"Solde\"].str.replace(\" \", \"\"))\n",
    "            df_copy[\"Solde\"].fillna(0, inplace=True)\n",
    "            difference = df_copy[\"Solde\"].diff()\n",
    "            df_copy.replace(to_replace=r'.*Unnamed.*', value='', regex=True, inplace=True)\n",
    "            # print(df_copy)\n",
    "            # print(\"______________DIFFERENCES___________________\")\n",
    "            # print(difference)\n",
    "            liste_de_depot = []\n",
    "            liste_de_retrait = []\n",
    "            for k,v in df_copy.iterrows():\n",
    "                if v[\"Description\"] != \"Solde reporté\" and  v[\"Description\"] != \"Fermeture de compte\":\n",
    "                    if difference[k] > 0:\n",
    "                        # print(\"Dépot\")\n",
    "                        # print(v)\n",
    "                        liste_de_depot.append(v['Transaction'])\n",
    "                        liste_de_retrait.append(np.nan)\n",
    "                    elif difference[k] < 0:\n",
    "                        # print(\"Retrait\")\n",
    "                        liste_de_depot.append(np.nan)\n",
    "                        liste_de_retrait.append(v['Transaction'])\n",
    "                       #  print(v)\n",
    "                elif v[\"Description\"] == \"Fermeture de compte\":\n",
    "                    # print(\"$$$$$$$$$$$$$$$$$$$\")\n",
    "                    liste_de_depot.append(np.nan)\n",
    "                    liste_de_retrait.append(np.nan)\n",
    "                else:\n",
    "                    liste_de_depot.append(np.nan)\n",
    "                    liste_de_retrait.append(np.nan)\n",
    "   \n",
    "            # print(f\" the list is {len(liste_de_retrait)} long and the df is {df_copy.shape}\")   \n",
    "            # print(f\"la liste des retraits est {liste_de_retrait}\")\n",
    "            df_copy['Retrait'] = liste_de_retrait\n",
    "            df_copy['Dépôt'] = liste_de_depot\n",
    "            df_copy.drop('Transaction', axis=1, inplace=True)\n",
    "            df_copy[\"Compte\"] = [\"Compte d'épargne - CELI (No de contrat : C04939076001)\"] * len(df_copy)\n",
    "            # print(df_copy)\n",
    "        elif nombre_de_colone == 6:\n",
    "            # print(f\"Le tableau est complet\")\n",
    "            df_copy.columns = ['Date', 'Code', 'Description', 'Retrait', 'Dépôt', 'Solde']\n",
    "            df_copy[\"Compte\"] = [\"Compte d'épargne - CELI (No de contrat : C04939076001)\"] * len(df_copy)\n",
    "        elif nombre_de_colone == 3:\n",
    "            # print(f\"Détail du CPG\")\n",
    "            df_copy[\"Compte\"] = \"Détail du CPG\"\n",
    "        else:\n",
    "            df_copy[\"Compte\"] = \"Cas Non Traiter\"\n",
    "            \n",
    "        df_copy[\"Frais\"] = [\"\"] * len(df_copy)\n",
    "        for col in df_copy.columns:\n",
    "            df_copy[col] = df_copy[col].apply(lambda x: np.nan if \"Unnamed\" in str(x) else x)\n",
    "           \n",
    "        if df_copy[\"Compte\"][0] == \"Compte d'épargne - CELI (No de contrat : C04939076001)\":\n",
    "            self.set_col_to_numeric(df_copy, ['Retrait', 'Dépôt'])\n",
    "            df_copy[\"Date\"] = df_copy[\"Date\"].apply(self.to_date)    \n",
    "        # print(df_copy.head())\n",
    "        df_copy = df_copy.loc[~((df_copy['Description'] == 'Solde reporté') | df_copy['Date'].isna())]\n",
    "        return df_copy\n",
    "\n",
    "        \n",
    "    def extract_data(self):\n",
    "        \"\"\"\n",
    "        le relevé de compte de banque est constitué d'une série de tables.\n",
    "        La premiere table est celle du compte d\"opérations courantes.\n",
    "        la premiere table est lue de 2 facons differentes par le pdf reader.\n",
    "        Quand la colonne Unnamed est à la position 2, elle contient les descritions et\n",
    "        la colonne descrition est vide. \n",
    "        Quand la colonne Unnamed est a la postion 3, les codes ne sont pas lus, les\n",
    "        descrition se trouvent dans la colonne Code et la colonne Unnamed est vide\n",
    "        La derniere table est une table de frais, on la delete\n",
    "        le second tableau est ET 1 Compte d'épargne\n",
    "        le troisieme CS PART DE QUALIFICATION (B)\n",
    "        le 4 ieme est le compte CELI\n",
    "        le 5 tableau detail les modalité du CPD\n",
    "        \n",
    "    \"\"\"\n",
    "        d ={}\n",
    "        for index, df in self.get_dfs_from_pdf().items():\n",
    "            if index == 0:\n",
    "                df = self.process_dataframe1(df)\n",
    "                d[\"compte courrant\"] = df\n",
    "            elif index == 1:\n",
    "                df = self.process_dataframe2(df)\n",
    "                d[\"CELI\"] = df\n",
    "        return d\n",
    "\n",
    "    # set merchant_2 to unique provider transaction\n",
    "    # def create_marchant_unique_provider_merchant(self, merchant_name_str, transaction_instance):\n",
    "    def create_marchant_unique_provider_merchant(self, transaction_instance):\n",
    "        for k, v in zip(self.unique_provider_id_list, self.unique_provider_label_dict):\n",
    "            if v in transaction_instance.merchant:\n",
    "                # get ot create the merchant\n",
    "                # marchand, created = Merchant.objects.get_or_create(name=merchant, source=self.source, is_unique_provider = True)\n",
    "                category = Budget.objects.get(id=k)\n",
    "                marchand = Merchant(name=transaction_instance.merchant, source=self.source)\n",
    "                created = False\n",
    "                if created:\n",
    "                    marchand.categories.add(category)\n",
    "                    marchand.save()\n",
    "                transaction_instance.merchant_2 = marchand\n",
    "                transaction_instance.category = category\n",
    "                return transaction_instance\n",
    "                \n",
    "        # if the merchant is not in the unique provider list\n",
    "        return None\n",
    "\n",
    "    # set merchant_2 to BS transaction\n",
    "    def create_marchand_bs(self, transaction_instance):\n",
    "        # print(merchant_name_str, merchant_name_str in [\"DMD Dépôt Mobile\", \"Dépôt Mobile\"], transaction_instance.depot in [770, 140.00])\n",
    "        if transaction_instance.merchant.strip() in [\"DMD Dépôt Mobile\", \"Dépôt Mobile\"] and transaction_instance.depot in [770, 140.00]:\n",
    "            category = Budget.objects.get(id=850)\n",
    "            # marchand, created = Merchant.objects.get_or_create(name=merchant, source=self.source, is_unique_provider = False)\n",
    "            # created = False\n",
    "            marchand = Merchant(name=transaction_instance.merchant.strip(), source=self.source, is_unique_provider = False)\n",
    "            try:\n",
    "                marchand.categories.add(category)\n",
    "            except:\n",
    "                pass\n",
    "            # marchand.save()\n",
    "            transaction_instance.merchant_2 = marchand\n",
    "            transaction_instance.category = category\n",
    "            return transaction_instance\n",
    "        else:\n",
    "            return None\n",
    "\n",
    "    # set merchant_2 to virement transaction\n",
    "    def create_virement(self, transaction_instance):\n",
    "        if \"Virement\" in transaction_instance.merchant:\n",
    "            operation_sender_detail = transaction_instance.merchant.split(\"/\")\n",
    "            try:\n",
    "                operation = operation_sender_detail[0].strip()\n",
    "                sender = operation_sender_detail[1].strip()\n",
    "                try:\n",
    "                    detail = operation_sender_detail[2].strip()\n",
    "                except:\n",
    "                    detail = None\n",
    "            except:\n",
    "                operation = operation_sender_detail[0]\n",
    "                sender = None\n",
    "                detail = None\n",
    "            # print(operation, \"/\", sender, \"/\",detail)\n",
    "            nom = operation \n",
    "            marchand, created = Merchant.objects.get_or_create(name=nom, source=self.source, is_unique_provider = False)\n",
    "            # marchand, created = Merchant.objects.get_or_create(name=nom, source=self.source, is_unique_provider = False)\n",
    "            # transaction_instance.merchant = nom\n",
    "            transaction_instance.merchant_2 = marchand\n",
    "            note = sender if sender else \"\" + detail if detail else \"\"\n",
    "            transaction_instance.note = note\n",
    "            transaction_instance.category = None # doit etre mis a jour par l'utilisateur\n",
    "            return transaction_instance\n",
    "        else:\n",
    "            return None\n",
    "\n",
    "    \n",
    "    def create_transaction_with_marchand_no_category(self, transaction_instance):\n",
    "        nom = transaction_instance.merchant\n",
    "        marchand, created = Merchant.objects.get_or_create(name=nom, source=self.source, is_unique_provider = False)\n",
    "        transaction_instance.merchant_2 = marchand\n",
    "        transaction_instance.category = None\n",
    "        return transaction_instance\n",
    "\n",
    "     \n",
    "    def get_transaction_list(self):\n",
    "        transaction_list = []\n",
    "        col_to_rename_dict = {\"Date\":\"date\", \"Description\":\"merchant\", \"Frais\":\"frais\", \"Retrait\":\"retrait\", \"Dépôt\":\"depot\", \"Solde\":\"solde\", \"Code\":\"code\", \"Compte\":\"compte\"}\n",
    "        for account_name, df in self.extract_data().items():\n",
    "            df.rename(columns=col_to_rename_dict, inplace=True)\n",
    "            print(\"-\", account_name)\n",
    "            for k, row in df.iterrows():\n",
    "                transaction_instance = self.transaction_model()\n",
    "            \n",
    "                for col_name, value in row.items():\n",
    "                    if hasattr(transaction_instance, col_name):\n",
    "                        setattr(transaction_instance, col_name, value)\n",
    "                merchant_name_str = transaction_instance.merchant     \n",
    "                \n",
    "                # get or create merchant and set transaction merchant\n",
    "                if self.create_marchant_unique_provider_merchant(transaction_instance):\n",
    "                    transaction_instance = self.create_marchant_unique_provider_merchant(transaction_instance)\n",
    "                elif self.create_marchand_bs(transaction_instance):\n",
    "                    transaction_instance = self.create_marchand_bs(transaction_instance)\n",
    "                elif self.create_virement(transaction_instance):\n",
    "                    transaction_instance = self.create_virement(transaction_instance)\n",
    "                elif create_transaction_with_marchand_no_category(transaction_instance):\n",
    "                    transaction_instance = create_transaction_with_marchand_no_category(transaction_instance)\n",
    "                    \n",
    "\n",
    "\n",
    "\n",
    "                    "
   ]
  },
  {
   "cell_type": "code",
   "execution_count": null,
   "id": "03de937f-9161-4b9d-979a-8e5d60cd55d9",
   "metadata": {},
   "outputs": [],
   "source": [
    "folder_path = \"data/Desjardins/comptes/\"     \n",
    "# file_path = \"data/Desjardins/comptes/releve_815-30185-0257844-20230101.pdf\"\n",
    "file_names = os.listdir(folder_path)\n",
    "for file_name in file_names:\n",
    "    if file_name[-3:] == \"pdf\":\n",
    "        print(file_name)\n",
    "        e = CompteDesjardinsPdf(folder_path+file_name, user)\n",
    "        d = e.get_transaction_list()"
   ]
  },
  {
   "cell_type": "code",
   "execution_count": null,
   "id": "aa54d443-6a79-4790-8f44-b9cc98445d32",
   "metadata": {
    "tags": []
   },
   "outputs": [],
   "source": [
    "df_list = []\n",
    "for file_name, df_dict in pdf_nested_dict[\"compte\"].items():\n",
    "    df_list.append(df_dict[\"df_list\"][0])\n",
    "    # for df in df_dict[\"df_list\"]:\n",
    "    #     print(file_name, \"num col\", len(df.columns.to_list()))\n",
    "    #     print(df)\n",
    "stacked_df = pd.concat(df_list, ignore_index=True)\n",
    "stacked_df.head()"
   ]
  },
  {
   "cell_type": "markdown",
   "id": "52a63fc2-500c-47ba-9a8b-34b015d83517",
   "metadata": {
    "tags": []
   },
   "source": [
    "## Revenus"
   ]
  },
  {
   "cell_type": "markdown",
   "id": "5cbbfebf-5e0f-4753-9c46-ffb1fb4e5d89",
   "metadata": {
    "tags": []
   },
   "source": [
    "### Create revenus data frame\n"
   ]
  },
  {
   "cell_type": "code",
   "execution_count": null,
   "id": "044864ea-8617-4030-8954-fbe91973d0c9",
   "metadata": {},
   "outputs": [],
   "source": [
    "revenus = stacked_df[~stacked_df[\"Dépôt\"].isna()][[\"Date\", \"Description\", \"Dépôt\"]]\n",
    "revenus.rename(columns={\"Dépôt\":\"Montant\"}, inplace=True)\n",
    "revenus[\"Accounting Catégorie\"] = \"Revenu\"\n",
    "revenus[\"Budget Item\"] = np.nan\n",
    "revenus.head()"
   ]
  },
  {
   "cell_type": "markdown",
   "id": "52d19c9d-0c88-4475-812d-1322fc2c5ad4",
   "metadata": {
    "tags": []
   },
   "source": [
    "### Filters"
   ]
  },
  {
   "cell_type": "markdown",
   "id": "f083539c-8a11-4bff-86e0-b6827fe6483c",
   "metadata": {},
   "source": [
    "#### Get revenus between 2 dates"
   ]
  },
  {
   "cell_type": "code",
   "execution_count": null,
   "id": "f89d8516-0c6e-4435-aad7-d3e529cca986",
   "metadata": {},
   "outputs": [],
   "source": [
    "between_dates_filter = (revenus[\"Date\"] >= \"2023-06-01\") & (revenus[\"Date\"]<=\"2023-06-30\")\n",
    "revenus[between_dates_filter].head()"
   ]
  },
  {
   "cell_type": "markdown",
   "id": "ca401103-034b-466f-9210-3c82156223a4",
   "metadata": {},
   "source": [
    "#### Get revenus by descriptions"
   ]
  },
  {
   "cell_type": "code",
   "execution_count": null,
   "id": "1b23e0d3-0d5b-4712-83de-3ba64ac12ebd",
   "metadata": {},
   "outputs": [],
   "source": [
    "string = \"BENEVA\"\n",
    "revenus[revenus[\"Description\"].str.contains(string)]"
   ]
  },
  {
   "cell_type": "markdown",
   "id": "912b50b1-cb22-4bbb-b20c-37d6e078611c",
   "metadata": {},
   "source": [
    "### Seperate the budget items from the transfers"
   ]
  },
  {
   "cell_type": "markdown",
   "id": "4ab7e69c-1a68-43aa-b552-b65cf0376bd7",
   "metadata": {
    "tags": []
   },
   "source": [
    "#### Budget items"
   ]
  },
  {
   "cell_type": "code",
   "execution_count": null,
   "id": "87c71617-652d-4e3b-ad3e-53396a076fab",
   "metadata": {},
   "outputs": [],
   "source": [
    "budget_item_list = [\"BS\", \n",
    "                    \"Allocation canadienne pour enfants\",\n",
    "                    \"Paye\",\n",
    "                    \"Allocation famille QC\",\n",
    "                    \"Suppl. fournitures scolaires\",\n",
    "                    \"Remboursement d'Impopt\",\n",
    "                    \"Coaching\"] \n",
    "filter_list = [(revenus[\"Description\"].isin( [\"DMD Dépôt Mobile\", \"Dépôt Mobile\"])) & (revenus[\"Montant\"].isin([770, 140.00])),\n",
    "               (revenus[\"Description\"].str.contains(\"Allocation Canadienne pour enfants\")),\n",
    "               (revenus[\"Description\"].str.contains(\"Paie\")),\n",
    "               (revenus[\"Description\"].str.contains(\"Allocation famille\")),\n",
    "               (revenus[\"Description\"].str.contains(\"Suppl. fournitures scolaires\")),\n",
    "               (revenus[\"Description\"].str.contains(\"Remboursement d'impôt\")),\n",
    "               (revenus[\"Description\"].str.contains(\"CLub TRI PAT\")),\n",
    "               \n",
    "              ]\n",
    "filter_2 = (revenus[\"Description\"] == \"Dépôt au GA / CPD POINTE-AUX-TREMBLES\") & (revenus[\"Montant\"] == 910.00)\n",
    "revenus.loc[filter_2, \"Budget Item\"]=\"BS\"\n",
    "# bs_deposé = revenus.loc[\"Dépôt au GA / CPD POINTE-AUX-TREMBLES\", 910.00]\n",
    "\n",
    "# revenus_transaction_id_list += revenus.index\n",
    "budget_item_df_list = []\n",
    "revenus_transaction_id_list = []\n",
    "for budget_item_name, budget_item_filter in zip(budget_item_list, filter_list):\n",
    "    revenus.loc[budget_item_filter, \"Budget Item\"] = budget_item_name\n",
    "    # print(budget_item_name)\n",
    "    # print(revenus.loc[budget_item_filter])\n",
    "    # df = revenus[budget_item_filter].copy()\n",
    "    # df[\"Budget Item\"] = budget_item_name\n",
    "    # revenus_transaction_id_list += df.index.to_list()\n",
    "    # budget_item_df_list.append(df)\n",
    "budget_item_df = revenus[revenus[\"Budget Item\"].isin(budget_item_list)].copy()\n",
    "# budget_item_df\n",
    "revenus_transaction_id_list += budget_item_df.index.to_list()\n",
    "# revenus_transaction_id_list += bs_deposé.index.to_list()\n",
    "# budget_items_df = pd.concat(budget_item_df_list, ignore_index=True)\n",
    "# budget_items_df_filter = revenus[\"Budget Item\"].str.contains('|'.join(budget_item_list), case=False)\n",
    "# budget_items_df = revenus[budget_item_filter].copy()\n",
    "# budget_items_df\n",
    "\n",
    "budget_item_df['Month'] = budget_item_df['Date'].dt.to_period('M')\n",
    "budget_item_df\n",
    "monthly_revenus = budget_item_df.groupby('Month')['Montant'].sum().reset_index()\n",
    "# monthly_revenus\n",
    "monthly_revenus_by_categories = budget_item_df.groupby(['Month', \"Budget Item\"])['Montant'].sum().reset_index()\n",
    "# monthly_revenus\n",
    "monthly_revenus_by_categories\n",
    "\n",
    "# budget_item_df_list[4]"
   ]
  },
  {
   "cell_type": "markdown",
   "id": "12a16bbf-9b73-457a-8821-93b762c4c311",
   "metadata": {},
   "source": [
    "##### Plot revenus Budget items by month and categories"
   ]
  },
  {
   "cell_type": "code",
   "execution_count": null,
   "id": "8868f5c9-e340-4c44-8364-00dfd415bbfd",
   "metadata": {},
   "outputs": [],
   "source": [
    "\n",
    "# Create a sample DataFrame\n",
    "\n",
    "monthly_revenus_by_categories =  budget_item_df.groupby(['Month', \"Budget Item\"])['Montant'].sum().unstack()\n",
    "monthly_revenus_by_categories\n",
    "# Calculate the total amount for each description across all months\n",
    "total_amounts = monthly_revenus_by_categories.sum()\n",
    "\n",
    "# Sort the columns based on total amounts in descending order\n",
    "sorted_columns = total_amounts.sort_values(ascending=False).index\n",
    "monthly_revenus_by_categories = monthly_revenus_by_categories[sorted_columns]\n",
    "\n",
    "# Plot the stacked bar chart\n",
    "fig, ax = plt.subplots(figsize=(10, 6))\n",
    "monthly_revenus_by_categories.plot(kind='bar', stacked=True, ax=ax)\n",
    "# ax = monthly_revenus_by_categories.plot(kind='bar', stacked=True, figsize=(10, 6), )\n",
    "\n",
    "# Set plot labels and title\n",
    "ax.set_ylabel('Revenus')\n",
    "ax.set_xlabel('Mois')\n",
    "ax.set_title('Revenus Mensuel par source', color=\"white\")\n",
    "\n",
    "\n",
    "# Set background color to black\n",
    "ax.set_facecolor('black')\n",
    "fig.set_facecolor('black')\n",
    "\n",
    "# Set text color to white\n",
    "ax.xaxis.label.set_color('white')\n",
    "ax.yaxis.label.set_color('white')\n",
    "ax.tick_params(axis='x', colors='white')\n",
    "ax.tick_params(axis='y', colors='white')\n",
    "\n",
    "# Display the legend\n",
    "ax.legend(title='Description', \n",
    "          bbox_to_anchor=(1.05, 1), \n",
    "          loc='upper left', \n",
    "          facecolor='black', \n",
    "          edgecolor='black',\n",
    "          # labelcolor='linecolor'\n",
    "          labelcolor='white')\n",
    "\n",
    "plt.xticks(rotation=45, ha='right')\n",
    "# Show the plot\n",
    "plt.show()\n"
   ]
  },
  {
   "cell_type": "markdown",
   "id": "2f8bb5ab-e888-4165-bfdf-c57fe9d3d001",
   "metadata": {
    "tags": []
   },
   "source": [
    "#### Transfers"
   ]
  },
  {
   "cell_type": "markdown",
   "id": "9c066213-6379-45b1-9f11-31298e18c55c",
   "metadata": {},
   "source": [
    "##### Virement interact par personne"
   ]
  },
  {
   "cell_type": "code",
   "execution_count": null,
   "id": "393bb583-2201-48a1-bd95-1320a333fd8b",
   "metadata": {
    "tags": []
   },
   "outputs": [],
   "source": [
    "# les virements sont normalement associée a une ou plusieurs dépenses\n",
    "virement_interact_list = [\"Virement\", ]\n",
    "filter_list = (revenus[\"Description\"].str.contains(\"Virement\"))\n",
    "virement_df = revenus[filter_list].copy()\n",
    "\n",
    "# Specify the character to find\n",
    "target_character = '/'\n",
    "\n",
    "# Calculate the position of the target character and extract the last characters accordingly\n",
    "virement_df['Sender'] = virement_df['Description'].apply(\n",
    "    lambda x: x[x.find(target_character)+1:])\n",
    "revenus_transaction_id_list += virement_df.index.to_list()\n",
    "virement_df[\"Budget Item\"] = \"Transfert\"\n",
    "virement_df.head()"
   ]
  },
  {
   "cell_type": "markdown",
   "id": "4960dc21-cb81-439a-8927-bb3d060e6043",
   "metadata": {},
   "source": [
    "##### Remboursement assurances"
   ]
  },
  {
   "cell_type": "code",
   "execution_count": null,
   "id": "b2fd145c-e2c4-4351-9b87-8c6e53a51ac7",
   "metadata": {},
   "outputs": [],
   "source": [
    "filter_list = (revenus[\"Description\"].str.contains(\"BENEVA\"))\n",
    "assurance_df = revenus[filter_list].copy()\n",
    "revenus_transaction_id_list += assurance_df.index.to_list()\n",
    "assurance_df"
   ]
  },
  {
   "cell_type": "markdown",
   "id": "ce9de65c-e445-4ad0-b281-353a34948323",
   "metadata": {
    "tags": []
   },
   "source": [
    "#### Remainning transaction"
   ]
  },
  {
   "cell_type": "code",
   "execution_count": null,
   "id": "05c2274e-4703-4a0b-bc20-bc5330237471",
   "metadata": {},
   "outputs": [],
   "source": [
    "revenus[~revenus.index.isin(revenus_transaction_id_list)][[\"Description\", \"Montant\"]].value_counts()\n",
    "\n",
    "\n"
   ]
  },
  {
   "cell_type": "markdown",
   "id": "54676672-b840-45be-9210-76f69851530d",
   "metadata": {},
   "source": [
    "# Dépenses"
   ]
  },
  {
   "cell_type": "code",
   "execution_count": null,
   "id": "f49634b0-850e-4260-92b4-6a48a64d89c1",
   "metadata": {},
   "outputs": [],
   "source": [
    "depenses = stacked_df[~stacked_df[\"Retrait\"].isna()][[\"Date\", \"Description\", \"Retrait\"]]\n",
    "depenses.rename(columns={\"Retrait\":\"Montant\"}, inplace=True)\n",
    "depenses[\"Accounting Catégorie\"] = \"Depense\"\n",
    "depenses[\"Budget Item\"] = np.nan\n",
    "depenses.head()"
   ]
  },
  {
   "cell_type": "code",
   "execution_count": null,
   "id": "42623fa2-9f05-4a0e-9871-55232d9fa01a",
   "metadata": {},
   "outputs": [],
   "source": [
    "depenses[[\"Description\", \"Montant\"]].value_counts()"
   ]
  },
  {
   "cell_type": "markdown",
   "id": "6b3b41d0-bd79-4fb3-a803-9ac96a4fe252",
   "metadata": {},
   "source": [
    "## Fixed costs"
   ]
  },
  {
   "cell_type": "code",
   "execution_count": null,
   "id": "8d4c61a0-d8a9-43db-811f-0aace807088d",
   "metadata": {},
   "outputs": [],
   "source": []
  },
  {
   "cell_type": "markdown",
   "id": "df68951c-b13b-4bb9-baf5-60dfefdbc549",
   "metadata": {},
   "source": [
    "## Variable Costs"
   ]
  },
  {
   "cell_type": "markdown",
   "id": "a4284c63-2c53-4a2f-b28b-16bccfc92264",
   "metadata": {},
   "source": [
    "### SAQ"
   ]
  },
  {
   "cell_type": "code",
   "execution_count": null,
   "id": "b2358a62-4482-4ec5-91d4-3b48fbdc237a",
   "metadata": {},
   "outputs": [],
   "source": [
    "depenses[depenses[\"Description\"].str.contains(\"SAQ\")]"
   ]
  },
  {
   "cell_type": "code",
   "execution_count": null,
   "id": "59c5e4b4-b9ac-4663-8bec-96bf6a5d5788",
   "metadata": {},
   "outputs": [],
   "source": []
  }
 ],
 "metadata": {
  "kernelspec": {
   "display_name": "Django Shell-Plus",
   "language": "python",
   "name": "django_extensions"
  },
  "language_info": {
   "codemirror_mode": {
    "name": "ipython",
    "version": 3
   },
   "file_extension": ".py",
   "mimetype": "text/x-python",
   "name": "python",
   "nbconvert_exporter": "python",
   "pygments_lexer": "ipython3",
   "version": "3.9.18"
  },
  "toc-autonumbering": true
 },
 "nbformat": 4,
 "nbformat_minor": 5
}
