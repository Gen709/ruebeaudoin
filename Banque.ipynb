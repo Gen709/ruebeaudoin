{
 "cells": [
  {
   "cell_type": "markdown",
   "id": "e0d129c8-8336-47e2-b3f5-d84aeb48b6cc",
   "metadata": {
    "tags": []
   },
   "source": [
    "# Imports"
   ]
  },
  {
   "cell_type": "markdown",
   "id": "28b96534-e28a-4ddf-af9c-a55a53e52c86",
   "metadata": {},
   "source": [
    "## Module"
   ]
  },
  {
   "cell_type": "code",
   "execution_count": 1,
   "id": "0696f6a2-455a-42ee-bbf8-31a9ec4dbd2b",
   "metadata": {},
   "outputs": [],
   "source": [
    "import pandas as pd\n",
    "import numpy as np\n",
    "import scipy as sp\n",
    "import re\n",
    "\n",
    "from bs4 import BeautifulSoup as bs\n",
    "from contextlib import closing\n",
    "import pickle\n",
    "\n",
    "import os\n",
    "from os.path import isfile, join\n",
    "from os import listdir\n",
    "\n",
    "import sys\n",
    "\n",
    "import requests\n",
    "from urllib.parse import urlparse\n",
    "import urllib\n",
    "\n",
    "from datetime import datetime, timedelta\n",
    "from dateutil.relativedelta import relativedelta\n",
    "import time\n",
    "\n",
    "import matplotlib.pyplot as plt\n",
    "import matplotlib.ticker as mtick\n",
    "import matplotlib.dates as mdates\n",
    "\n",
    "\n",
    "import json\n",
    "\n",
    "import selenium\n"
   ]
  },
  {
   "cell_type": "markdown",
   "id": "750cb403-327c-4e8f-8cfa-d1fe8a40384b",
   "metadata": {
    "tags": []
   },
   "source": [
    "# Banque du Canada"
   ]
  },
  {
   "cell_type": "code",
   "execution_count": null,
   "id": "d4993e8d-8aa5-467c-b0dd-1e65e11ceabf",
   "metadata": {
    "tags": []
   },
   "outputs": [],
   "source": [
    "bank_rate_dict = requests.get(\"https://www.banqueducanada.ca/valet/observations/group/chartered_bank_interest/json\").json()\n",
    "\n",
    "\n",
    "# t = json.load(\"https://www.banqueducanada.ca/valet/observations/group/chartered_bank_interest/json\")"
   ]
  },
  {
   "cell_type": "code",
   "execution_count": null,
   "id": "012d2b01-13ea-4696-a073-74bc15be6aaf",
   "metadata": {
    "tags": []
   },
   "outputs": [],
   "source": [
    "\n",
    "# for k,v in bank_rate_dict['seriesDetail'].items():\n",
    "#     print(k, v[\"label\"])\n",
    "def bank_of_canada_to_df(bank_dict):\n",
    "    pass\n",
    "\n",
    "data_dict = {}\n",
    "label_dict = {}\n",
    "for k, v in bank_rate_dict['seriesDetail'].items():\n",
    "    data_dict[k]=[]\n",
    "    label_dict[k]=v['label']\n",
    "    \n",
    "\n",
    "date_index = []\n",
    "\n",
    "for row in bank_rate_dict['observations']:\n",
    "    date_index.append(datetime.strptime(row['d'], \"%Y-%m-%d\"))\n",
    "    for k in bank_rate_dict['seriesDetail']:\n",
    "        if k in row:\n",
    "            data_dict[k].append(float(row[k]['v']) / 100)\n",
    "        else:\n",
    "            data_dict[k].append(None)\n",
    "            \n",
    "df = pd.DataFrame(data_dict, index=date_index)\n",
    "df.rename(columns=label_dict)\n",
    "# print(len(df.columns.to_list()), len(label_dict))"
   ]
  },
  {
   "cell_type": "code",
   "execution_count": null,
   "id": "fedee8b6-19f5-4048-8407-4b19150d6e8b",
   "metadata": {},
   "outputs": [],
   "source": [
    "df.index"
   ]
  },
  {
   "cell_type": "code",
   "execution_count": null,
   "id": "6af1b34d-d068-492e-97d3-7a64f1f18c8d",
   "metadata": {},
   "outputs": [],
   "source": [
    "df[[\"V80691333\",\"V80691334\",\"V80691335\",\"V80691339\"]][\"2008-01-01\":].plot()"
   ]
  },
  {
   "cell_type": "code",
   "execution_count": null,
   "id": "170b923e-b0fe-4bce-b508-e21c77ebbbbe",
   "metadata": {
    "tags": []
   },
   "outputs": [],
   "source": [
    "for d in df.index:\n",
    "    if d.year == 2018:\n",
    "        if d.month == 11:\n",
    "            print(d)"
   ]
  },
  {
   "cell_type": "code",
   "execution_count": null,
   "id": "8d8c9ea0-f233-4c80-98f2-b1215d33b781",
   "metadata": {},
   "outputs": [],
   "source": [
    "# df[[\"V80691333\",\"V80691334\",\"V80691335\",\"V80691339\"]].loc(datetime.strptime(\"2023-10-25\", \"%Y-%m-%d\"))\n",
    "rate_comparison_df = df[[\"V80691333\",\"V80691334\",\"V80691335\",\"V80691339\"]].loc[[\"2018-11-14\",\n",
    "                                                                                \"2023-05-10\", \n",
    "                                                                                \"2023-06-14\", \n",
    "                                                                                \"2023-07-19\", \n",
    "                                                                                \"2023-08-16\",\n",
    "                                                                                \"2023-09-13\",\n",
    "                                                                                \"2023-10-11\",\n",
    "                                                                                \"2023-11-01\"]]\n",
    "rate_comparison_df = rate_comparison_df.transpose()\n",
    "\n",
    "fig, ax = plt.subplots(figsize=(10, 6))\n",
    "\n",
    "\n",
    "rate_comparison_df.plot(kind='line', ax=ax)\n",
    "plt.title('Comparison of Rates')\n",
    "plt.xlabel('Rate Types')\n",
    "plt.ylabel('Rates')\n",
    "\n",
    "ax.set_title('Progression of the term structure')\n",
    "ax.set_xlabel('Term')\n",
    "ax.set_ylabel('Rates')\n",
    "ax.legend(loc='best')\n",
    "\n",
    "# Remove the axes and related elements\n",
    "ax.spines[['top', 'right', 'bottom', 'left']].set_visible(False)\n",
    "ax.set_xticks([])\n",
    "ax.set_yticks([])\n",
    "plt.show()\n",
    "# df[[\"V80691333\",\"V80691334\",\"V80691335\",\"V80691339\"]].index"
   ]
  },
  {
   "cell_type": "markdown",
   "id": "e6684b34-40fe-4765-b4e8-196c15306511",
   "metadata": {
    "tags": []
   },
   "source": [
    "# Functions"
   ]
  },
  {
   "cell_type": "markdown",
   "id": "2cadcb0e-ddc2-407c-a461-6590be7494c9",
   "metadata": {},
   "source": [
    "## string cleaning"
   ]
  },
  {
   "cell_type": "code",
   "execution_count": null,
   "id": "ce21fd86-ec49-4a8e-88d2-bf7731d161dc",
   "metadata": {},
   "outputs": [],
   "source": [
    "num = \"6,77 %\"\n",
    "t = \"Ouvert: 9,38 % Fermé: 6,56 %\"\n",
    "v = \"6,09 % voir la promo\"\n",
    "def str_to_float(num):\n",
    "    return float(num.strip(\"%\").strip().replace(',', \".\"))/100\n",
    "\n",
    "def remove_overt(num):\n",
    "    s  = \"(?<=é: ).*\"\n",
    "    return re.findall(s, num)\n",
    "\n",
    "def remove_promo(num):\n",
    "    s = \"^(.*?)\\%.*\"\n",
    "    return re.findall(s, num)[0].strip()\n",
    "\n",
    "def clean_percentage(num):\n",
    "    if remove_overt(num):\n",
    "        return str_to_float(remove_overt(num)[0])\n",
    "    if remove_promo(num):\n",
    "        return str_to_float(remove_promo(num))\n",
    "    else: \n",
    "        return str_to_float(num)\n",
    "\n",
    "# remove_promo(v)"
   ]
  },
  {
   "cell_type": "markdown",
   "id": "0f1c853b-8ce0-438a-b0c5-2dd51c066c73",
   "metadata": {},
   "source": [
    "## JS WebTable"
   ]
  },
  {
   "cell_type": "code",
   "execution_count": null,
   "id": "e5131755-23a8-4fbc-b6d2-fe0f9360a25f",
   "metadata": {},
   "outputs": [],
   "source": [
    "import unittest\n",
    "import time\n",
    "from selenium import webdriver\n",
    "from selenium.webdriver.support.select import Select\n",
    "from selenium.webdriver.common.by import By\n",
    "from selenium.webdriver.support.ui import WebDriverWait\n",
    "from selenium.webdriver.support import expected_conditions as EC\n",
    " \n",
    "\n",
    "class WebTable(object):\n",
    "    def __init__(self, url_str, tableXPath, row_x_path, col_x_path, title_x_path):\n",
    "        self.url_str = url_str\n",
    "        self.tableXPath = tableXPath\n",
    "        self.row_x_path = row_x_path\n",
    "        self.col_x_path = col_x_path\n",
    "        self.title_x_path = title_x_path\n",
    "        \n",
    "        self.driver = webdriver.Chrome('html/chromedriver')\n",
    "        self.page_obj = self.driver.get(self.url_str)\n",
    "        self.num_rows = None\n",
    "        self.num_cols = None\n",
    "        self.table_dict = None\n",
    "        self.table_title_list = []\n",
    "        self.rate_df_raw = None\n",
    "        \n",
    "        \n",
    "    def tearDown(self):\n",
    "        self.driver.close()\n",
    "        self.driver.quit()\n",
    "\n",
    "    def set_num_rows(self, driver):\n",
    "        self.num_rows = len (driver.find_elements(\"xpath\", self.row_x_path))\n",
    "        print(\"Rows in table are \" + repr(self.num_rows))\n",
    "        \n",
    "    def set_num_cols(self, driver):\n",
    "        self.num_cols = len (driver.find_elements(\"xpath\", self.col_x_path))\n",
    "        print(\"Columns in table are \" + repr(self.num_cols))\n",
    "        \n",
    "    def get_headers(self):\n",
    "        pass\n",
    "        \n",
    "    def get_infos(self):\n",
    "        driver = self.driver\n",
    "        driver.get(self.url_str)\n",
    "        \n",
    "        \n",
    "        WebDriverWait(driver, 60).until(EC.presence_of_element_located((By.XPATH, self.tableXPath)))\n",
    "        \n",
    "        self.set_num_rows(driver) \n",
    "        self.set_num_cols(driver)\n",
    "        \n",
    "        table_dict = {}\n",
    "        \n",
    "        if self.url_str == \"https://www.nesto.ca/mortgage-rates/location/quebec/\":\n",
    "            start_index = 1\n",
    "        elif self.url_str == \"https://www.bnc.ca/particuliers/hypotheque/taux.html\":\n",
    "            start_index = 2\n",
    "        elif self.url_str == \"https://www.td.com/ca/fr/services-bancaires-personnels/produits/prets-hypothecaires/taux-hypothecaires\":\n",
    "            start_index = 2\n",
    "            \n",
    "        for t_row in range(start_index, (self.num_rows + 1)):\n",
    "            table_dict[t_row] = []\n",
    "            for t_col in range(1, self.num_cols + 1):\n",
    "                XPath = self.row_x_path + '[' + str(t_row) + ']/td[' + str(t_col) + ']'        \n",
    "                table_dict[t_row].append(driver.find_element(\"xpath\", XPath).text)\n",
    "        self.table_dict = table_dict\n",
    "        \n",
    "        for t_col in range(1, self.num_cols + 1):\n",
    "            XPath = self.title_x_path + str(t_col) + ']' \n",
    "            self.table_title_list.append(driver.find_element(\"xpath\", XPath).text)\n",
    "        \n",
    "        data_dict = {}\n",
    "        for i in range(len(self.table_title_list)):\n",
    "            data_dict[self.table_title_list[i]] = [v[i]for k,v in self.table_dict.items()]\n",
    "            \n",
    "        self.rate_df_raw = pd.DataFrame.from_dict(data_dict)\n",
    "        \n",
    "        return table_dict"
   ]
  },
  {
   "cell_type": "markdown",
   "id": "1bac98c6-0f04-4fdf-b26d-a9d617ce00f3",
   "metadata": {
    "tags": []
   },
   "source": [
    "# WebSite class"
   ]
  },
  {
   "cell_type": "code",
   "execution_count": 2,
   "id": "59b0b4a7-2744-405d-9ad9-4b40486fffff",
   "metadata": {
    "tags": []
   },
   "outputs": [],
   "source": [
    "class WebSite(object):\n",
    "    path = 'html/'\n",
    "    \n",
    "    def __init__(self, url_str):\n",
    "        \n",
    "        # This is the WebSite Attribute\n",
    "        self._url_str = url_str\n",
    "        self._url_object = urlparse(self._url_str)\n",
    "        self._url = None\n",
    "        self._host_name = None\n",
    "        self._file_dir = None\n",
    "        self._file_name = None\n",
    "        self._file_path = None\n",
    "        self._bs4_object = None\n",
    "        self._scraping_factory = None\n",
    "    \n",
    "    def set_url_str(self):\n",
    "        pass\n",
    "    def get_url_str(self):\n",
    "        pass\n",
    "    \n",
    "    def set_url_object(self): self._url_object = urlparse(self._url_str)\n",
    "    def get_url_object(self): return self._url_object\n",
    "      \n",
    "    \n",
    "    def set_host_name(self): self._host_name = self._url_object.scheme+\"://\"+self._url_object.netloc   \n",
    "    def get_host_name(self):\n",
    "        if self._host_name is not None:\n",
    "            return self._host_name\n",
    "        else:\n",
    "            print(\"instantiating host name\")\n",
    "            self.set_host_name()\n",
    "            return self.get_host_name()\n",
    "        \n",
    "    def set_url(self): self._url = self.get_host_name() + self._url_object.path      \n",
    "    def get_url(self):\n",
    "        if self._url is not None:\n",
    "            return self._url\n",
    "        else:\n",
    "            self.set_url()\n",
    "            return self.get_url()\n",
    "    \n",
    "    \n",
    "    def set_file_dir(self):\n",
    "        self._file_dir = os.path.join(self.path, self._url_object.netloc)\n",
    "        \n",
    "    def get_file_dir(self):\n",
    "        if self._file_dir is not None:\n",
    "            return self._file_dir\n",
    "        else:\n",
    "            print(\"Instantiating file path\")\n",
    "            self.set_file_dir()\n",
    "            return self.get_file_dir()\n",
    "    \n",
    "    \n",
    "    def set_file_name(self):\n",
    "        self._file_name = urllib.parse.quote(self._url_object.path, \" \")+'.pickle'\n",
    "        \n",
    "    def get_file_name(self):\n",
    "        if self._file_name is not None:\n",
    "            return self._file_name\n",
    "        else:\n",
    "            self.set_file_name()\n",
    "            return self.get_file_name()\n",
    "    \n",
    "    \n",
    "    def set_file_path(self):\n",
    "        self._file_path = os.path.join(self.get_file_dir(),self.get_file_name())\n",
    "        \n",
    "    def get_file_path(self):\n",
    "        if self._file_path is not None:\n",
    "            return self._file_path\n",
    "        else:\n",
    "            self.set_file_path()\n",
    "            return self.get_file_path()\n",
    "    \n",
    "    \n",
    "    def file_already_exists(self):\n",
    "        \"\"\"\n",
    "        check if website directory exist, if not creates it and recals itself, \n",
    "        check if file has been saved\n",
    "        returns \n",
    "        returns \n",
    "        \"\"\"\n",
    "        if not os.path.exists(self.get_file_dir()):\n",
    "            # directory does not exist, create the directory \n",
    "            os.makedirs(self.get_file_dir())\n",
    "            print(\"Directory \", self.get_file_dir(), \"as been created, receipy does not exist\")\n",
    "            # call the function again\n",
    "            self.file_already_exists()\n",
    "        else:\n",
    "            # the folder already exists but not the file\n",
    "            if not os.path.exists(self.get_file_path()):\n",
    "                # get the file\n",
    "                # print(\"the folder already exists but not the file, GET THE FILE\")\n",
    "                return False\n",
    "            else: # the file exist \n",
    "                # print(\"the receipy exists on file\")\n",
    "                return True\n",
    "            # os.makedis(path_to_main_folder)\n",
    "            # print('Folder ', path_to_main_folder, ' had to be created')\n",
    "        \n",
    "    def get_html(self):\n",
    "        \"\"\"\n",
    "        Makes a GET request to the specified URL\n",
    "        \n",
    "        Returns:\n",
    "            \n",
    "            True, requests.content if successful\n",
    "            \n",
    "            False, error_message if un-successfull\n",
    "            \n",
    "        \"\"\"\n",
    "        headers = {'Content-Type': 'application/x-www-form-urlencoded',\n",
    "                   'User-Agent': 'Mozilla/5.0 (Macintosh; Intel Mac OS X 10_15_7) AppleWebKit/605.1.15 (KHTML, like Gecko) Version/15.0 Safari/605.1.15', \n",
    "                   'Host': self._url_object.netloc,\n",
    "                   'Origin': self.get_host_name(),\n",
    "                   'Referer': self.get_host_name()\n",
    "                  }\n",
    "        try:\n",
    "            with closing(requests.get(self.get_url(), headers=headers, verify=False)) as page_request:\n",
    "                return True, page_request.content\n",
    "        except requests.exceptions.RequestException as e:\n",
    "            error_message = \"Could not open \" + self.get_url() + \"error \" + e\n",
    "            return False, error_message\n",
    "     \n",
    "    def get_data(self):\n",
    "        \"\"\"this function should get html or csv depending on implementation\"\"\"\n",
    "        pass\n",
    "    \n",
    "    def save_file(self, data): #save_to_pickle\n",
    "        \"\"\"\n",
    "        Function simply save data as a pickle file. \n",
    "        It will handle recursion_limit error up to 10 0000\n",
    "        If the operation fails, the method will print the data\n",
    "        The path to the file is constructed based on the URL's domain and query or path\n",
    "        depending on the get_file_path() method implemented for that particular domain.\n",
    "\n",
    "        Paramaters:\n",
    "        \n",
    "            data : \n",
    "\n",
    "        Returns:\n",
    "\n",
    "            True if the operation is successful  \n",
    "            \n",
    "            print the data otherwise\n",
    "\n",
    "        \"\"\"\n",
    "        with open(self.get_file_path(), 'wb') as handle:\n",
    "            try:\n",
    "                pickle.dump(data, handle, protocol=pickle.HIGHEST_PROTOCOL)\n",
    "\n",
    "            except RecursionError:\n",
    "                sys.setrecursionlimit(100000)\n",
    "                pickle.dump(data, handle, protocol=pickle.HIGHEST_PROTOCOL)\n",
    "\n",
    "            finally:\n",
    "                print(self.get_file_path(), 'as been saved')\n",
    "                sys.setrecursionlimit(1000)\n",
    "                print(\"System recursions limits has been re-set at 1000\")\n",
    "\n",
    "                return True            \n",
    "        \n",
    "     \n",
    "    def acquire_data(self):\n",
    "        \"\"\" \n",
    "        Check if the html data has been downlaoded to disk.\n",
    "            if the file isn't there, the method will call the other method get_html()\n",
    "                then if the acquisition is successful -- the get_html() returns True --\n",
    "        The data will be saved to disk and will return true\n",
    "        \n",
    "        If the file isn't already on file and the acquisition has not been successful the \n",
    "        function will return False\n",
    "        \n",
    "        Returns: \n",
    "        \n",
    "            True if the file is there or can be acquired\n",
    "            \n",
    "            False if the file isn't there and could not be acquired via the get_html() method\n",
    "            \n",
    "        \"\"\"\n",
    "        \n",
    "        if self.file_already_exists():\n",
    "            print(\"File is already on disk\")\n",
    "            return True\n",
    "        else: # get the html data\n",
    "            data_acquired, data = self.get_html() # self.get_data\n",
    "            if data_acquired: \n",
    "                print(\"Data succeffuly acquired, saving on file\")\n",
    "                # save the data on disk\n",
    "                self.save_file(data)\n",
    "                print('The file has been saved on disk')\n",
    "                return True\n",
    "            else:\n",
    "                print(\"Unable to acquire html file thru the get_html function\" + data)\n",
    "                return False\n",
    "    \n",
    "    def set_bs4_object(self):\n",
    "        \"\"\"\n",
    "            Use the get_file_path() method, if the path exist using \n",
    "            receipy_already_exist() method, opens it and reads it in a bs4 objects\n",
    "\n",
    "\n",
    "            Parameters:\n",
    "\n",
    "                None\n",
    "\n",
    "\n",
    "            Return:\n",
    "\n",
    "                return the tuple True, _bs4_object if the operation is successfull or\n",
    "                return the tuple False, and the message from the method recepy_already_exist()\n",
    "        \"\"\"\n",
    "        \n",
    "        if self.file_already_exists():\n",
    "            file =  self.get_file_path()\n",
    "\n",
    "            with open(file, \"rb\") as f:\n",
    "                soup_obj = bs(pickle.load(f), \"html.parser\")\n",
    "            self._bs4_object = soup_obj\n",
    "        else:\n",
    "            self.acquire_data()\n",
    "            \n",
    "    def get_bs4_object(self):\n",
    "        if self._bs4_object is not None:\n",
    "            return self._bs4_object\n",
    "        else:\n",
    "            self.set_bs4_object()\n",
    "            return self.get_bs4_object()\n",
    "    \n",
    "    def __str__(self):\n",
    "        return self.get_url()\n"
   ]
  },
  {
   "cell_type": "markdown",
   "id": "af440227-dd94-4371-a01d-34e2e15555a7",
   "metadata": {},
   "source": [
    "# Tangerine"
   ]
  },
  {
   "cell_type": "code",
   "execution_count": 8,
   "id": "5b24eca1-2084-450b-afc1-b00207765601",
   "metadata": {},
   "outputs": [],
   "source": [
    "x_path_tangerine_cpg_rate = '//*[@id=\"mainContentSection\"]/section/div[8]/div[1]/div/div/div/div[url_3]'\n",
    "url_tangerine_cpg_rate = \"https://www.tangerine.ca/fr/products/saving/guaranteed-investments/tax-free-guaranteed-investment\"\n",
    "class BankWebSite(WebSite):\n",
    "    def __init__(self, url_str):\n",
    "        super().__init__(url_str)\n",
    "        \n",
    "    def set_file_name(self):\n",
    "        self._file_name = datetime.strftime(datetime.today().date(), \"%Y-%m-%d\") + urllib.parse.quote(self._url_object.path, \" \")+'.pickle'\n",
    "tangerine = BankWebSite(url_tangerine_cpg_rate)\n"
   ]
  },
  {
   "cell_type": "code",
   "execution_count": 9,
   "id": "1e30e27b-fe06-4780-91d3-16c8ff6f40ae",
   "metadata": {},
   "outputs": [
    {
     "name": "stdout",
     "output_type": "stream",
     "text": [
      "Instantiating file path\n",
      "instantiating host name\n",
      "Data succeffuly acquired, saving on file\n",
      "html/www.tangerine.ca/2023-11-20%2Ffr%2Fproducts%2Fsaving%2Fguaranteed-investments%2Ftax-free-guaranteed-investment.pickle as been saved\n",
      "System recursions limits has been re-set at 1000\n",
      "The file has been saved on disk\n"
     ]
    },
    {
     "name": "stderr",
     "output_type": "stream",
     "text": [
      "/Users/Louis-Philippe/Sites/709ruebeaudoin/myvenv/lib/python3.9/site-packages/urllib3/connectionpool.py:1045: InsecureRequestWarning: Unverified HTTPS request is being made to host 'www.tangerine.ca'. Adding certificate verification is strongly advised. See: https://urllib3.readthedocs.io/en/1.26.x/advanced-usage.html#ssl-warnings\n",
      "  warnings.warn(\n"
     ]
    }
   ],
   "source": [
    "t = \"#mainContentSection > section > div:nth-child(11) > div.widget-hidden > div > div > div > div.tngCol-6\"\n",
    "tangerine_cpg_rate = tangerine.get_bs4_object().select(t)"
   ]
  },
  {
   "cell_type": "code",
   "execution_count": 10,
   "id": "046b8563-c0aa-43f3-a619-7a0915e9d2cb",
   "metadata": {},
   "outputs": [
    {
     "name": "stdout",
     "output_type": "stream",
     "text": [
      "**** <div class=\"tngLeft tngBodyBase-prx width-40pn\">Placement garanti</div>\n",
      "0.2465753424657534 jours\n",
      "<div class=\"tngRight tngBodyBase-prx\" data-toggle=\"rate\" data-type=\"shorttermtfsagic90days\">0,20 %</div>\n",
      "0.2\n",
      "**** <div class=\"tngLeft tngBodyBase-prx width-40pn\">Placement garanti</div>\n",
      "0.4931506849315068 jours\n",
      "<div class=\"tngRight tngBodyBase-prx\" data-toggle=\"rate\" data-type=\"shorttermtfsagic180days\">0,60 %</div>\n",
      "0.6\n",
      "**** <div class=\"tngLeft tngBodyBase-prx width-40pn\">Placement garanti</div>\n",
      "0.7397260273972602 jours\n",
      "<div class=\"tngRight tngBodyBase-prx\" data-toggle=\"rate\" data-type=\"shorttermtfsagic270days\">0,75 %</div>\n",
      "0.75\n",
      "**** <div class=\"tngLeft tngBodyBase-prx width-40pn\">Placement garanti</div>\n",
      "1.0 an\n",
      "<div class=\"tngRight tngBodyBase-prx\" data-toggle=\"rate\" data-type=\"tfsagic1yr\">0,65 %</div>\n",
      "0.65\n",
      "**** <div class=\"tngLeft tngBodyBase-prx width-40pn\">Placement garanti</div>\n",
      "1.5 an\n",
      "<div class=\"tngRight tngBodyBase-prx\" data-toggle=\"rate\" data-type=\"tfsagic18month\">0,70 %</div>\n",
      "0.7\n",
      "**** <div class=\"tngLeft tngBodyBase-prx width-40pn\">Placement garanti</div>\n",
      "2.0 ans\n",
      "<div class=\"tngRight tngBodyBase-prx\" data-toggle=\"rate\" data-type=\"tfsagic2yr\">0,75 %</div>\n",
      "0.75\n",
      "**** <div class=\"tngLeft tngBodyBase-prx width-40pn\">Placement garanti</div>\n",
      "3.0 ans\n",
      "<div class=\"tngRight tngBodyBase-prx\" data-toggle=\"rate\" data-type=\"tfsagic3yr\">0,80 %</div>\n",
      "0.8\n",
      "**** <div class=\"tngLeft tngBodyBase-prx width-40pn\">Placement garanti</div>\n",
      "4.0 ans\n",
      "<div class=\"tngRight tngBodyBase-prx\" data-toggle=\"rate\" data-type=\"tfsagic4yr\">1,00 %</div>\n",
      "1.0\n",
      "**** <div class=\"tngLeft tngBodyBase-prx width-40pn\">Placement garanti</div>\n",
      "5.0 ans\n",
      "<div class=\"tngRight tngBodyBase-prx\" data-toggle=\"rate\" data-type=\"tfsagic5yr\">1,10 %</div>\n",
      "1.1\n"
     ]
    }
   ],
   "source": [
    "for row in tangerine_cpg_rate[0].find_all(\"div\", {\"class\":\"tngLeft\"}):\n",
    "    print(\"****\", row)\n",
    "    for child in row.find_next_siblings():\n",
    "        if child.name==\"span\":\n",
    "            # pass\n",
    "            # print(child)\n",
    "            dure_unite = child.text.split()\n",
    "            duré = float(dure_unite[0].replace(\",\", \".\"))\n",
    "            unité = dure_unite[1]\n",
    "            if unité == \"jours\":\n",
    "                print(duré/365, unité)\n",
    "            elif unité == \"an\":\n",
    "                print(duré, unité)\n",
    "            elif unité == \"ans\":\n",
    "                print(duré, unité)\n",
    "        else:\n",
    "            print(child)\n",
    "            rate = float(child.text.replace(\"%\", \"\").replace(\",\", \".\"))\n",
    "            print(float(child.text.replace(\"%\", \"\").replace(\",\", \".\")))\n",
    "            # pass\n",
    "            \n",
    "        \n",
    "# tangerine_cpg_rate[0].find_all(\"div\", {\"class\":\"tngBodyBase-prx\"})\n",
    "    "
   ]
  },
  {
   "cell_type": "code",
   "execution_count": null,
   "id": "ddd88d51-dde0-4a2d-bc3c-25d476a17b58",
   "metadata": {},
   "outputs": [],
   "source": []
  },
  {
   "cell_type": "markdown",
   "id": "bab47311-dff1-448a-98d4-074e9e48b651",
   "metadata": {
    "tags": []
   },
   "source": [
    "# BNC"
   ]
  },
  {
   "cell_type": "code",
   "execution_count": null,
   "id": "08bef45f-260b-4240-8749-c6d348a42d0d",
   "metadata": {},
   "outputs": [],
   "source": [
    "url_bnc_str = 'https://www.bnc.ca/particuliers/hypotheque/taux.html'\n",
    "bnc_tableXPath = '//*[@id=\"TableStatic-0\"]/div/table'\n",
    "bnc_row_x_path = '//*[@id=\"TableStatic-0\"]/div/table/tbody/tr'\n",
    "bnc_col_x_path = '//*[@id=\"TableStatic-0\"]/div/table/tbody/tr[1]/th'\n",
    "bnc_title_x_path = '//*[@id=\"TableStatic-0\"]/div/table/tbody/tr[1]/th['\n",
    "\n",
    "class BncWebTable(WebTable):\n",
    "\n",
    "    def __init__(self):\n",
    "        self.rate_df = None\n",
    "        chrome_options = Options()\n",
    "        chrome_options.add_argument(\"--disable-images\")\n",
    "        super().__init__(url_bnc_str, bnc_tableXPath, bnc_row_x_path, bnc_col_x_path, bnc_title_x_path)\n",
    "        \n",
    "    def set_rate_df(self):\n",
    "        self.rate_df_raw[\"Fermé\"] = self.rate_df_raw[\"Fermé\"].apply(lambda x: clean_percentage(x))\n",
    "        self.rate_df_raw[\"TAC8\"] = self.rate_df_raw[\"TAC8\"].apply(lambda x: clean_percentage(x))\n",
    "        \n",
    "    def click_area(self):\n",
    "        allAreaClicable = \"/html/body/main/div/div/div[5]/div[2]/div/div/div[2]/div[2]/div/div/div[4]/div/div[1]\"\n",
    "        self.driver.find_element(\"xpath\", XPath).click()\n",
    "        \n",
    "    def get_other_table(self):\n",
    "        self.click_area()\n",
    "        tableXPath = '//*[@id=\"TableStatic-1\"]/div/table'\n",
    "        row_x_path = '//*[@id=\"TableStatic-1\"]/div/table/tbody/tr'\n",
    "        col_x_path = '//*[@id=\"TableStatic-1\"]/div/table/tbody/tr[1]/th'\n",
    "        title_x_path = '//*[@id=\"TableStatic-1\"]/div/table/tbody/tr[1]/th['\n",
    "        \n",
    "from selenium import webdriver\n",
    "from selenium.webdriver.chrome.options import Options\n",
    "\n",
    "\n",
    "\n",
    "        \n",
    "        \n",
    "        \n",
    "    \n",
    "        "
   ]
  },
  {
   "cell_type": "code",
   "execution_count": null,
   "id": "b93c4a73-f756-4394-b0c9-c8e20733f348",
   "metadata": {},
   "outputs": [],
   "source": [
    "bnc = BncWebTable()\n",
    "bnc.get_infos()\n",
    "# bnc.click_area()"
   ]
  },
  {
   "cell_type": "code",
   "execution_count": null,
   "id": "5a76b875-9dc0-4821-a906-1e22353fa64f",
   "metadata": {},
   "outputs": [],
   "source": [
    "# bnc.set_rate_df()\n",
    "bnc.rate_df_raw"
   ]
  },
  {
   "cell_type": "markdown",
   "id": "51a77581-3e11-4915-b49d-565e4d65a101",
   "metadata": {
    "tags": []
   },
   "source": [
    "# Desjardins"
   ]
  },
  {
   "cell_type": "code",
   "execution_count": null,
   "id": "f2ae9c9d-fa74-484e-abb1-136558d418ab",
   "metadata": {},
   "outputs": [],
   "source": [
    "desjardins_df_list = pd.read_html(\"https://www.desjardins.com/taux-rendement/financement/prets-hypothecaires/index.jsp?utm_id=e-p-0-118901178170&campagne=e-p-0-118901178170&gclid=CjwKCAiAuOieBhAIEiwAgjCvcvc_T3-q5QNFozoSiJQu4xe4ZTf5gHbDX2JhleOACRFfpMKEpXeFFhoCSL0QAvD_BwE&gclsrc=aw.ds\")"
   ]
  },
  {
   "cell_type": "code",
   "execution_count": null,
   "id": "85a0dc1c-3029-4158-ac4c-819df026a04a",
   "metadata": {},
   "outputs": [],
   "source": [
    "desjardins_df_list[0][\"Taux d\\'intérêt\"] = desjardins_df_list[0][\"Taux d\\'intérêt\"].apply(lambda x: clean_percentage(x))\n",
    "desjardins_df_list[0]"
   ]
  },
  {
   "cell_type": "code",
   "execution_count": null,
   "id": "17260513-3ff8-42a3-9b27-f823bebefdf0",
   "metadata": {},
   "outputs": [],
   "source": [
    "desjardins_df_list[1]"
   ]
  },
  {
   "cell_type": "code",
   "execution_count": null,
   "id": "7167f2a6-e29f-4457-8ac7-17fba0d5ab11",
   "metadata": {},
   "outputs": [],
   "source": [
    "desjardins_df_list[2]"
   ]
  },
  {
   "cell_type": "code",
   "execution_count": null,
   "id": "de4b0102-9d5a-49af-b966-89fd05e5cb31",
   "metadata": {},
   "outputs": [],
   "source": [
    "desjardins_df_list[3]"
   ]
  },
  {
   "cell_type": "code",
   "execution_count": null,
   "id": "378b20aa-7aba-4c11-8881-7ef3624a49b0",
   "metadata": {},
   "outputs": [],
   "source": [
    "desjardins_df_list[4]"
   ]
  },
  {
   "cell_type": "code",
   "execution_count": null,
   "id": "afc3111d-315a-48d5-85b6-43a59a5a88ad",
   "metadata": {},
   "outputs": [],
   "source": [
    "desjardins_df_list[5]"
   ]
  },
  {
   "cell_type": "code",
   "execution_count": null,
   "id": "49dd22ff-244e-4c34-a555-f2d6c27ab0a5",
   "metadata": {},
   "outputs": [],
   "source": []
  },
  {
   "cell_type": "markdown",
   "id": "bbc62b4b-9d07-4293-b674-fc7c3fc9cfac",
   "metadata": {
    "tags": []
   },
   "source": [
    "# HSBC"
   ]
  },
  {
   "cell_type": "code",
   "execution_count": null,
   "id": "38fed6e0-221a-4fb5-88b9-27ede9d244aa",
   "metadata": {},
   "outputs": [],
   "source": [
    "url_str_hsbc = \"https://www.hsbc.ca/mortgages/rates/\""
   ]
  },
  {
   "cell_type": "code",
   "execution_count": null,
   "id": "8b88e61b-eb2f-4f9a-8939-1a011795fb21",
   "metadata": {},
   "outputs": [],
   "source": [
    "hsbc_df_list = pd.read_html(url_str_hsbc)"
   ]
  },
  {
   "cell_type": "code",
   "execution_count": null,
   "id": "0add72d6-f233-48e2-8543-f90696ed5b76",
   "metadata": {},
   "outputs": [],
   "source": [
    "hsbc_df_list[0]"
   ]
  },
  {
   "cell_type": "code",
   "execution_count": null,
   "id": "55278964-2401-45f0-b795-4573400eb78d",
   "metadata": {},
   "outputs": [],
   "source": []
  },
  {
   "cell_type": "code",
   "execution_count": null,
   "id": "8d6ea74f-97d6-4b76-b1be-28e107616459",
   "metadata": {},
   "outputs": [],
   "source": [
    "# hsbc_df_list[6][\"Rate\"] = hsbc_df_list[6][\"Rate\"].apply(lambda x: clean_percentage(x))\n",
    "hsbc_df_list[6]"
   ]
  },
  {
   "cell_type": "markdown",
   "id": "e15d21d9-0e65-4c11-8093-3d113100ac42",
   "metadata": {
    "tags": []
   },
   "source": [
    "# TD"
   ]
  },
  {
   "cell_type": "code",
   "execution_count": null,
   "id": "6c9f3c54-a4ff-4744-bba9-96e6318ebfcb",
   "metadata": {},
   "outputs": [],
   "source": [
    "url_td_str = 'https://www.td.com/ca/fr/services-bancaires-personnels/produits/prets-hypothecaires/taux-hypothecaires'\n",
    "td_tableXPath = '//*[@id=\"container-57afe9bd25\"]/div/div/div/table'\n",
    "td_row_x_path = '//*[@id=\"container-57afe9bd25\"]/div/div/div/table/tbody/tr'\n",
    "td_col_x_path = '//*[@id=\"container-57afe9bd25\"]/div/div/div/table/thead/tr/th'\n",
    "td_title_x_path = '//*[@id=\"container-57afe9bd25\"]/div/div/div/table/thead/tr/th['\n",
    "\n",
    "td = WebTable(url_td_str, td_tableXPath, td_row_x_path,  td_col_x_path, td_title_x_path)\n",
    "td.get_infos()\n",
    "'//*[@id=\"container-57afe9bd25\"]/div/div/div/table/tbody/tr[2]/th[2]'"
   ]
  },
  {
   "cell_type": "markdown",
   "id": "f69c3522-b5d8-4956-8a8f-b5218ed0fadc",
   "metadata": {},
   "source": [
    "# BMO"
   ]
  },
  {
   "cell_type": "markdown",
   "id": "a10441b3-b47c-46ed-bb20-1105d61e862f",
   "metadata": {},
   "source": [
    "# RBC"
   ]
  },
  {
   "cell_type": "markdown",
   "id": "4763bac4-9397-44de-89da-e09285578b8c",
   "metadata": {},
   "source": [
    "# CIBC"
   ]
  },
  {
   "cell_type": "markdown",
   "id": "ae2bf83e-647f-4897-9347-e93fadcd13f3",
   "metadata": {
    "tags": []
   },
   "source": [
    "# Nesto"
   ]
  },
  {
   "cell_type": "markdown",
   "id": "e9c19979-966c-4f1b-bb09-799f833384ec",
   "metadata": {
    "tags": []
   },
   "source": [
    "## Static data"
   ]
  },
  {
   "cell_type": "code",
   "execution_count": null,
   "id": "14b528f7-a563-4942-abc3-d6d5c8009a14",
   "metadata": {},
   "outputs": [],
   "source": [
    "url_nesto_str = \"https://www.nesto.ca/mortgage-rates/location/quebec/\"\n",
    "nesto_tableXPath = '//*[@id=\"allrates\"]/div/div/div[1]/div[1]/div/div[2]/figure/div/table'\n",
    "nesto_row_x_path = '//*[@id=\"allrates\"]/div/div/div[1]/div[1]/div/div[2]/figure/div/table/tbody/tr'\n",
    "nesto_col_x_path = '//*[@id=\"allrates\"]/div/div/div[1]/div[1]/div/div[2]/figure/div/table/thead/tr/th'\n",
    "nesto_title_x_path = '//*[@id=\"allrates\"]/div/div/div[1]/div[1]/div/div[2]/figure/div/table/thead/tr/th['\n",
    "\n",
    "# \"/html/body/div[2]/div/div/main/section[3]/div/div/div[1]/div[1]/div/div[2]/figure/div/table/tbody/tr[1]/td[1]\""
   ]
  },
  {
   "cell_type": "markdown",
   "id": "7fad2605-507b-4e91-bbca-f92cc1ae880f",
   "metadata": {},
   "source": [
    "## Get the data"
   ]
  },
  {
   "cell_type": "code",
   "execution_count": null,
   "id": "e100330d-2b72-4828-9300-1ad419b73a35",
   "metadata": {},
   "outputs": [],
   "source": [
    "nesto = WebTable(url_nesto_str, nesto_tableXPath, nesto_row_x_path, nesto_col_x_path, nesto_title_x_path )\n",
    "nesto.get_infos()\n",
    "nesto.rate_df_raw[\"Period\"] = [v[0].split()[0] for k, v in nesto.table_dict.items()]\n",
    "nesto.rate_df_raw[\"Type\"] = [v[0].split()[1] for k, v in nesto.table_dict.items()]\n",
    "nesto.rate_df_raw[\"Rate\"] = nesto.rate_df_raw[\"Rate\"].apply(lambda x: clean_percentage(x))\n",
    "nesto.rate_df_raw[\"Period\"] = nesto.rate_df_raw[\"Period\"].str.replace(\"-\", \" \").str.strip().str.replace(\"year\", \"ans\")"
   ]
  },
  {
   "cell_type": "code",
   "execution_count": null,
   "id": "e0a6abaa-98d4-43b5-ba2d-57849a3efa69",
   "metadata": {},
   "outputs": [],
   "source": [
    "nesto.rate_df_raw[nesto.rate_df_raw[\"Type\"] == \"fixed\"][[\"Period\", \"Rate\"]]"
   ]
  },
  {
   "cell_type": "markdown",
   "id": "47c5fa62-41f4-4c64-bc08-e8513ff27749",
   "metadata": {
    "tags": []
   },
   "source": [
    "# hypotheque"
   ]
  },
  {
   "cell_type": "code",
   "execution_count": null,
   "id": "a461c6f7-1f84-48fc-9eda-34d69e236d23",
   "metadata": {
    "tags": []
   },
   "outputs": [],
   "source": [
    "def get_closest_rate_to_date(serie, date):\n",
    "    min_date = serie.index.min()\n",
    "    max_date = serie.index.max()\n",
    "\n",
    "    if date >= min_date and date <= max_date:\n",
    "        if date in serie.index.to_list():\n",
    "            return serie[date]\n",
    "        else:\n",
    "            date = date + timedelta(days=1) \n",
    "            return get_closest_rate_to_date(serie, date)\n",
    "            \n",
    "            \n",
    "class InterestRate(object):\n",
    "    def __init__(self, nominal_int_rate, compunding_freq_per_year):\n",
    "        self.nominal = nominal_int_rate\n",
    "        self.compunding_freq_per_year = compunding_freq_per_year\n",
    "        self.effective = self.nominal / self.compunding_freq_per_year\n",
    "    \n",
    "    def an(self, n):\n",
    "        if 1 - (1 + self.effective) ** - n == 0:\n",
    "            return 1\n",
    "        else:\n",
    "            return (1 - (1 + self.effective) ** - n) / self.effective\n",
    "    def sn(self, n):\n",
    "        return ((1 + self.effective) ** (n) - 1) / self.effective \n",
    "    def compute_accumulation_function(self, t):\n",
    "        return (1 + self.effective) ** t\n",
    "    def compute_actualisation_function(self, t):\n",
    "        return (1 + self.eff_interest_rate) ** -t\n",
    "    def __str__(self):\n",
    "        return str(self.nominal)\n",
    "    \n",
    "class Mortage2(object):\n",
    "    \n",
    "    def __init__(self, start_date, principal, amortisation_period_in_year, compunding_freq_per_year, fixed_rate=None):\n",
    "        self.start_date_dt = start_date\n",
    "        self.principal = principal\n",
    "        self.historical_rate_df = pd.read_csv('~/Downloads/chartered_bank_interest.csv', sep=\",\", header=21, parse_dates=True, index_col=\"date\")\n",
    "        self.amortisation_period_in_year = amortisation_period_in_year\n",
    "        self.compunding_freq_per_year = compunding_freq_per_year\n",
    "        self.total_compunding_period = amortisation_period_in_year * compunding_freq_per_year\n",
    "        self.date_list = None\n",
    "        self.var_rate_serie = self.historical_rate_df[\"V80691311\"]\n",
    "        self.five_year_fixed_rate_serie = self.historical_rate_df[\"V80691335\"]\n",
    "        \n",
    "        if fixed_rate is None:\n",
    "            self.five_year_fixed_rate = InterestRate(get_closest_rate_to_date(self.historical_rate_df[\"V80691335\"], self.start_date_dt) / 100, self.compunding_freq_per_year)\n",
    "        else:\n",
    "            self.five_year_fixed_rate = InterestRate(fixed_rate, 26)\n",
    "            \n",
    "        self.fixed_mortgage_renewal_date_list = {}\n",
    "        self.renewal_date_dict = None\n",
    "        self.amort_df = None\n",
    "        self.fixed_over_var = 0\n",
    "    \n",
    "        \n",
    "    \n",
    "    def set_date_list(self):\n",
    "        if self.compunding_freq_per_year == 12:\n",
    "            self.date_list = [self.start_date_dt + relativedelta(months=x) for x in range(0, self.total_compunding_period + 1)]\n",
    "        elif self.compunding_freq_per_year == 1:\n",
    "            self.date_list = [self.start_date_dt + relativedelta(years=x) for x in range(0, self.total_compunding_period + 1)]\n",
    "        elif self.compunding_freq_per_year == 26:\n",
    "            self.date_list = [self.start_date_dt + relativedelta(weeks= 2 * x) for x in range(0, self.total_compunding_period + 1)]\n",
    "    \n",
    "    \n",
    "    def set_renewal_dates(self):\n",
    "        self.renewal_date_dict = {int(i * 5 * self.compunding_freq_per_year):self.date_list[int(i * 5 * self.compunding_freq_per_year)] for i in range(0,5)}\n",
    "        \n",
    "        \n",
    "    def set_amort_dict(self, fixed=True):\n",
    "        b = self.principal\n",
    "        date_index = 0\n",
    "        Index = []\n",
    "        dict_df = {'interet_rate': [],\n",
    "                   'balance': [],\n",
    "                   'pmt': [], \n",
    "                   'interet': [], \n",
    "                   'capital': []\n",
    "                  }\n",
    "    \n",
    "        while date_index <= self.total_compunding_period:\n",
    "            if self.date_list[date_index] < self.var_rate_serie.index.max():\n",
    "                if fixed:\n",
    "                    if self.amortisation_period_in_year == 50:\n",
    "                        if date_index in self.renewal_date_dict:\n",
    "                            # rate = InterestRate(self.five_year_fixed_rate_serie[self.renewal_date_dict[date_index]] / 100, 26)\n",
    "                            rate = InterestRate(get_closest_rate_to_date(self.five_year_fixed_rate_serie, self.renewal_date_dict[date_index]) / 100, self.compunding_freq_per_year)\n",
    "                    else:\n",
    "                        rate = self.five_year_fixed_rate\n",
    "                else:\n",
    "                    rate = InterestRate(get_closest_rate_to_date(self.var_rate_serie, self.date_list[date_index]) / 100, self.compunding_freq_per_year)\n",
    "\n",
    "\n",
    "                i = rate.effective\n",
    "                int_amount = i * b\n",
    "                # self.cumInteretsPaid += int_amount\n",
    "                n = self.total_compunding_period - date_index \n",
    "                # print(date_index, n, b)\n",
    "                p = b / rate.an(n)\n",
    "                capital = p - int_amount\n",
    "                b = b * (1 + i)\n",
    "\n",
    "                Index.append(self.date_list[date_index])\n",
    "                dict_df['interet_rate'].append(i)\n",
    "                dict_df['balance'].append(round(b, 2))\n",
    "                dict_df['pmt'].append(round(p, 2))\n",
    "                dict_df['interet'].append(round(int_amount, 2))\n",
    "                dict_df['capital'].append(round(capital, 2))\n",
    "                b -= p\n",
    "            date_index += 1  \n",
    "\n",
    "        # return dict_df\n",
    "        return pd.DataFrame(dict_df, index=Index)\n",
    "    \n",
    "    def set_amort_dict_2(self, fixed=True):\n",
    "        b = self.principal\n",
    "        date_index = 0\n",
    "        Index = []\n",
    "        dict_df = {'interet_rate': [],\n",
    "                   'balance': [],\n",
    "                   'pmt': [], \n",
    "                   'interet': [], \n",
    "                   'capital': []\n",
    "                  }\n",
    "    \n",
    "        while date_index <= self.total_compunding_period:\n",
    "            # print(date_index)\n",
    "            rate = self.five_year_fixed_rate\n",
    "            \n",
    "            i = rate.effective\n",
    "            int_amount = i * b\n",
    "            # self.cumInteretsPaid += int_amount\n",
    "            n = self.total_compunding_period - date_index \n",
    "            # print(date_index, n, b)\n",
    "            p = b / rate.an(n)\n",
    "            capital = p - int_amount\n",
    "            b = b * (1 + i)\n",
    "\n",
    "            Index.append(self.date_list[date_index])\n",
    "            dict_df['interet_rate'].append(i)\n",
    "            dict_df['balance'].append(round(b, 2))\n",
    "            dict_df['pmt'].append(round(p, 2))\n",
    "            dict_df['interet'].append(round(int_amount, 2))\n",
    "            dict_df['capital'].append(round(capital, 2))\n",
    "            b -= p\n",
    "            date_index += 1  \n",
    "\n",
    "        # return dict_df\n",
    "        return pd.DataFrame(dict_df, index=Index)\n",
    "    \n",
    "        \n",
    "    def set_fixed_over_var(self):\n",
    "        self.fixed_over_var = sum(self.set_amort_dict()['interet']) - sum(self.set_amort_dict(fixed=False)['interet'])\n",
    "    \n",
    "    def set_up(self):\n",
    "        self.set_date_list()\n",
    "        # self.set_renewal_dates()\n",
    "        # self.set_amort_dict()\n",
    "        # self.set_fixed_over_var()\n",
    "        # self.amort_df = pd.merge(self.set_amort_df(fixed=False), self.set_amort_df(), left_index=True, right_index=True, suffixes=('_var', '_fixed'))\n",
    "        \n",
    "    def diff_in_interest_paid(self):\n",
    "        return self.amort_df['interet_fixed'].sum() - self.amort_df['interet_var'].sum()\n",
    "\n",
    "\n"
   ]
  },
  {
   "cell_type": "code",
   "execution_count": null,
   "id": "a7b64e2c-8145-414a-8a81-3db08d83931c",
   "metadata": {},
   "outputs": [],
   "source": [
    "class Mortgage(object):\n",
    "    def __init__(self, start_date, principal, amortisation_period_in_year, compunding_freq_per_year, rate, term=5):\n",
    "#        term of 1 / 3  / 5 years\n",
    "        self.start_date_dt = start_date\n",
    "        self.principal = principal\n",
    "        self.amortisation_period_in_year = amortisation_period_in_year\n",
    "        self.compunding_freq_per_year = compunding_freq_per_year\n",
    "        self.total_compunding_period = amortisation_period_in_year * compunding_freq_per_year # this is used for pmt calculation\n",
    "        self.term = term # this is used for calendar\n",
    "        self.total_compunding_period_in_contract = term * compunding_freq_per_year\n",
    "        self.date_list = None\n",
    "        \n",
    "    def set_date_list(self):\n",
    "        if self.compunding_freq_per_year == 12:\n",
    "            self.date_list = [self.start_date_dt + relativedelta(months=x) for x in range(0, self.total_compunding_period_in_contract + 1)]\n",
    "        elif self.compunding_freq_per_year == 1:\n",
    "            self.date_list = [self.start_date_dt + relativedelta(years=x) for x in range(0, self.total_compunding_period_in_contract + 1)]\n",
    "        elif self.compunding_freq_per_year == 26:\n",
    "            self.date_list = [self.start_date_dt + relativedelta(weeks= 2 * x) for x in range(0, int(round(self.total_compunding_period_in_contract / 2)) + 1)]\n",
    "        \n",
    "    \n",
    "class MortgageRetroEvaluation(Mortgage):\n",
    "    def __init__(self, start_date, principal, amortisation_period_in_year, compunding_freq_per_year):\n",
    "        super().__init__(start_date, principal, amortisation_period_in_year, compunding_freq_per_year, rate=None)\n",
    "        self.historical_rate_df = pd.read_csv('~/Downloads/chartered_bank_interest.csv', sep=\",\", header=21, parse_dates=True, index_col=\"date\")\n",
    "        self.var_rate_serie = self.historical_rate_df[\"V80691311\"]\n",
    "        self.five_year_fixed_rate_serie = self.historical_rate_df[\"V80691335\"]\n",
    "        \n",
    "        \n",
    "class FixedRateMortgage(Mortgage):\n",
    "    def __init__(self, start_date, principal, amortisation_period_in_year, compunding_freq_per_year, rate, term):\n",
    "        super().__init__(start_date, principal, amortisation_period_in_year, compunding_freq_per_year, rate)\n",
    "           \n",
    "class VariableRateMortgage(Mortgage):\n",
    "    def __init__(self, start_date, principal, amortisation_period_in_year, compunding_freq_per_year, rate):\n",
    "        super().__init__(start_date, principal, amortisation_period_in_year, compunding_freq_per_year, rate)"
   ]
  },
  {
   "cell_type": "code",
   "execution_count": null,
   "id": "320c206f-7dbb-4b3a-9156-b32502887e8e",
   "metadata": {},
   "outputs": [],
   "source": [
    "class VariableRateMortgage(object):\n",
    "    def __init__(self, start_date, principal, loan_amortisation_period_in_year, compunding_freq_per_year, loan_term_in_years):\n",
    "        self.start_date = start_date\n",
    "        self.principal = principal\n",
    "        self.loan_amortisation_period_in_year = loan_amortisation_period_in_year\n",
    "        self.loan_term_in_years = loan_term_in_years\n",
    "        \n",
    "        self.rate_dict = {}\n",
    "        \n",
    "    def set_date_list(self):\n",
    "        if self.compunding_freq_per_year == 12:\n",
    "            self.date_list = [self.start_date_dt + relativedelta(months=x) for x in range(0, self.total_compunding_period_in_contract + 1)]\n",
    "        elif self.compunding_freq_per_year == 1:\n",
    "            self.date_list = [self.start_date_dt + relativedelta(years=x) for x in range(0, self.total_compunding_period_in_contract + 1)]\n",
    "        elif self.compunding_freq_per_year == 26:\n",
    "            self.date_list = [self.start_date_dt + relativedelta(weeks= 2 * x) for x in range(0, int(round(self.total_compunding_period_in_contract / 2)) + 1)]\n",
    "            \n",
    "        \n",
    "v = VariableRateMortgage(dt(2022, 1, 1), 150000, 25, 26, 5)"
   ]
  },
  {
   "cell_type": "markdown",
   "id": "1789ae27-7dd3-4a3a-80d5-2293b7cffc67",
   "metadata": {},
   "source": [
    "## Rate test"
   ]
  },
  {
   "cell_type": "markdown",
   "id": "b1e53598-3a1c-473b-90b5-5fd751c55d00",
   "metadata": {},
   "source": [
    "### Implied banq rate"
   ]
  },
  {
   "cell_type": "code",
   "execution_count": null,
   "id": "a22eea2c-5dff-44fd-a36a-e532ad2ae05e",
   "metadata": {},
   "outputs": [],
   "source": [
    "# https://towardsdatascience.com/develop-your-own-newton-raphson-algorithm-in-python-a20a5b68c7dd\n",
    "\n",
    "rate_var = 0.067\n",
    "rate_1 = 0.0634\n",
    "rate_3 = 0.0614\n",
    "rate_5 = 0.0649\n",
    "\n",
    "rate_dict = {1:rate_1, 3:rate_3, 5:rate_5}\n",
    " \n",
    "i_1 = (((1 + rate_1 / 12) ** 12 / (1 + rate_var / 12)) ** (1 / 11) - 1) * 12\n",
    "i_1\n",
    "i_2 = ((((1 + rate_3 / 12) ** (3 * 12) / (1 + rate_1 / 12) ** 12) ** (1 /24)) - 1) * 12 \n",
    "i_2 \n",
    "i_4 = ((((1 + rate_5 / 12) ** (5 * 12) / (1 + rate_3 / 12) ** (36)) ** (1 / 24)) - 1) * 12 \n",
    "i_4\n",
    "\n",
    "# for t in l:\n",
    "# what is the implied equivalent rate to get from var to 1 year\n",
    "# print((1 + i / 12) ** 11 * (1 + rate_var / 12),\n",
    "# (1 + rate_1 / 12) ** 12)\n",
    "# (1 + i / 12) ** 11 * (1 + rate_var / 12) == (1 + rate_1 / 12) ** 12"
   ]
  },
  {
   "cell_type": "markdown",
   "id": "55ba775b-0b1e-41ec-9690-d53870f0e23a",
   "metadata": {},
   "source": [
    "### Cinqplex"
   ]
  },
  {
   "cell_type": "code",
   "execution_count": null,
   "id": "ae57e8af-2554-4659-9611-d07ae706d21f",
   "metadata": {},
   "outputs": [],
   "source": [
    "m = Mortage2(dt(2022,5,18), 1750000, 30, 12, 0.0594)\n",
    "m.set_up()\n",
    "df = m.set_amort_dict_2()\n",
    "pmt = df[\"pmt\"][0]\n",
    "# (1 * 7 * 300 + 40 * 2 * 300, 12 * 2038)\n",
    "# taxes = 3000\n",
    "# chauffage = 200 * 12\n",
    "# reparations = 50000 / 20\n",
    "# nombre_de_nuit_totale = (12 * 2038 + taxes + chauffage + reparations) / 300\n",
    "# nombre_de_semaines = 5 * 7\n",
    "# print(nombre_de_nuit_totale, \"Nuits\")\n",
    "# print(\"ou 5 semaines complete et\", (nombre_de_nuit_totale - nombre_de_semaines) / 2, \"week end\")\n",
    "taxe_totale = 6575\n",
    "pmt_mensuel = (12 * pmt - 68340 + taxe_totale) / 12\n",
    "pmt_mensuel / 5"
   ]
  },
  {
   "cell_type": "markdown",
   "id": "5c2efe28-f80a-45fc-87e7-05a52e0e7f3d",
   "metadata": {},
   "source": [
    "### Quadruplex"
   ]
  },
  {
   "cell_type": "code",
   "execution_count": null,
   "id": "6de095d8-7eff-4e98-b374-315c012975f0",
   "metadata": {},
   "outputs": [],
   "source": [
    "m = Mortage2(dt(2022,5,18), 1150000, 30, 12, 0.0594)\n",
    "m.set_up()\n",
    "df = m.set_amort_dict_2()\n",
    "pmt = df[\"pmt\"][0]\n",
    "\n",
    "taxe_totale = 8000\n",
    "\n",
    "pmt_mensuel = (12 * pmt - 50700 + taxe_totale) / 12\n",
    "\n",
    "pmt_mensuel / 4"
   ]
  },
  {
   "cell_type": "markdown",
   "id": "dad077d9-6431-4287-a618-0adc279804e3",
   "metadata": {},
   "source": []
  },
  {
   "cell_type": "code",
   "execution_count": null,
   "id": "fe752c8b-2412-4959-9ead-1cf615a8f0a8",
   "metadata": {},
   "outputs": [],
   "source": [
    "m = Mortage2(dt(2022,5,18), 869000, 30, 12, 0.0594)\n",
    "m.set_up()\n",
    "df = m.set_amort_dict_2()\n",
    "pmt = df[\"pmt\"][0]\n",
    "nombre_de_porte = 3\n",
    "taxe_totale = 5707\n",
    "revenus_potentiel = 49920\n",
    "\n",
    "pmt_mensuel = (12 * pmt - revenus_potentiel + taxe_totale) / 12\n",
    "\n",
    "print(pmt_mensuel, pmt_mensuel / nombre_de_porte )"
   ]
  },
  {
   "cell_type": "code",
   "execution_count": null,
   "id": "067ae7dc-7b83-4ea9-bc68-99e489719cea",
   "metadata": {},
   "outputs": [],
   "source": [
    "m = Mortage2(dt(2022,5,18), 799000, 30, 12, 0.0594)\n",
    "m.set_up()\n",
    "df = m.set_amort_dict_2()\n",
    "pmt = df[\"pmt\"][0]\n",
    "nombre_de_porte = 3\n",
    "taxe_totale = 3812\n",
    "revenus_potentiel = 31380\n",
    "\n",
    "pmt_mensuel = (12 * pmt - revenus_potentiel + taxe_totale) / 12\n",
    "\n",
    "print(pmt_mensuel, pmt_mensuel / nombre_de_porte )"
   ]
  },
  {
   "cell_type": "code",
   "execution_count": null,
   "id": "6e5a4501-59b7-4a79-8991-a037cda8f79a",
   "metadata": {},
   "outputs": [],
   "source": [
    "m = Mortage2(dt(2022,5,18), 799900, 30, 12, 0.0594)\n",
    "m.set_up()\n",
    "df = m.set_amort_dict_2()\n",
    "pmt = df[\"pmt\"][0]\n",
    "nombre_de_porte = 3\n",
    "taxe_totale = 4568\n",
    "revenus_potentiel = 33900\n",
    "\n",
    "pmt_mensuel = (12 * pmt - revenus_potentiel + taxe_totale) / 12\n",
    "\n",
    "print(pmt_mensuel, pmt_mensuel / nombre_de_porte )"
   ]
  },
  {
   "cell_type": "code",
   "execution_count": null,
   "id": "dfad6068-379d-4eea-a2f3-499c3a3a1c6b",
   "metadata": {},
   "outputs": [],
   "source": [
    "m = Mortage2(dt(2022,5,18), 729000, 30, 12, 0.0594)\n",
    "m.set_up()\n",
    "df = m.set_amort_dict_2()\n",
    "pmt = df[\"pmt\"][0]\n",
    "nombre_de_porte = 3\n",
    "taxe_totale = 5112\n",
    "revenus_potentiel = 37560\n",
    "\n",
    "pmt_mensuel = (12 * pmt - revenus_potentiel + taxe_totale) / 12\n",
    "\n",
    "print(pmt_mensuel, pmt_mensuel / nombre_de_porte )\n",
    "\n",
    "df['interet'][:'2023-05-18'].sum()\n",
    "\n",
    "m."
   ]
  },
  {
   "cell_type": "code",
   "execution_count": null,
   "id": "ca1ec6c3-30e9-4d06-b2e9-aabf6faa770a",
   "metadata": {},
   "outputs": [],
   "source": [
    "r_immobilier = 0.0053\n"
   ]
  },
  {
   "cell_type": "markdown",
   "id": "91d16313-ce67-4ac4-b6b4-3d5bf4be4ade",
   "metadata": {},
   "source": [
    "## New object"
   ]
  },
  {
   "cell_type": "code",
   "execution_count": null,
   "id": "be9563c3-1a29-484b-8cd3-5d744da6058b",
   "metadata": {},
   "outputs": [],
   "source": [
    "m_489 = Mortage(dt(2022, 2, 2), 46733.28, 5, 12, 0.0594, 2)\n",
    "m_619 = Mortage(dt(2022, 2, 2), 48000, 5, 26, 0.0619)\n",
    "m_489.set_up()\n",
    "m_619.set_up()"
   ]
  },
  {
   "cell_type": "code",
   "execution_count": null,
   "id": "05acbbbf-69f9-4b3f-a899-8b4664247f3d",
   "metadata": {
    "tags": []
   },
   "outputs": [],
   "source": [
    "m_619.set_amort_dict_2()[\"interet\"].sum() - m_489.set_amort_dict_2()[\"interet\"].sum()"
   ]
  },
  {
   "cell_type": "code",
   "execution_count": null,
   "id": "0b9b8127-f129-402f-b1b0-3249f58f573d",
   "metadata": {
    "tags": []
   },
   "outputs": [],
   "source": [
    "# m_619.set_amort_dict_2()[\"2024-02-03\"]\n",
    "\n",
    "m_619.set_amort_dict_2()['2022-02-02':'2024-02-14'][\"interet\"].sum() - m_489.set_amort_dict_2()['2022-02-02':'2024-02-14'][\"interet\"].sum()\n",
    "# m_619.set_amort_dict_2().index.to_list()\n",
    "# dt(2022, 2, 2) + relativedelta(years=3)"
   ]
  },
  {
   "cell_type": "code",
   "execution_count": null,
   "id": "a12da8eb-28cb-4298-a427-cc77f462fa3a",
   "metadata": {},
   "outputs": [],
   "source": [
    "m_619.set_amort_dict_2().loc['2024-01-31']\n",
    "# m_619.set_amort_dict_2()[m_619.set_amort_dict_2()[]]"
   ]
  },
  {
   "cell_type": "code",
   "execution_count": null,
   "id": "6b9c6a87-dafa-4e95-bd99-4486826d81d4",
   "metadata": {},
   "outputs": [],
   "source": [
    "mortgage_list = pickle.load(open(\"mortgage_liste.pkl\", \"rb\"))"
   ]
  },
  {
   "cell_type": "code",
   "execution_count": null,
   "id": "71e3a99e-0f11-45d7-8de9-d7beca082132",
   "metadata": {
    "tags": []
   },
   "outputs": [],
   "source": [
    "import matplotlib.pyplot as plt\n",
    "import matplotlib.ticker as mtick\n",
    "import matplotlib.dates as mdates\n",
    "\n",
    "# y = []\n",
    "# x = []\n",
    "# for mortgage in mortgage_list:\n",
    "#     y.append(mortgage.fixed_over_var)\n",
    "#     x.append(mortgage.start_date_dt)\n",
    "#     relativedelta(mortgage.start_date_dt, mortgage_list[-1])\n",
    "    \n",
    "# ax = plt.figure(figsize=(16, 9))\n",
    "# plt.bar( x, y)  \n",
    "\n",
    "# ax.xaxis.set_major_locator(mdates.DayLocator(interval=25))\n",
    "# ax.xaxis.set_major_formatter(mdates.DateFormatter('%Y-%m-%d'))\n"
   ]
  },
  {
   "cell_type": "code",
   "execution_count": null,
   "id": "2779b8ad-e4a5-45ed-871b-5377e128e956",
   "metadata": {},
   "outputs": [],
   "source": [
    "len(mortgage_list)\n",
    "\n"
   ]
  },
  {
   "cell_type": "code",
   "execution_count": null,
   "id": "4136472e-b7e4-4dd0-80e6-f5ef0f129320",
   "metadata": {},
   "outputs": [],
   "source": [
    "\n",
    "\n",
    "print(\"variable\", df_var[\"interet\"].sum(), \"fixed\", df_fixed[\"interet\"].sum(), \"fixed_rate\", m.five_year_fixed_rate)\n",
    "\n",
    "ax = df[[\"interet_var\", \"interet_fixed\"]].plot(kind=\"bar\", figsize=(16, 9))\n",
    "\n",
    "ax.xaxis.set_major_locator(mdates.DayLocator(interval=25))\n",
    "ax.xaxis.set_major_formatter(mdates.DateFormatter('%Y-%m-%d'))\n",
    "\n",
    "\n",
    "# plt.xticks([])\n",
    "# df_fixed[\"interet\"].plot(kind=\"bar\", figsize=(16, 9))"
   ]
  },
  {
   "cell_type": "markdown",
   "id": "3fac0a25-436c-48e7-9860-ff662b633832",
   "metadata": {
    "tags": []
   },
   "source": [
    "# Inflation"
   ]
  },
  {
   "cell_type": "code",
   "execution_count": null,
   "id": "edf72acb-b345-47ff-89ca-f135444284c5",
   "metadata": {},
   "outputs": [],
   "source": [
    "inflation_data_df = pd.read_csv(\"~/Downloads/1810000401_databaseLoadingData.csv\")"
   ]
  },
  {
   "cell_type": "code",
   "execution_count": null,
   "id": "b211268d-a5ca-42d5-8376-4658a36ad02c",
   "metadata": {},
   "outputs": [],
   "source": [
    "# inflation_data_df[inflation_data_df[\"VECTOR\"].isin(inflation_data_df[\"VECTOR\"].unique()[:3])][[\"REF_DATE\", \"VALUE\"]].plot(x=\"REF_DATE\", y=\"VALUE\")\n",
    "\n",
    "df_list = []\n",
    "for s in inflation_data_df[\"VECTOR\"].unique()[:3]:\n",
    "    df_list.append(inflation_data_df[inflation_data_df[\"VECTOR\"] == s][[\"REF_DATE\", \"VALUE\"]])"
   ]
  },
  {
   "cell_type": "code",
   "execution_count": null,
   "id": "3f269500-279d-4708-8451-d5c7bd55a9e6",
   "metadata": {},
   "outputs": [],
   "source": [
    "pd.merge(df_list, on=\"REF_DATE\")\n",
    "# pd.concat(df_list)\n",
    "pd"
   ]
  },
  {
   "cell_type": "markdown",
   "id": "d9d1b325-0639-4889-aae9-da69d23737cf",
   "metadata": {
    "tags": []
   },
   "source": [
    "# Yield Curve"
   ]
  },
  {
   "cell_type": "code",
   "execution_count": null,
   "id": "b399fc83-bf61-474e-991a-0cd32d358b1f",
   "metadata": {},
   "outputs": [],
   "source": [
    "# yield_curve_pd = pd.read_csv('~/Downloads/yield_curves.csv', sep=\",\", header=0, dtype=float, na_values=' na', parse_dates=True, index_col=0)\n",
    "yield_curve_pd = pd.read_csv('~/Downloads/yield_curves.csv', sep=\",\", header=0, na_values=' na', parse_dates=True, index_col=0)\n",
    "yield_curve_pd.head()"
   ]
  },
  {
   "cell_type": "code",
   "execution_count": null,
   "id": "bf39c231-74e7-4d8c-b563-d12c57d32c34",
   "metadata": {},
   "outputs": [],
   "source": [
    "no_na_df = yield_curve_pd['2020-01-01':].dropna()"
   ]
  },
  {
   "cell_type": "code",
   "execution_count": null,
   "id": "728348a8-d2fb-4aa0-97f4-b6ffe03d8e78",
   "metadata": {},
   "outputs": [],
   "source": [
    "latest_rate_serie = no_na_df.loc[no_na_df.index.max()].to_list()\n",
    "one_year_ago_rate_serie = no_na_df.loc['2022-02-03'].to_list()\n",
    "six_months_ago_rate_serie = no_na_df.loc['2022-08-15'].to_list()\n",
    "x = no_na_df.loc[no_na_df.index.max()].index.to_list()\n",
    "l = []\n",
    "for f in x:\n",
    "    if f != \" \":\n",
    "        l.append(float(f.strip(' ZC').strip('YR')[:-2]+\".\"+f.strip(' ZC').strip('YR')[-2:]))\n",
    "series_dict = {'Current': latest_rate_serie, \n",
    "               'Last year': one_year_ago_rate_serie, \n",
    "               '6 months ago': six_months_ago_rate_serie\n",
    "              }\n",
    "\n",
    "def plot_test(series_dict, x_val, x_lable=None, y_lable=None, x_lim_min=None, x_lim_max=None, y_lim_min=None, y_lim_max=None, title=None):\n",
    "    import matplotlib as mpl\n",
    "    from matplotlib.colors import ListedColormap, LinearSegmentedColormap\n",
    "\n",
    "    fig, ax = plt.subplots(figsize=(13, 7), layout='constrained')\n",
    "    for serie in series_dict.values():\n",
    "        ax.plot(l, serie[:-1])\n",
    "    \n",
    "    ax.set_title(title, fontsize=20)\n",
    "    ax.set_ylim(y_lim_min, y_lim_max)\n",
    "    ax.set_xlim(x_lim_min, x_lim_max)\n",
    "    ax.set_xlabel(x_lable, fontsize=14)\n",
    "    ax.set_ylabel(y_lable, fontsize=14)\n",
    "    ax.legend([l for l in series_dict.keys()])\n",
    "    \n",
    "    ax.spines[\"top\"].set_visible(False)  \n",
    "    ax.spines[\"bottom\"].set_visible(True)  \n",
    "    ax.spines[\"right\"].set_visible(False)  \n",
    "    ax.spines[\"left\"].set_visible(True) \n",
    "\n",
    "    plt.show()\n",
    "    \n",
    "plot_test(series_dict, \n",
    "          l, \n",
    "          x_lable=\"Years\",\n",
    "          y_lable = \"rates\",\n",
    "          y_lim_min=None, \n",
    "          y_lim_max=0.05,\n",
    "          title = \"Yield curve, current - 6 months prior - last year\"\n",
    "         )"
   ]
  },
  {
   "cell_type": "code",
   "execution_count": null,
   "id": "abd9e8d8-dbd8-4974-af96-f96ea2df010a",
   "metadata": {},
   "outputs": [],
   "source": [
    "last_day = no_na_df.index.max().to_pydatetime()\n",
    "series_dict = {}\n",
    "for i in range(5):\n",
    "    series_dict['week_' + str(i)] = no_na_df.loc[last_day - timedelta(days= 7*i)]\n",
    "    # print(i, last_day - timedelta(days= 7*i), no_na_df.loc[last_day - timedelta(days= 7*i)])\n",
    "\n",
    "plot_test(series_dict, \n",
    "          l, \n",
    "          x_lable=\"Years\",\n",
    "          y_lable = \"rates\",\n",
    "          x_lim_min=0.25, \n",
    "          x_lim_max=4, \n",
    "          y_lim_min=None, \n",
    "          y_lim_max=0.05,\n",
    "          title = \"Yield curve, 4 last weeks, first four week\"\n",
    "         )\n",
    "# latest_rate_serie = no_na_df.loc[no_na_df.index.max()].to_list()\n",
    "# one_week = no_na_df.loc['2022-02-03'].to_list()"
   ]
  },
  {
   "cell_type": "code",
   "execution_count": null,
   "id": "3a37a995-c5e4-4d67-9139-ac94a1cdb824",
   "metadata": {
    "tags": []
   },
   "outputs": [],
   "source": [
    "plot_test(series_dict, \n",
    "          l, \n",
    "          x_lable=\"Years\",\n",
    "          y_lable = \"rates\",\n",
    "          x_lim_min=0.25, \n",
    "          x_lim_max=30, \n",
    "          y_lim_min=None, \n",
    "          y_lim_max=0.05, \n",
    "          title = \"Yield curve\"\n",
    "         )"
   ]
  },
  {
   "cell_type": "code",
   "execution_count": null,
   "id": "ddbd41a0-75b3-43dd-ad43-bc06537a5f01",
   "metadata": {},
   "outputs": [],
   "source": []
  }
 ],
 "metadata": {
  "kernelspec": {
   "display_name": "Django Shell-Plus",
   "language": "python",
   "name": "django_extensions"
  },
  "language_info": {
   "codemirror_mode": {
    "name": "ipython",
    "version": 3
   },
   "file_extension": ".py",
   "mimetype": "text/x-python",
   "name": "python",
   "nbconvert_exporter": "python",
   "pygments_lexer": "ipython3",
   "version": "3.9.18"
  },
  "toc-autonumbering": true
 },
 "nbformat": 4,
 "nbformat_minor": 5
}
