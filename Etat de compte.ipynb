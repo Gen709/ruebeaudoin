{
 "cells": [
  {
   "cell_type": "code",
   "execution_count": 6,
   "id": "d77e3a9e-64d7-4c7c-b4a4-d6b8b14742d4",
   "metadata": {},
   "outputs": [],
   "source": [
    "from investment.models import UploadedPDF, VisaDesjardinsTransaction, Budget"
   ]
  },
  {
   "cell_type": "code",
   "execution_count": 10,
   "id": "fb883d85-944c-48aa-94a4-e4b9c80b48ae",
   "metadata": {},
   "outputs": [
    {
     "name": "stdout",
     "output_type": "stream",
     "text": [
      "pdf_uploads/releve_815-30185-0257844-20231101_WZa9kmf.pdf\n",
      "pdf_uploads/releve_815-30185-0257844-20231201.pdf\n"
     ]
    }
   ],
   "source": [
    "for file in UploadedPDF.objects.all():\n",
    "    print(file)"
   ]
  },
  {
   "cell_type": "code",
   "execution_count": 12,
   "id": "acf7239a-9bc0-40a6-9e55-2f7a09fdd0ae",
   "metadata": {},
   "outputs": [
    {
     "data": {
      "text/plain": [
       "(1, {'investment.UploadedPDF': 1})"
      ]
     },
     "execution_count": 12,
     "metadata": {},
     "output_type": "execute_result"
    }
   ],
   "source": [
    "file_to_delete = UploadedPDF.objects.get(file=\"pdf_uploads/releve_815-30185-0257844-20231201.pdf\")\n",
    "file_to_delete.delete()"
   ]
  },
  {
   "cell_type": "code",
   "execution_count": 5,
   "id": "9b02a62c-3d55-4498-be6c-f405ecc08810",
   "metadata": {},
   "outputs": [
    {
     "data": {
      "text/plain": [
       "datetime.datetime(2023, 11, 24, 5, 0, tzinfo=datetime.timezone.utc)"
      ]
     },
     "execution_count": 5,
     "metadata": {},
     "output_type": "execute_result"
    }
   ],
   "source": [
    "max({x.date for x in VisaDesjardinsTransaction.objects.all()})"
   ]
  },
  {
   "cell_type": "code",
   "execution_count": 8,
   "id": "f86db599-52ee-4c08-879e-cd1765906d0f",
   "metadata": {},
   "outputs": [
    {
     "data": {
      "text/plain": [
       "<QuerySet []>"
      ]
     },
     "execution_count": 8,
     "metadata": {},
     "output_type": "execute_result"
    }
   ],
   "source": [
    "Budget.objects.filter(spending_item_name__icontains=\"bs\")"
   ]
  },
  {
   "cell_type": "code",
   "execution_count": 9,
   "id": "5af0fe94-2a30-463a-a354-959d56c82df7",
   "metadata": {},
   "outputs": [
    {
     "name": "stdout",
     "output_type": "stream",
     "text": [
      "Activité Enfants\n",
      "Allocation canadienne pour enfants\n",
      "Allocation famille QC\n",
      "Apple iCloud\n",
      "assurances\n",
      "Cadeau\n",
      "Cheveux\n",
      "CLub TRI PAT\n",
      "Course Geneviève\n",
      "Dentiste Enfants\n",
      "Dentiste Genevieve\n",
      "Épicerie\n",
      "Estheticienne\n",
      "frais de garde\n",
      "Frais scholaires\n",
      "Hydro\n",
      "Hypothèque\n",
      "Immatriculations\n",
      "imprévues\n",
      "Internet\n",
      "Les Fraiches\n",
      "Massage\n",
      "Massages\n",
      "Netflix\n",
      "Nourriture Cochons\n",
      "Paye\n",
      "Permis de conduire\n",
      "Pharmacie\n",
      "pneus\n",
      "Remboursement d'impôt\n",
      "Restaurant\n",
      "Suppl. fournitures scolaires\n",
      "Taxe municipales\n",
      "Taxe scholaire\n",
      "Transport (electricité / parking / metro-bus)\n",
      "Vetement Enfants\n",
      "Vetement Genevieve\n",
      "vie sociale\n",
      "vin\n",
      "voiture 50000 dans 5 ans\n",
      "Voyages\n"
     ]
    }
   ],
   "source": [
    "for budget in Budget.objects.all():\n",
    "    print(budget.spending_item_name)"
   ]
  },
  {
   "cell_type": "code",
   "execution_count": null,
   "id": "9914cdd3-6629-416c-a8ff-c8e0764462cb",
   "metadata": {},
   "outputs": [],
   "source": []
  }
 ],
 "metadata": {
  "kernelspec": {
   "display_name": "Django Shell-Plus",
   "language": "python",
   "name": "django_extensions"
  },
  "language_info": {
   "codemirror_mode": {
    "name": "ipython",
    "version": 3
   },
   "file_extension": ".py",
   "mimetype": "text/x-python",
   "name": "python",
   "nbconvert_exporter": "python",
   "pygments_lexer": "ipython3",
   "version": "3.9.18"
  }
 },
 "nbformat": 4,
 "nbformat_minor": 5
}
