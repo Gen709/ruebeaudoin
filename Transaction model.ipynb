{
 "cells": [
  {
   "cell_type": "markdown",
   "id": "dc953fe6-3422-4533-8994-ae6911bd5f11",
   "metadata": {},
   "source": [
    "# Imports"
   ]
  },
  {
   "cell_type": "code",
   "execution_count": 1,
   "id": "4e27b9bb-8156-4a97-b91b-7017f4905511",
   "metadata": {},
   "outputs": [],
   "source": [
    "from investment.models import Merchant, Transaction, Budget, TransactionSource, CompteDesjardins, VisaDesjardinsTransaction\n",
    "from investment.processors import CompteDesjardinsPdf, VisaDesjardinsPdfTransactionProcessor\n",
    "from django.contrib.auth.models import User\n",
    "from django.utils import timezone\n",
    "from django.db.models import F\n",
    "\n",
    "import csv\n",
    "import chardet\n",
    "\n",
    "import calendar\n",
    "from datetime import datetime, timedelta\n",
    "from dateutil.relativedelta import relativedelta\n",
    "\n",
    "import random\n",
    "import numpy as np\n",
    "import random\n",
    "import os\n",
    "\n",
    "user = User.objects.get(id=1)"
   ]
  },
  {
   "cell_type": "code",
   "execution_count": 2,
   "id": "6a7e5bd6-d383-4faf-a608-6e2ecafad9e9",
   "metadata": {},
   "outputs": [],
   "source": [
    "def get_file_name(folder_path, file_extention=None):\n",
    "    \n",
    "    file_names = [f for f in os.listdir(folder_path) \n",
    "                      if os.path.isfile(os.path.join(folder_path, f))]\n",
    "    if file_extention:\n",
    "        num_from_end = len(file_extention)\n",
    "        file_names = [f for f in file_names\n",
    "                      if f[-num_from_end:] == file_extention]\n",
    "    return file_names\n",
    "\n",
    "def delete_files(folder_path, file_names):\n",
    "    for file in file_names:\n",
    "        file_name = os.path.join(folder_path, file)\n",
    "        removed_file_list = []\n",
    "        try:\n",
    "            os.remove(file_name)\n",
    "            print(f\"Deleted: {file_name}\")\n",
    "            removed_file_list.append(file_name)\n",
    "        except Exception as e:\n",
    "            print(f\"Error deleting {file_name}: {e}\")\n",
    "    return removed_file_list\n",
    "            "
   ]
  },
  {
   "cell_type": "markdown",
   "id": "aa2402a1-7737-4cc9-a679-0af8e70985f5",
   "metadata": {},
   "source": [
    "# Compte Desjardins PDF"
   ]
  },
  {
   "cell_type": "markdown",
   "id": "9a255e53-ff54-4ae9-8a23-0b5d7a2013d0",
   "metadata": {},
   "source": [
    "## Get the file names"
   ]
  },
  {
   "cell_type": "code",
   "execution_count": 3,
   "id": "f994debe-10e4-4bb0-b2a7-9f75285ce8d1",
   "metadata": {},
   "outputs": [
    {
     "data": {
      "text/plain": [
       "['releve_815-30185-0257844-20231001.pdf',\n",
       " 'releve_815-30185-0257844-20230901.pdf',\n",
       " 'releve_815-30185-0257844-20230801.pdf',\n",
       " 'releve_815-30185-0257844-20230201.pdf',\n",
       " 'releve_815-30185-0257844-20230401.pdf',\n",
       " 'releve_815-30185-0257844-20230601.pdf',\n",
       " 'releve_815-30185-0257844-20230101.pdf',\n",
       " 'releve_815-30185-0257844-20230301.pdf',\n",
       " 'releve_815-30185-0257844-20230701.pdf',\n",
       " 'releve_815-30185-0257844-20230501.pdf']"
      ]
     },
     "execution_count": 3,
     "metadata": {},
     "output_type": "execute_result"
    }
   ],
   "source": [
    "folder_path = \"data/Desjardins/comptes\"\n",
    "pdf_to_uplaod = get_file_name(folder_path, \"pdf\")\n",
    "pdf_to_uplaod "
   ]
  },
  {
   "cell_type": "markdown",
   "id": "2b5a2317-853c-45ea-a212-183130f0d315",
   "metadata": {},
   "source": [
    "## Delete what was previously done#"
   ]
  },
  {
   "cell_type": "code",
   "execution_count": null,
   "id": "ae56b9dc-ecb7-4bd0-a33f-84e87504cd3f",
   "metadata": {},
   "outputs": [],
   "source": [
    "# delete uploaded files in media\n",
    "media_path = \"data/Desjardins/comptes\"\n",
    "pdf_to_delete = get_file_name(media_path, \"pdf\")\n",
    "pdf_to_delete\n",
    "# deleted_files_list = delete_files(media_path, pdf_to_delete)\n",
    "\n",
    "# Delete items from uploadedpdf table\n",
    "\n",
    "# delete privious compte dejardins\n",
    "c = CompteDesjardins.objects.all()\n",
    "# c.delete()\n",
    "\n"
   ]
  },
  {
   "cell_type": "markdown",
   "id": "8516da26-defc-4a76-848a-99f22199b9c8",
   "metadata": {},
   "source": [
    "## Create Compte transactionf"
   ]
  },
  {
   "cell_type": "code",
   "execution_count": 4,
   "id": "30110bf9-c5b9-4ff5-b2a7-d2fd358966f6",
   "metadata": {},
   "outputs": [
    {
     "name": "stdout",
     "output_type": "stream",
     "text": [
      "data/Desjardins/comptes/releve_815-30185-0257844-20231001.pdf\n",
      "data/Desjardins/comptes/releve_815-30185-0257844-20230901.pdf\n",
      "data/Desjardins/comptes/releve_815-30185-0257844-20230801.pdf\n",
      "data/Desjardins/comptes/releve_815-30185-0257844-20230201.pdf\n",
      "data/Desjardins/comptes/releve_815-30185-0257844-20230401.pdf\n",
      "data/Desjardins/comptes/releve_815-30185-0257844-20230601.pdf\n",
      "data/Desjardins/comptes/releve_815-30185-0257844-20230101.pdf\n",
      "data/Desjardins/comptes/releve_815-30185-0257844-20230301.pdf\n",
      "data/Desjardins/comptes/releve_815-30185-0257844-20230701.pdf\n",
      "data/Desjardins/comptes/releve_815-30185-0257844-20230501.pdf\n"
     ]
    }
   ],
   "source": [
    "cdpdf = CompteDesjardins.objects.all()\n",
    "cdpdf.delete()\n",
    "folder_path = \"data/Desjardins/comptes\"\n",
    "t_list = []\n",
    "for pdf in pdf_to_uplaod:\n",
    "    file_path = os.path.join(folder_path, pdf)\n",
    "    print(file_path)\n",
    "    p = CompteDesjardinsPdf(file_path, user)\n",
    "    t_list += p.get_transaction_list()"
   ]
  },
  {
   "cell_type": "code",
   "execution_count": 5,
   "id": "d8dc8a92-dcc1-41bc-ad11-20439e51ef73",
   "metadata": {},
   "outputs": [
    {
     "name": "stdout",
     "output_type": "stream",
     "text": [
      "2023-10-26 00:00:00-04:00 -  Paiement facture - AccèsD Internet / Société de l'assurance None Paiement facture - AccèsD Internet / Société de l'assurance\n",
      "2023-09-11 00:00:00-04:00 - Fermeture de compte None Fermeture de compte\n",
      "2023-07-13 00:00:00-04:00 -  Paiement facture - AccèsD Internet / Société de l'assurance None Paiement facture - AccèsD Internet / Société de l'assurance\n"
     ]
    }
   ],
   "source": [
    "for t in t_list:\n",
    "    if t.amount:\n",
    "        t.save()\n",
    "    else:\n",
    "        print(t, t.merchant.strip())\n",
    "    "
   ]
  },
  {
   "cell_type": "code",
   "execution_count": 6,
   "id": "d13664bd-8d96-46cd-b9ff-fa4983a9cbd7",
   "metadata": {},
   "outputs": [
    {
     "data": {
      "text/plain": [
       "296"
      ]
     },
     "execution_count": 6,
     "metadata": {},
     "output_type": "execute_result"
    }
   ],
   "source": [
    "compte = CompteDesjardins.objects.all()\n",
    "len(compte)"
   ]
  },
  {
   "cell_type": "markdown",
   "id": "a7cbc5e4-92ff-4040-9218-614cf9ebb754",
   "metadata": {},
   "source": [
    "# Visa Desjardins"
   ]
  },
  {
   "cell_type": "markdown",
   "id": "857b378d-cceb-4b80-ae6d-94d84d1ff0f5",
   "metadata": {},
   "source": [
    "## Get the file names"
   ]
  },
  {
   "cell_type": "code",
   "execution_count": null,
   "id": "09218061-a91c-4c44-8538-160f2fa0ae04",
   "metadata": {},
   "outputs": [],
   "source": [
    "folder_path = \"data/Desjardins/visa\"\n",
    "pdf_to_uplaod = get_file_name(folder_path, \"pdf\")\n",
    "pdf_to_uplaod "
   ]
  },
  {
   "cell_type": "markdown",
   "id": "1d97d400-8545-4ead-81cb-c6d9f4fe0f8a",
   "metadata": {},
   "source": [
    "## Delete what was previously inserted"
   ]
  },
  {
   "cell_type": "code",
   "execution_count": null,
   "id": "966e2e18-8bce-4548-991a-ca5fb8b4d693",
   "metadata": {},
   "outputs": [],
   "source": [
    "v = VisaDesjardinsTransaction.objects.all()\n",
    "# v.delete()"
   ]
  },
  {
   "cell_type": "code",
   "execution_count": null,
   "id": "29f68e81-0451-426b-b538-e72efc8d5036",
   "metadata": {},
   "outputs": [],
   "source": [
    "len(v)"
   ]
  },
  {
   "cell_type": "code",
   "execution_count": null,
   "id": "51437d07-e8d3-430f-84c3-54ee33540005",
   "metadata": {},
   "outputs": [],
   "source": [
    "t_list = []\n",
    "for pdf in pdf_to_uplaod:\n",
    "    file = os.path.join(folder_path, pdf)\n",
    "    vd = VisaDesjardinsPdfTransactionProcessor(file, user)\n",
    "    t_list += vd.get_transaction_list()\n",
    "    "
   ]
  },
  {
   "cell_type": "code",
   "execution_count": null,
   "id": "46299bf0-d31c-4d81-9dd9-47c148be5bc5",
   "metadata": {},
   "outputs": [],
   "source": [
    "# for t in t_list:\n",
    "#     t.save()"
   ]
  },
  {
   "cell_type": "code",
   "execution_count": null,
   "id": "475b5e3e-fcc1-47cf-97cd-2f9ba8ab763a",
   "metadata": {},
   "outputs": [],
   "source": [
    "cat = Budget.objects.all()\n",
    "for c in cat:\n",
    "    print(c.spending_item_name)"
   ]
  },
  {
   "cell_type": "code",
   "execution_count": null,
   "id": "cb5e56a6-6e48-4dd8-b3fd-3486f3dc007b",
   "metadata": {},
   "outputs": [],
   "source": [
    "# t_list = VisaDesjardinsTransaction.objects.all()\n",
    "# t_list = []\n",
    "# for pdf in pdf_to_uplaod:\n",
    "#     file = os.path.join(folder_path, pdf)\n",
    "#     vd = VisaDesjardinsPdfTransactionProcessor(file, user)\n",
    "#     t_list += vd.get_transaction_list()\n",
    "    \n",
    "merch = Merchant.objects.all()\n",
    "merch_name_list = [m.name for m in merch]\n",
    "\n",
    "alchool_list = [\"NORMAN HARDIE WINERY\", \"SAQ\", \"KARLO ESTATES\", \"LCBO\", \"PARSONS BREWING\", \"STOCK AND ROW\", \"HINTERLAND WINE\",\n",
    "                \"COUNTY CIDER PICTON\", \"SLAKE BREWING PICTON\", 'DOMAINE DARIUS HILLIER ON', 'CLOSSON CHASE VINEYARD HILLIER ON',\n",
    "                \"REDTAIL VINEYARD\", \"ROSEHALL RUN VINEYARDS\", \"AUX P'TITS BOCAUX\"]\n",
    "budget_item_alchool = Budget.objects.get(id=819)\n",
    "epicerie_liste = [\"SUPER C\", \"METRO\", \"MAXI\", \"IGA\", \"FOODHERO\", \"LES FRAICHES\", \n",
    "                  \"ADONIS\", \"PROVIGO\", \"MARCHE RICHELIEU\", 'MIEL MORAND',\n",
    "                  'FERME LA VRAIE VIE', \"PASTA AND FUMO\", \"FLASHFOOD\", \"CAPULUS CAFE MOBILE\",\n",
    "                  \"MONSIEUR COCKTAIL\", \"Nespresso Canada\"]\n",
    "budget_category_epicerie = Budget.objects.get(id=809)\n",
    "pharmacie_liste = [\"PHARMACIE\", \"JEAN COUTU\", \"BRUNET\", \"PHARMAPRIX\", \"PROXI\"]\n",
    "budget_category_pharmacie = Budget.objects.get(id=816)\n",
    "transport_liste = [\"AGENCE DE MOBILITE DURABLMONTREAL\", \"STM\", \"LE CIRCUIT ELECTRIQUE MONTREAL\",\n",
    "                   \"FLO SERVICES QUEBEC\", 'ESSO', \"SHELL\", \"PETRO CANADA\"]\n",
    "budget_category_transport = Budget.objects.get(id=828)\n",
    "linge_gen_liste = [\"RW & CO\", \"WINNERS\", \"OLDNAVY.COM\", \"RW\", \"REITMANS\", \n",
    "                   \"SIMONS\", \"H&M\", \"MONTELLE INTIMATE\", \"GLOBO\", \"WOLVERINE WORLDWIDE\", \"ETSY\", \"COBIEBOUTIQUE\"]\n",
    "budget_category_linge_gen = Budget.objects.get(id=815)\n",
    "restaurant_liste = ['LES ENFANTS TERRIBLES', 'PETIT QUEBEC REPENTIGNY', 'MICROBRASSERIE COATICOOK COATICOOK',\n",
    "                    'PUB LORD WILLIAM', 'SMOKING BBQ MONTREAL', \"L'OEUFRIER BROMONT\",\n",
    "                    'DUNNS FAMOUS', \"L'HELICOPTERE\", \"RESTO INDIAN\", \"PULLMAN\", 'BUVETTE JUNE',\n",
    "                    \"LE POKE STATION\", \"SUSHISAMA\", \"MICROBRASSERIE LA MEMPH\", \"MCDONALD'S\", \"ERABLIERE\",\n",
    "                    \"POKE STATION\", \"LE DATE\", \"BOULEVARD CLERMONT\", \"HENRI BRASSERIE FRANCA\"\n",
    "                   ]\n",
    "budget_category_restaurant = Budget.objects.get(id=817)\n",
    "voyage_liste = [\"AIRBNB\", \"CITY OF KINGSTON\", \"SEPAQ\", \"RAM\", \"DVERT\", \"SERVICE CANADA\"\n",
    "                'EXPEDIA', 'AIR CAN', 'BRYCE CANYON', 'ZION NATIONAL', 'SPRINGDALE', 'LAS VEGAS',\n",
    "                \"EXPEDIA.CA\", \"RUBY'S GENERAL\"\n",
    "               ]\n",
    "budget_category_voyage = Budget.objects.get(id=820)\n",
    "cadeau_list = ['JULES & HENRI', 'LIBRAIRIE RENAUD BRAY', 'QUEBECLOISIRS', 'CANADA VALISE', 'LIBRAIRE', 'HORIZON ROC', 'Billabong']\n",
    "budget_category_cadeau = Budget.objects.get(id=822)\n",
    "activite_enfants_list = ['CENTRECOMROUSSIN', 'INSCRIPTIONENLIGNE.CA']\n",
    "budget_category_activite_enfants = Budget.objects.get(id=827)\n",
    "activite_equipement_sport_gen_list = ['RACEROSTER PRISON', 'SP YUL RUN']\n",
    "budget_category_equipement_sport_gen = Budget.objects.get(id=854)\n",
    "\n",
    "merchant_name_list = [alchool_list \n",
    "                     ,epicerie_liste \n",
    "                     ,pharmacie_liste \n",
    "                     ,transport_liste \n",
    "                     ,linge_gen_liste \n",
    "                     ,restaurant_liste \n",
    "                     ,voyage_liste \n",
    "                     ,cadeau_list \n",
    "                     ,activite_enfants_list \n",
    "                     ,activite_equipement_sport_gen_list\n",
    "                    ]\n",
    "budget_category_list = [budget_item_alchool, \n",
    "                        budget_category_epicerie, \n",
    "                        budget_category_pharmacie, \n",
    "                        budget_category_transport, \n",
    "                        budget_category_linge_gen, \n",
    "                        budget_category_restaurant, \n",
    "                        budget_category_voyage, \n",
    "                        budget_category_cadeau, \n",
    "                        budget_category_activite_enfants, \n",
    "                        budget_category_equipement_sport_gen\n",
    "                       ]\n",
    "\n",
    "    \n",
    "def check_keywords_in_description(obj, keywords):\n",
    "    description = obj.merchant.lower()  # Convert to lowercase for case-insensitive comparison\n",
    "    return any(keyword.lower() in description for keyword in keywords)\n",
    "\n",
    "for obj in t_list:\n",
    "    for keywords, budget_category in zip(merchant_name_list, budget_category_list):\n",
    "        if check_keywords_in_description(obj, keywords):\n",
    "            print(f\"Object with description '{obj.merchant}' '{obj.amount}' is {budget_category.spending_item_name}\\n\")\n",
    "            obj.category = budget_category\n",
    "            # t_list.remove(obj)\n",
    "        else:\n",
    "            print(f\"Object with description '{obj.merchant}' '{obj.amount}' has no category\\n\")"
   ]
  },
  {
   "cell_type": "markdown",
   "id": "b3e4b9ca-67f8-4e25-b886-8068f725e3fa",
   "metadata": {},
   "source": [
    "# Transactions"
   ]
  },
  {
   "cell_type": "markdown",
   "id": "aa065fb2-a649-42d1-aa40-dffc594c0351",
   "metadata": {},
   "source": [
    "## Instantiate user"
   ]
  },
  {
   "cell_type": "code",
   "execution_count": null,
   "id": "b2edb8f0-343d-4a4d-9201-6273047ac724",
   "metadata": {},
   "outputs": [],
   "source": [
    "\n",
    "evaluation_date = datetime.today()\n",
    "b = timezone.make_aware(datetime(evaluation_date.year, evaluation_date.month, 1))\n",
    "e = b + relativedelta(months=1) - timedelta(days=1)"
   ]
  },
  {
   "cell_type": "markdown",
   "id": "6b4d81e9-1d7b-4266-9dbb-054013d93f0f",
   "metadata": {},
   "source": [
    "## Read CSV"
   ]
  },
  {
   "cell_type": "code",
   "execution_count": null,
   "id": "02a4f18f-421f-4038-bb7c-9b1f83229e5d",
   "metadata": {},
   "outputs": [],
   "source": [
    "file_path = 'data/Transactions.csv'\n",
    "data_list = []\n",
    "with open(file_path, 'rb') as rawdata:\n",
    "    result = chardet.detect(rawdata.read())\n",
    "# with open(file_path, 'r', encoding='utf-8-sig') as csvfile:\n",
    "with open(file_path, 'r', encoding=result['encoding']) as csvfile:\n",
    "    # Create a DictReader object\n",
    "    csv_reader = csv.DictReader(csvfile)\n",
    "    # Iterate through each row (each row is a dictionary)\n",
    "    for row in csv_reader:\n",
    "        if row[\"date\"]:\n",
    "            data_list.append(row)"
   ]
  },
  {
   "cell_type": "markdown",
   "id": "621087dc-e0ba-4cbf-b432-74b973a4d6ad",
   "metadata": {},
   "source": [
    "## Delete previous transaction"
   ]
  },
  {
   "cell_type": "code",
   "execution_count": null,
   "id": "044b03b8-b7e3-4b4a-8e42-264ca5f20212",
   "metadata": {},
   "outputs": [],
   "source": [
    "Transaction.objects.all().delete()"
   ]
  },
  {
   "cell_type": "markdown",
   "id": "160aa4d2-57ea-4fde-8055-5e4ec03cbe53",
   "metadata": {},
   "source": [
    "## Create fake transaction"
   ]
  },
  {
   "cell_type": "markdown",
   "id": "0a258181-cd97-4867-bebf-af303aeab78a",
   "metadata": {
    "tags": []
   },
   "source": [
    "boy = timezone.make_aware(datetime(2022, 1, 1))\n",
    "generated_date = boy\n",
    "generated_date_list = []\n",
    "fixed_cost = [b for b in Budget.objects.filter(cost_type__name=\"Fixe\")]\n",
    "variable_cost = [b for b in Budget.objects.filter(cost_type__name=\"Variable\") if b.spending_item_name != \"Salaire\"]\n",
    "\n",
    "mean = 0  # Mean of the normal distribution (zero for no bias)\n",
    "\n",
    "while generated_date <= timezone.make_aware(datetime.today() - relativedelta(months=3)):\n",
    "    generated_date = generated_date + relativedelta(months=1)\n",
    "    generated_date_list.append(generated_date)\n",
    "    generated_date_index = generated_date_list.index(generated_date)\n",
    "    \n",
    "    if generated_date_index == 0:\n",
    "        b = boy\n",
    "    else:\n",
    "        b = generated_date_list[generated_date_index - 1]\n",
    "    \n",
    "    for cost in variable_cost:\n",
    "        amount = cost.calculate_amount()\n",
    "        if cost.calculate_amount() < 100:\n",
    "            # number of transactions should be beween 0 and 2\n",
    "            num_transactions = random.randint(1, 2)  # Random number of transactions\n",
    "        else:\n",
    "            num_transactions = random.randint(1, 6)\n",
    "        \n",
    "        for transaction in range(num_transactions):\n",
    "            # generate days\n",
    "            transaction_day = random.randint(1, 28)\n",
    "            transaction_date = generated_date.replace(day=transaction_day)\n",
    "            transaction_amount = amount / num_transactions + np.random.normal(mean, amount*0.05)\n",
    "            # print(transaction_date, cost.spending_item_name, amount, round(transaction_amount, 2))\n",
    "            \n",
    "            x = Transaction(category = cost, \n",
    "                            date = transaction_date, \n",
    "                            merchant = \"Faked Transaction\", \n",
    "                            amount = transaction_amount, \n",
    "                            note = \" \",  \n",
    "                            user = user)\n",
    "            x.save()\n",
    "        \n",
    "    for cost in fixed_cost:\n",
    "        transaction_amount = cost.calculate_amount()\n",
    "        transaction_day = random.randint(1, 28)\n",
    "        transaction_date = generated_date.replace(day=transaction_day)\n",
    "        \n",
    "        y = Transaction(category = cost \n",
    "                        ,date = transaction_date \n",
    "                        ,merchant = \"Faked Transaction\" \n",
    "                        ,amount = transaction_amount \n",
    "                        ,note = \" \"  \n",
    "                        ,user = user)\n",
    "        y.save()"
   ]
  },
  {
   "cell_type": "markdown",
   "id": "c9f29e31-ffb1-4bf0-a0ca-9587bb7ebe5a",
   "metadata": {},
   "source": [
    "## Create transaction in DB"
   ]
  },
  {
   "cell_type": "code",
   "execution_count": null,
   "id": "6345b2c1-7cf0-4011-8c4e-b2be6804ca77",
   "metadata": {
    "tags": []
   },
   "outputs": [],
   "source": [
    "for row_dict in data_list:\n",
    "    transaction = Transaction()\n",
    "    for k,v in row_dict.items():\n",
    "        # generate a random day\n",
    "        d=random.randint(1, 30)\n",
    "        \n",
    "        if d < 10:\n",
    "            d=str(0)+str(d)\n",
    "        else:\n",
    "            d=str(d)\n",
    "            \n",
    "        if k==\"date\":\n",
    "            # print(v)\n",
    "            try:\n",
    "                # print(v)\n",
    "                v = timezone.make_aware(datetime.strptime(v, '%Y-%m-%d'))\n",
    "                v = v.replace(day=int(d))\n",
    "            except:\n",
    "                y= \"2023\"\n",
    "                if v.strip()==\"sept\":\n",
    "                    m=\"sep\"\n",
    "                elif v.strip()==\"sep\":\n",
    "                    m=v\n",
    "                else:\n",
    "                    # print(\"********error\", v)\n",
    "                    m=v\n",
    "                l=[y,m,d]\n",
    "                v=\"-\".join(l)\n",
    "                # print(\"HHHHH\", v)\n",
    "                v = timezone.make_aware(datetime.strptime(v, '%Y-%b-%d'))\n",
    "                \n",
    "        if k==\"category\":\n",
    "            try:\n",
    "                if v == \"Frais garde\":\n",
    "                    v = \"frais de garde\"\n",
    "                if v == \"imprévue / auto\":\n",
    "                    v = \"imprévues\"\n",
    "                if v == \"voiture 50000 dans 5 ans\":\n",
    "                    v = \"voiture 50000 dans 5 ans\"\n",
    "                if v == \"Pneus voiture 4 ans 1000\":\n",
    "                    v = \"pneus\" \n",
    "                v = Budget.objects.get(spending_item_name=v)\n",
    "            except:\n",
    "                pass\n",
    "            \n",
    "        if k==\"source\":\n",
    "            v = TransactionSource.objects.get(id=1)\n",
    "        if k==\"montant\":\n",
    "            k=\"amount\"\n",
    "            v = float(v.replace(\"(\", \"\").replace(\")\", \"\"))\n",
    "            # print(k,v)\n",
    "            \n",
    "        \n",
    "        setattr(transaction, k, v)\n",
    "    setattr(transaction, 'user', user)\n",
    "    transaction.save()\n",
    "    # print(transaction)\n",
    "    # print(transaction)\n",
    "        "
   ]
  },
  {
   "cell_type": "code",
   "execution_count": null,
   "id": "b331aa95-d7ba-4077-812f-4cdb8da0f9bd",
   "metadata": {},
   "outputs": [],
   "source": [
    "def get_payment_dict(b):\n",
    "        # Specify the year and month for which you want to generate the dictionary\n",
    "        year = b.year\n",
    "        month = b.month\n",
    "\n",
    "        # Calculate the first day of the specified month\n",
    "        b = datetime(year, month, 1)\n",
    "\n",
    "        # Calculate the last day of the specified month\n",
    "        if month == 12:\n",
    "            end_date = datetime(year + 1, 1, 1) - timedelta(days=1)\n",
    "        else:\n",
    "            end_date = datetime(year, month + 1, 1) - timedelta(days=1)\n",
    "\n",
    "        # date_dict now contains the dates for the specified year and month with values initialized to 0\n",
    "        return {b.date() + timedelta(days=i): 0 for i in range((end_date - b).days + 1)} \n",
    "\n",
    "print(get_payment_dict(b))\n"
   ]
  },
  {
   "cell_type": "markdown",
   "id": "443bc5de-609b-4625-af12-46f02aa6c52a",
   "metadata": {},
   "source": [
    "## Get transaction for category between dates"
   ]
  },
  {
   "cell_type": "code",
   "execution_count": null,
   "id": "18f34dbb-c309-4e50-8934-8b26f67d82c6",
   "metadata": {},
   "outputs": [],
   "source": [
    "category = Budget.objects.get(spending_item_name =\"epicerie\")\n",
    "b2 = b - relativedelta(months=1)\n",
    "transaction = Transaction.objects.filter(user=user, category=category, date__range=(b2, e)).order_by('date')\n",
    "\n",
    "\n",
    "for t in transaction:\n",
    "    print(t)"
   ]
  },
  {
   "cell_type": "markdown",
   "id": "8832c044-5bf4-4f1b-bd99-94e5f715a23c",
   "metadata": {},
   "source": [
    "## Get transaction for category, by merchant, between date"
   ]
  },
  {
   "cell_type": "code",
   "execution_count": null,
   "id": "740134d1-b157-455e-97b8-d5e565494b9a",
   "metadata": {},
   "outputs": [],
   "source": [
    "from django.db.models import Sum\n",
    "\n",
    "# Group transactions by merchant and sum amounts\n",
    "total_amount_by_merchant = transaction.values('merchant').order_by('merchant').annotate(total_amount=Sum('amount'))\n",
    "\n",
    "# result is now a QuerySet with the aggregated data\n",
    "total\n",
    "for item in total_amount_by_merchant:\n",
    "    merchant = item['merchant']\n",
    "    total_amount = item['total_amount']\n",
    "    print(f\"Merchant: {merchant}, Total Amount: {total_amount}\")\n",
    "print(category.calculate_amount())"
   ]
  },
  {
   "cell_type": "markdown",
   "id": "bce56184-3fa4-488c-8f60-6d155f1df539",
   "metadata": {},
   "source": [
    "## Historical avareage by categories"
   ]
  },
  {
   "cell_type": "code",
   "execution_count": null,
   "id": "716fd714-8407-4c63-8ab7-38ceff5cf66c",
   "metadata": {},
   "outputs": [],
   "source": [
    "from django.db.models import F, Sum\n",
    "from datetime import datetime, timedelta\n",
    "\n",
    "# Find the earliest and latest dates for your data\n",
    "earliest_date = Transaction.objects.earliest('date').date\n",
    "latest_date = Transaction.objects.latest('date').date\n",
    "\n",
    "# Calculate the number of days in the dataset\n",
    "num_days = (latest_date - earliest_date).days\n",
    "\n",
    "# Create a list of dates for the month, from the 1st to the 31st\n",
    "dates_in_month = [earliest_date + timedelta(days=i) for i in range(num_days)]\n",
    "\n",
    "# Get a list of distinct categories\n",
    "transactions = Transaction.objects.filter(\n",
    "    category__cost_type__name=\"Variable\").values(\n",
    "    'category__spending_item_name').distinct()\n",
    "# transactions\n",
    "# Calculate daily historical averages for each category\n",
    "daily_averages_by_category = []\n",
    "\n",
    "for transaction in transactions:\n",
    "    category_name = transaction[\"category__spending_item_name\"]\n",
    "    print(category_name)\n",
    "    for day in range(1, 32):\n",
    "        # Calculate the average spending for the given category and date\n",
    "        tr = Transaction.objects.filter(\n",
    "            category__spending_item_name=category_name, \n",
    "            # date__day=day\n",
    "        ).exclude(merchant=\"Balance Transfert\")\n",
    "        data_list = [t.amount for t in tr if t.date.day==day]\n",
    "        number = len(data_list)\n",
    "        total = sum(data_list)\n",
    "        if number > 0:\n",
    "            average = total / number\n",
    "        else:\n",
    "            average = 0\n",
    "        \n",
    "        daily_averages_by_category.append({\n",
    "                'category_name': category_name,\n",
    "                'day': day,\n",
    "                'average_spent': average,\n",
    "            })\n"
   ]
  },
  {
   "cell_type": "code",
   "execution_count": null,
   "id": "bb622385-e536-4c74-bb8d-de5c9c36cffe",
   "metadata": {
    "tags": []
   },
   "outputs": [],
   "source": [
    "daily_averages_by_category"
   ]
  },
  {
   "cell_type": "markdown",
   "id": "8186a40f-3f2d-4f0e-87b7-b60f9f149c1a",
   "metadata": {},
   "source": [
    "## Reconcilliation"
   ]
  },
  {
   "cell_type": "code",
   "execution_count": null,
   "id": "da7545bd-fc74-4fbc-9b95-970df355c804",
   "metadata": {
    "tags": []
   },
   "outputs": [],
   "source": [
    "boy = timezone.make_aware(datetime(2023, 9, 1))\n",
    "bom = timezone.make_aware(datetime(datetime.today().year, datetime.today().month, 1))\n",
    "number_of_days = timezone.make_aware(datetime.today()) - bom\n",
    "print(\"Début d'année\", boy, \"Début de mois\", bom, \"Nombre de jour depuis debut de mois\", number_of_days.days)\n",
    "\n",
    "\n",
    "\n",
    "def create_date_list(boy, bom, number_of_days):\n",
    "    eom_date_list = []\n",
    "    n=1\n",
    "    while boy + relativedelta(months=n) <= bom:\n",
    "        eom_date_list.append(boy + relativedelta(months=n))\n",
    "        n +=1\n",
    "\n",
    "    date_list = []\n",
    "    # get the amount per categorie per months since the BOY\n",
    "    for eom_date in eom_date_list:\n",
    "        # print(eom_date, eom_date_list.index(eom_date))\n",
    "\n",
    "        if eom_date_list.index(eom_date) == 0:\n",
    "            b = boy\n",
    "            e = eom_date\n",
    "        else:\n",
    "            b = eom_date_list[eom_date_list.index(eom_date)-1]\n",
    "            e = eom_date\n",
    "        date_list.append((b,e))\n",
    "    date_list.append((e, e + timedelta(days=number_of_days.days)))\n",
    "    \n",
    "    return date_list\n",
    "\n",
    "date_list = create_date_list(boy, bom, number_of_days)\n",
    "# print(date_list)\n",
    "transactions_qs = Transaction.objects.filter(user=user)\n",
    "\n",
    "budget_qs = Budget.objects.filter(owner=user)\n",
    "\n",
    "def get_transaction_between_dates(b, e, transactions):\n",
    "    transactions_dict={\"start\":b, \n",
    "                       \"end\":e, \n",
    "                       \"transactions\": {} \n",
    "                      }\n",
    "    for t in transactions:\n",
    "    # print(t.category.spending_item_name, t.amount)\n",
    "        if t.date >= b and t.date < e and t.category.spending_item_name in transactions_dict[\"transactions\"].keys():\n",
    "            transactions_dict[\"transactions\"][t.category.spending_item_name] += t.amount\n",
    "        elif t.date >= b and t.date < e:\n",
    "            transactions_dict[\"transactions\"][t.category.spending_item_name] = t.amount\n",
    "    return transactions_dict\n",
    "\n",
    "def get_transaction_budget_data_dict(b, e, transactions):\n",
    "    # print(\"*****************\", b, e)\n",
    "    number_of_days_in_month = calendar.monthrange(b.year, b.month)[1]\n",
    "    number_of_date_between_dates = e-b\n",
    "    #  the whole month has passed\n",
    "    #  get monthly data\n",
    "    if number_of_days_in_month == number_of_date_between_dates.days:\n",
    "\n",
    "        budget_data_dict = {b.spending_item_name: b.calculate_amount() \n",
    "                       for b in budget_qs\n",
    "                      }\n",
    "    #  current month\n",
    "    #  use number_of_day\n",
    "    else:\n",
    "        budget_data_dict = {b.spending_item_name: b.calculate_amount(frequency_name=\"Daily\") * number_of_days.days \n",
    "                       for b in budget_qs\n",
    "                      }\n",
    "\n",
    "    transaction_data_dict = get_transaction_between_dates(b, e, transactions)\n",
    "\n",
    "    return transaction_data_dict, budget_data_dict\n",
    "\n",
    "\n",
    "def get_budgeted_vs_spent(date_list, transactions):\n",
    "    monthly_reconciliation_list = []\n",
    "    # monthly_reconciliation_ = []\n",
    "    for b, e in date_list:\n",
    "        monthly_reconciliation_dict = {'b': b, \n",
    "                                       'e': e, \n",
    "                                       'reconcilliation_data': {} \n",
    "                                      }\n",
    "        \n",
    "        transaction_data_dict, budget_data_dict = get_transaction_budget_data_dict(b, e, transactions)\n",
    "        \n",
    "        for name, amount in transaction_data_dict['transactions'].items():\n",
    "            # print(name, round(amount, 2), round(budget_data_dict[name], 2))\n",
    "            monthly_reconciliation_dict['reconcilliation_data'][name]= {\"budgeté\": round(budget_data_dict[name], 2),\n",
    "                                                                        \"dépensé\": round(amount, 2),\n",
    "                                                                        \"différence\": round(budget_data_dict[name] - amount, 2)\n",
    "                                                                        }\n",
    "            \n",
    "        monthly_reconciliation_list.append(monthly_reconciliation_dict)\n",
    "                                                                 \n",
    "    return monthly_reconciliation_list\n",
    "    \n",
    "\n",
    "\n",
    "\n",
    "def create_transactions(monthly_reconciliation_list = get_budgeted_vs_spent(date_list, transactions_qs)):\n",
    "    montant_total = 0\n",
    "    for dict_list in monthly_reconciliation_list:\n",
    "        # print(\"********************\")\n",
    "        # print(dict_list['b'], dict_list['e'])\n",
    "        # print(\"********************\")\n",
    "        number_of_days_in_month = calendar.monthrange(dict_list['b'].year, dict_list['b'].month)[1]\n",
    "        number_of_date_between_dates = dict_list['e'] - dict_list['b']\n",
    "        #  the whole month has passed\n",
    "        #  get monthly data\n",
    "        if number_of_days_in_month == number_of_date_between_dates.days:\n",
    "            for item_name, data in dict_list['reconcilliation_data'].items():\n",
    "                if data[\"différence\"] != 0:\n",
    "                    dernier_jour_du_mois = dict_list['e'] - timedelta(days=1)\n",
    "                    t1 = Transaction(category = Budget.objects.get(spending_item_name=item_name), \n",
    "                                     # date = timezone.make_aware(dernier_jour_du_mois),  \n",
    "                                     date = dernier_jour_du_mois, \n",
    "                                     amount = data[\"différence\"], \n",
    "                                     merchant = \"Balance Transfert\", \n",
    "                                     note = f\"Annulation de la balance du mois {dict_list['b'].strftime('%B')}\",\n",
    "                                     user = user\n",
    "                         )\n",
    "                    # t1.save()\n",
    "                    # t2.save()\n",
    "                    print(\"  \", item_name, data[\"budgeté\"], data[\"dépensé\"], data[\"différence\"])\n",
    "                    montant_total += data[\"différence\"]\n",
    "                    \n",
    "create_transactions(monthly_reconciliation_list = get_budgeted_vs_spent(date_list, transactions_qs))\n",
    "\n"
   ]
  },
  {
   "cell_type": "markdown",
   "id": "341b64e9-a570-4387-ac22-154f39e301ad",
   "metadata": {},
   "source": [
    "## Current month reconcilliation"
   ]
  },
  {
   "cell_type": "code",
   "execution_count": null,
   "id": "d870b762-d8da-49ca-8461-a9ae92981451",
   "metadata": {
    "tags": []
   },
   "outputs": [],
   "source": [
    "# la somme des différences doivent etre appliquées au budget\n",
    "def get_current_month_variable_expenses_reconciliation(evaluation_date = None):\n",
    "    \n",
    "    if evaluation_date == None:\n",
    "        b = timezone.make_aware(datetime(datetime.today().year, datetime.today().month, 1))\n",
    "        e = timezone.make_aware(datetime(datetime.today().year, datetime.today().month, 1) + relativedelta(months=1) - timedelta(days=1))\n",
    "        evaluation_date = e\n",
    "    else:\n",
    "        assert isinstance(evaluation_date, str), \"La date du départ doit etre une string recut \" + str(type(b))\n",
    "        evaluation_date = timezone.make_aware(datetime.strptime(evaluation_date, \"%Y-%m-%d\"))\n",
    "        b = timezone.make_aware(datetime(evaluation_date.year, evaluation_date.month, 1))\n",
    "        e = b + relativedelta(months=1) - timedelta(days=1)\n",
    "        \n",
    "    ratio = evaluation_date.day / calendar.monthrange(datetime.today().year, datetime.today().month)[1]\n",
    "\n",
    "    \n",
    "    data_dict = {\"start_date\": b, \n",
    "                 \"end_date\": e,\n",
    "                 \"evaluation_date\": evaluation_date,\n",
    "                 \"ratio\": ratio,\n",
    "                 \"budget_data\": {}\n",
    "                }\n",
    "    print(b, e)\n",
    "    print(ratio)\n",
    "\n",
    "    carried_over_amount_dict={}\n",
    "    # get blance transfer up to beginin of period exclude what's beyond the evaluations date\n",
    "    for t in Transaction.objects.exclude(date__gt=evaluation_date).filter(user=user, merchant=\"Balance Transfert\"):\n",
    "        if t.category in carried_over_amount_dict.keys():\n",
    "            carried_over_amount_dict[t.category] += t.amount\n",
    "        else:\n",
    "            carried_over_amount_dict[t.category] = t.amount\n",
    "\n",
    "    spent_amount_dict={}\n",
    "    for t in Transaction.objects.filter(user=user, date__range=(b, evaluation_date)).exclude(merchant=\"Balance Transfert\"):\n",
    "        if t.category in spent_amount_dict.keys():\n",
    "            spent_amount_dict[t.category] += t.amount\n",
    "        else:\n",
    "            spent_amount_dict[t.category] = t.amount\n",
    "\n",
    "\n",
    "    for b in Budget.objects.filter(owner=user).exclude(accounting_category__name=\"Revenus\").exclude(cost_type__name=\"Fixe\"):\n",
    "        budget_item_dict = {}\n",
    "        if b in carried_over_amount_dict.keys():\n",
    "            carried_over_amount = carried_over_amount_dict[b] \n",
    "        else:\n",
    "            carried_over_amount = 0\n",
    "\n",
    "        if b in spent_amount_dict.keys():\n",
    "            spent_amount = spent_amount_dict[b]\n",
    "        else:\n",
    "            spent_amount = 0\n",
    "\n",
    "\n",
    "\n",
    "        data_dict[\"budget_data\"][b.spending_item_name] = {\"carried_over_from_previous_months\": round(carried_over_amount, 2), \n",
    "                                                          \"bi_weekly_amount\": b.calculate_amount(frequency_name=\"Bi-Weekly\"), \n",
    "                                                          \"monthly_amount\": b.calculate_amount(),\n",
    "                                                          \"Cummulative amount\": b.calculate_amount() + round(carried_over_amount, 2),\n",
    "                                                          \"spent_this_month\": round(spent_amount, 2),\n",
    "                                                          \"remainder_for_the_month\": round(b.calculate_amount() + carried_over_amount - spent_amount, 2)}\n",
    "    return data_dict\n",
    "            \n",
    "\n",
    "get_current_month_variable_expenses_reconciliation(\"2023-10-22\")"
   ]
  },
  {
   "cell_type": "markdown",
   "id": "b60e4fd9-a5f6-4885-8fdd-dad78df9a945",
   "metadata": {},
   "source": [
    "### Reconcilliation carried over from previous months"
   ]
  },
  {
   "cell_type": "code",
   "execution_count": null,
   "id": "826c662c-9054-44ae-acc2-c27e4f541fd5",
   "metadata": {},
   "outputs": [],
   "source": [
    "evaluation_date = \"2023-09-10\"\n",
    "evaluation_date = timezone.make_aware(datetime.strptime(evaluation_date, \"%Y-%m-%d\"))\n",
    "\n",
    "for t in Transaction.objects.exclude(date__gt=evaluation_date).filter(user=user, category__spending_item_name=\"epicerie\").order_by('date'):\n",
    "    print(t,t.merchant)\n",
    "    \n",
    "# carried_over_amount_dict={}\n",
    "# # get blance transfer up to beginin of period exclude what's beyond the evaluations date\n",
    "# for t in Transaction.objects.filter(user=user, merchant=\"Balance Transfert\").exclude(date__lte=evaluation_date):\n",
    "#     if t.category in carried_over_amount_dict.keys():\n",
    "#         carried_over_amount_dict[t.category] += t.amount\n",
    "#     else:\n",
    "#         carried_over_amount_dict[t.category] = t.amount\n",
    "        \n",
    "# print(carried_over_amount_dict)"
   ]
  },
  {
   "cell_type": "markdown",
   "id": "5dd8fac1-04fb-43eb-b1a6-d6e776db7c45",
   "metadata": {},
   "source": [
    "## Transaction view"
   ]
  },
  {
   "cell_type": "code",
   "execution_count": null,
   "id": "954659f6-ab2c-464b-9936-1dcd227ae9f9",
   "metadata": {},
   "outputs": [],
   "source": [
    "from django.db.models import F, Sum, Count, Avg, Max, Min\n",
    "evaluation_date=None\n",
    "evaluation_date=\"2023-10-29\"\n",
    "budget_item_id=809\n",
    "\n",
    "if evaluation_date == None:\n",
    "    evaluation_date = timezone.make_aware(datetime.today())\n",
    "else:\n",
    "    assert isinstance(evaluation_date, str), \"La date du départ doit etre une string recut \" + str(type(b))\n",
    "    evaluation_date = timezone.make_aware(datetime.strptime(evaluation_date, \"%Y-%m-%d\"))\n",
    "    \n",
    "b = timezone.make_aware(datetime(evaluation_date.year, \n",
    "                                 evaluation_date.month, \n",
    "                                 1)\n",
    "                       )\n",
    "e = b + relativedelta(months=1) - timedelta(days=1)\n",
    "\n",
    "\n",
    "previous_month_random_date = evaluation_date - relativedelta(months=1)\n",
    "previous_month_start_date = datetime(previous_month_random_date.year, \n",
    "                                     previous_month_random_date.month,\n",
    "                                    1)\n",
    "\n",
    "previous_eom_date = b - timedelta(days=1)\n",
    "\n",
    "\n",
    "next_month_random_date = evaluation_date + relativedelta(months=1)\n",
    "next_month_start_date = datetime(next_month_random_date.year, \n",
    "                                 next_month_random_date.month,\n",
    "                                1)\n",
    "\n",
    "next_eom_date = b + relativedelta(months=2)\n",
    "\n",
    "\n",
    "budget_item = Budget.objects.get(id=budget_item_id)\n",
    "all_transactions = Transaction.objects.filter(user__id=user.id, \n",
    "                                              category__id=budget_item_id, # get all transaction for that budget item\n",
    "                                              date__range=(previous_month_start_date, next_eom_date) # to get the previous month's transfert\n",
    "                                              ).order_by('date')\n",
    "\n",
    "previous_month_transactions = all_transactions.filter(date__range=(previous_month_start_date, previous_eom_date))\n",
    "current_month_transactions = all_transactions.filter(date__range=(b, e))\n",
    "next_month_transactions = all_transactions.filter(date__range=(next_month_start_date, next_eom_date))\n",
    "\n",
    "# remove transactions from the last day of the previous month inscluding the cash transfert\n",
    "current_month_transactions_total = round(sum([t.amount for t in current_month_transactions]), 2)\n",
    "previous_month_transfer = sum([t.amount for t in previous_month_transactions.filter(merchant=\"Balance Transfert\")])\n",
    "# transaction_total\n",
    "\n",
    "d = {'previous_month_exists': previous_month_transactions.exists(), \n",
    "     'next_month_exists': next_month_transactions.exists(), \n",
    "     # 'previous_month_url': reverse('your_view_name', kwargs={'budget_item_id': budget_item_id, 'evaluation_date': previous_eom_date.strftime('%Y-%m-%d')}), \n",
    "     # 'next_month_url': reverse('your_view_name', kwargs={'budget_item_id': budget_item_id, 'evaluation_date': previous_eom_date.strftime('%Y-%m-%d')})\n",
    "    }\n",
    "\n",
    "print(f\"Begining of period is {b.date()} the evaluation date is {evaluation_date.date()} and the last day of the previous month is {previous_eom_date.date()}\", transaction_total)\n",
    "print(previous_month_transfer)\n",
    "print(previous_month_start_date.date(), previous_eom_date.date())\n",
    "print(b.date(), e.date())\n",
    "print(next_month_start_date.date(), next_eom_date.date())\n",
    "print(d['previous_month_exists'], d['next_month_exists'], current_month_transactions_total )"
   ]
  },
  {
   "cell_type": "markdown",
   "id": "c7434352-c674-4f4f-b98a-7718a79af516",
   "metadata": {},
   "source": [
    "## Budget Item cumulative spending for a view"
   ]
  },
  {
   "cell_type": "code",
   "execution_count": null,
   "id": "acb7eb65-f85b-45cb-b05c-987908c15b09",
   "metadata": {},
   "outputs": [],
   "source": [
    "evaluation_date=\"2023-10-29\"\n",
    "budget_item_id=745\n",
    "\n",
    "if evaluation_date == None:\n",
    "    evaluation_date = timezone.make_aware(datetime.today())\n",
    "else:\n",
    "    assert isinstance(evaluation_date, str), \"La date du départ doit etre une string recut \" + str(type(b))\n",
    "    evaluation_date = timezone.make_aware(datetime.strptime(evaluation_date, \"%Y-%m-%d\"))\n",
    "    \n",
    "b = timezone.make_aware(datetime(evaluation_date.year, \n",
    "                                 evaluation_date.month, \n",
    "                                 1)\n",
    "                       )\n",
    "e = b + relativedelta(months=1) - timedelta(days=1)\n",
    "\n",
    "\n",
    "transaction_data_dict={}\n",
    "\n",
    "for t in Transaction.objects.filter(user=user, \n",
    "                                    date__range=(b, evaluation_date), \n",
    "                                    category__id=budget_item_id).order_by('date'):\n",
    "    if t.date in transaction_data_dict.keys():\n",
    "        transaction_data_dict[t.date.date()] += t.amount\n",
    "    else:\n",
    "        transaction_data_dict[t.date.date()] = t.amount\n",
    "        \n",
    "\n",
    "\n",
    "dates, values = zip(*transaction_data_dict.items())\n",
    "\n",
    "cumulative_values = [round(sum(values[:i]), 2) for i in range(len(values))]"
   ]
  },
  {
   "cell_type": "markdown",
   "id": "d97e12c2-fc32-4bc0-8180-447cf69c2e9f",
   "metadata": {},
   "source": [
    "### take 2"
   ]
  },
  {
   "cell_type": "code",
   "execution_count": null,
   "id": "92522cc2-162c-4a3a-b51b-c7f6cd5dbbca",
   "metadata": {},
   "outputs": [],
   "source": [
    "evaluation_date=\"2023-10-29\"\n",
    "budget_item_id=745\n",
    "\n",
    "if evaluation_date == None:\n",
    "    evaluation_date = timezone.make_aware(datetime.today())\n",
    "else:\n",
    "    assert isinstance(evaluation_date, str), \"La date du départ doit etre une string recut \" + str(type(b))\n",
    "    evaluation_date = timezone.make_aware(datetime.strptime(evaluation_date, \"%Y-%m-%d\"))\n",
    "    \n",
    "b = timezone.make_aware(datetime(evaluation_date.year, \n",
    "                                 evaluation_date.month, \n",
    "                                 1)\n",
    "                       )\n",
    "e = b + relativedelta(months=1) - timedelta(days=1)\n",
    "\n",
    "\n",
    "def get_payment_dict(b):\n",
    "    # Specify the year and month for which you want to generate the dictionary\n",
    "    year = b.year\n",
    "    month = b.month\n",
    "\n",
    "    # Calculate the first day of the specified month\n",
    "    b = datetime(year, month, 1)\n",
    "\n",
    "    # Calculate the last day of the specified month\n",
    "    if month == 12:\n",
    "        end_date = datetime(year + 1, 1, 1) - timedelta(days=1)\n",
    "    else:\n",
    "        end_date = datetime(year, month + 1, 1) - timedelta(days=1)\n",
    "\n",
    "    # date_dict now contains the dates for the specified year and month with values initialized to 0\n",
    "    return {b.date() + timedelta(days=i): 0 for i in range((end_date - b).days + 1)}\n",
    "\n",
    "d = get_payment_dict(b)\n",
    "\n",
    "for t in Transaction.objects.filter(user=user, \n",
    "                                    date__range=(b, evaluation_date), \n",
    "                                    category__id=budget_item_id).order_by('date'):\n",
    "    \n",
    "    if t.date.date() in d.keys():\n",
    "        d[t.date.date()] += t.amount\n",
    "        \n",
    "        \n",
    "value = [256]*len(d)\n",
    "print(value)\n",
    "\n"
   ]
  },
  {
   "cell_type": "code",
   "execution_count": null,
   "id": "97db05bf-27bd-49ee-9949-f090adf7ca28",
   "metadata": {},
   "outputs": [],
   "source": []
  },
  {
   "cell_type": "markdown",
   "id": "08b6bf2a-506c-4cac-b74a-2f87419550ea",
   "metadata": {},
   "source": [
    "# Calcule prestation familiale"
   ]
  },
  {
   "cell_type": "code",
   "execution_count": null,
   "id": "bff20125-b9d6-4a16-a8c2-1bfa3aa56b39",
   "metadata": {},
   "outputs": [],
   "source": [
    "revenus_familialle_net = 26 * 2500\n",
    "revenus_familialle_net\n",
    "revenus = 2 * 6275\n",
    "revenus"
   ]
  },
  {
   "cell_type": "markdown",
   "id": "a8fe6ce4-e5bb-42ed-8586-222ad651d45e",
   "metadata": {},
   "source": [
    "# Transaction No categories"
   ]
  },
  {
   "cell_type": "code",
   "execution_count": null,
   "id": "8b7f5e9c-a437-4d5a-81ec-d0457e7737e1",
   "metadata": {},
   "outputs": [],
   "source": [
    "transactions_with_empty_categories = Transaction.objects.annotate(\n",
    "    merchant_categories_count=Count('merchant_2__categories')\n",
    ").filter(merchant_categories_count=0)"
   ]
  },
  {
   "cell_type": "code",
   "execution_count": null,
   "id": "d5ba253a-e06a-4940-92bd-c98befe8e232",
   "metadata": {},
   "outputs": [],
   "source": [
    "transactions_with_empty_categories\n",
    "len(transactions_with_empty_categories)"
   ]
  },
  {
   "cell_type": "code",
   "execution_count": null,
   "id": "2cda0ab4-88c9-47b2-8832-9d333aeb81fe",
   "metadata": {},
   "outputs": [],
   "source": [
    "a = Merchant.objects.get(name=\"AMZN Mktp CA*T10UZ0KR0 WWW.AMAZON.CAON\")\n",
    "a.categories.all()"
   ]
  },
  {
   "cell_type": "code",
   "execution_count": null,
   "id": "38b443ca-e1a3-4a18-a4ee-dbcfa964a94d",
   "metadata": {
    "tags": []
   },
   "outputs": [],
   "source": [
    "for t in Transaction.objects.all():\n",
    "    if t.source.id == 4 and t.category is None:\n",
    "        print(t.merchant)"
   ]
  },
  {
   "cell_type": "code",
   "execution_count": null,
   "id": "f94271b1-99d4-4ba1-a6f7-18d6309b25fd",
   "metadata": {},
   "outputs": [],
   "source": [
    "t = Transaction.objects.all()\n",
    "t.delete()\n",
    "m =  Merchant.objects.all()\n",
    "m.delete()\n",
    "pdf = UploadedPDF.objects.all() \n",
    "pdf.delete()"
   ]
  },
  {
   "cell_type": "code",
   "execution_count": null,
   "id": "000b87f4-bea4-47c5-8d76-65a9351261d9",
   "metadata": {},
   "outputs": [],
   "source": []
  },
  {
   "cell_type": "code",
   "execution_count": null,
   "id": "acdca3ce-1ad7-47e2-b2ac-cbd769defba9",
   "metadata": {},
   "outputs": [],
   "source": [
    " \n",
    "\n",
    "\n",
    "eom_date_list = []\n",
    "n=1\n",
    "while boy + relativedelta(months=n) <= bom:\n",
    "    eom_date_list.append(boy + relativedelta(months=n))\n",
    "    n +=1\n",
    "    \n",
    "budgeted_list = [{b.spending_item_name:{\"YTD\":round(b.calculate_amount()*n + \n",
    "                                                    b.calculate_amount(frequency_name=\"Daily\")*number_of_days.days, 0),\n",
    "                                        \"MTD\":round(b.calculate_amount(frequency_name=\"Daily\")*number_of_days.days, 0)}} \n",
    "                      for b in Budget.objects.filter(owner=user)]\n",
    "print(\"********************\")\n",
    "ytd_list_dict = {t.category.spending_item_name: t.amount for t in Transaction.objects.filter(user=user) if t.date.date() > boy}\n",
    "\n",
    "ytd_transactions_dict={}\n",
    "for t in Transaction.objects.filter(user=user):\n",
    "    # print(t.category.spending_item_name, t.amount)\n",
    "    if t.date.date() > boy and t.category.spending_item_name in ytd_transactions_dict.keys():\n",
    "        ytd_transactions_dict[t.category.spending_item_name] += t.amount\n",
    "    elif t.date.date() > boy:\n",
    "        ytd_transactions_dict[t.category.spending_item_name] = t.amount\n",
    "    \n",
    "for budget_dict in budgeted_list:\n",
    "    for budget_category, data in budget_dict.items():\n",
    "        if budget_category in ytd_transactions_dict.keys():\n",
    "            pass\n",
    "            # print(budget_category, \"Budgeted\", data[\"YTD\"], \"Spent\", round(transactions_dict[budget_category]))\n",
    "    \n",
    "def get_transaction_between_dates(b, e):\n",
    "    transactions_dict={\"start\":b, \n",
    "                       \"end\":e, \n",
    "                       \"transactions\": {} \n",
    "                      }\n",
    "    for t in Transaction.objects.filter(user=user):\n",
    "    # print(t.category.spending_item_name, t.amount)\n",
    "        if t.date.date() > b and t.date.date() < e and t.category.spending_item_name in transactions_dict[\"transactions\"].keys():\n",
    "            transactions_dict[\"transactions\"][t.category.spending_item_name] += t.amount\n",
    "        elif t.date.date() > b and t.date.date() < e:\n",
    "            transactions_dict[\"transactions\"][t.category.spending_item_name] = t.amount\n",
    "    return transactions_dict\n",
    "date_list = []\n",
    "# get the amount per categorie per months since the BOY\n",
    "for eom_date in eom_date_list:\n",
    "    # print(eom_date, eom_date_list.index(eom_date))\n",
    "    \n",
    "    if eom_date_list.index(eom_date) == 0:\n",
    "        b = boy\n",
    "        e = eom_date\n",
    "    else:\n",
    "        b = eom_date_list[eom_date_list.index(eom_date)-1]\n",
    "        e = eom_date\n",
    "    date_list.append((b,e))\n",
    "date_list.append((e, e + timedelta(days=number_of_days.days)))\n",
    "    \n",
    "for b, e in date_list:\n",
    "    print(b, e)\n",
    "    "
   ]
  },
  {
   "cell_type": "code",
   "execution_count": null,
   "id": "b47f33ba-ca04-4e75-b46e-77df95911ea9",
   "metadata": {},
   "outputs": [],
   "source": [
    "def get_transaction_between_dates(b, e, transactions):\n",
    "    transactions_dict={\"start\":b, \n",
    "                       \"end\":e, \n",
    "                       \"transactions\": {} \n",
    "                      }\n",
    "    for t in transactions:\n",
    "    # print(t.category.spending_item_name, t.amount)\n",
    "        if t.date.date() >= b and t.date.date() < e and t.category.spending_item_name in transactions_dict[\"transactions\"].keys():\n",
    "            transactions_dict[\"transactions\"][t.category.spending_item_name] += t.amount\n",
    "        elif t.date.date() >= b and t.date.date() < e:\n",
    "            transactions_dict[\"transactions\"][t.category.spending_item_name] = t.amount\n",
    "    return transactions_dict"
   ]
  },
  {
   "cell_type": "code",
   "execution_count": null,
   "id": "212ddf40-2354-408c-b614-3163aacd19cf",
   "metadata": {},
   "outputs": [],
   "source": [
    "boy = datetime(2023, 9, 1).date()\n",
    "bom = datetime(datetime.today().year, datetime.today().month, 1).date()\n",
    "number_of_days = datetime.today().date() - bom\n",
    "\n",
    "def create_date_list(boy, bom, number_of_days):\n",
    "    eom_date_list = []\n",
    "    n=1\n",
    "    while boy + relativedelta(months=n) <= bom:\n",
    "        eom_date_list.append(boy + relativedelta(months=n))\n",
    "        n +=1\n",
    "\n",
    "    date_list = []\n",
    "    # get the amount per categorie per months since the BOY\n",
    "    for eom_date in eom_date_list:\n",
    "        # print(eom_date, eom_date_list.index(eom_date))\n",
    "\n",
    "        if eom_date_list.index(eom_date) == 0:\n",
    "            b = boy\n",
    "            e = eom_date\n",
    "        else:\n",
    "            b = eom_date_list[eom_date_list.index(eom_date)-1]\n",
    "            e = eom_date\n",
    "        date_list.append((b,e))\n",
    "    date_list.append((e, e + timedelta(days=number_of_days.days)))\n",
    "    \n",
    "    return date_list\n",
    "\n"
   ]
  },
  {
   "cell_type": "code",
   "execution_count": null,
   "id": "df3c892e-16bf-48bb-858b-3736e8d2b194",
   "metadata": {},
   "outputs": [],
   "source": [
    "def get_budget_data(b, e, budget_qs, number_of_days):\n",
    "    for b, e in date_list:\n",
    "        # print(\"*****************\", b, e)\n",
    "        number_of_days_in_month = calendar.monthrange(b.year, b.month)[1]\n",
    "        number_of_date_between_dates = e-b\n",
    "        #  the whole month has passed\n",
    "        #  get monthly data\n",
    "        if number_of_days_in_month == number_of_date_between_dates.days:\n",
    "\n",
    "            budget_dict = {b.spending_item_name: b.calculate_amount() \n",
    "                           for b in budget_qs\n",
    "                          }\n",
    "        #  current month\n",
    "        #  use number_of_day\n",
    "        else:\n",
    "            budget_dict = {b.spending_item_name: b.calculate_amount(frequency_name=\"Daily\") * number_of_days.days \n",
    "                           for b in budget_qs\n",
    "                          }\n",
    "\n",
    "        data_dict = get_transaction_between_dates(b, e, transactions_qs)\n",
    "        return data_dict\n",
    "\n"
   ]
  },
  {
   "cell_type": "code",
   "execution_count": null,
   "id": "b45f008c-5709-4e89-9051-e225d01b7067",
   "metadata": {},
   "outputs": [],
   "source": [
    "date_list = create_date_list(boy, bom, number_of_days)\n",
    "budget_qs\n",
    "transactions_qs\n",
    "\n",
    "for b, e in date_list:\n",
    "    print(\"*********\", b, e)\n",
    "    \n",
    "    budget_dict = get_budget_data(b, e, budget_qs, number_of_days)\n",
    "    transaction_dict = get_transaction_between_dates(b, e, transactions_qs)\n",
    "    \n",
    "    for name, amount in transaction_dict['transactions'].items():\n",
    "        print(name, round(amount), round(budget_dict[name]))\n",
    "        if round(budget_dict[name]) - round(amount) != 0 and b.month < datetime.today().month:\n",
    "            last_day_of_month = e - timedelta(days=1)\n",
    "            print(\"transfert\",name,  round(budget_dict[name] - amount, 2))\n",
    "            t_1 = Transaction(category=Budget.objects.get(spending_item_name=name), \n",
    "                        date=last_day_of_month, \n",
    "                        amount= - round(budget_dict[name] - amount, 2), \n",
    "                        note= \"Transfert fin de moi\" + name)\n",
    "            # t_1.save()\n",
    "            print(t_1)\n",
    "            t_2 = Transaction(category=Budget.objects.get(spending_item_name=name), \n",
    "                        date=e, \n",
    "                        amount= round(budget_dict[name] - amount, 2), \n",
    "                        note= \"Transfert fin de moi\" + name)\n",
    "            # t_2.save()\n",
    "            print(t_2)\n",
    "    "
   ]
  },
  {
   "cell_type": "code",
   "execution_count": null,
   "id": "4ec0fd61-7a63-4e43-92ea-2a944638bd8f",
   "metadata": {},
   "outputs": [],
   "source": [
    "i = 0.04\n",
    "m = 100\n",
    "t = 40\n",
    "\n",
    "m * i"
   ]
  },
  {
   "cell_type": "code",
   "execution_count": null,
   "id": "c398be21-c915-4062-9056-29741d0de2d0",
   "metadata": {},
   "outputs": [],
   "source": [
    "100 + 100*0.04"
   ]
  },
  {
   "cell_type": "code",
   "execution_count": null,
   "id": "02ad00a4-bae9-4487-bacc-db1f68ac3856",
   "metadata": {},
   "outputs": [],
   "source": [
    "100 + 100*0.04 + (100 + 100*0.04)*0.04"
   ]
  },
  {
   "cell_type": "code",
   "execution_count": null,
   "id": "6be6a059-726b-49f4-a72b-5f06db8d135b",
   "metadata": {},
   "outputs": [],
   "source": [
    "100 + 100*0.04 + (100 + 100*0.04)*0.04 + (100 + 100*0.04 + (100 + 100*0.04)*0.04)*0.04"
   ]
  },
  {
   "cell_type": "code",
   "execution_count": null,
   "id": "2264cd6d-0f0a-45b9-994b-bee50ea8daa5",
   "metadata": {},
   "outputs": [],
   "source": [
    "argent_nora = 155"
   ]
  },
  {
   "cell_type": "code",
   "execution_count": null,
   "id": "596ca3b9-b628-4a31-92c8-e73e40cd09ed",
   "metadata": {},
   "outputs": [],
   "source": [
    "depense_nora = -60"
   ]
  },
  {
   "cell_type": "code",
   "execution_count": null,
   "id": "ce6b0b3e-00ce-407a-95bf-2d8fd4df63b7",
   "metadata": {},
   "outputs": [],
   "source": [
    "(argent_nora)*(1+i)**t"
   ]
  },
  {
   "cell_type": "code",
   "execution_count": null,
   "id": "a50eabe9-5b16-4dbd-9210-bc8ae5e804a6",
   "metadata": {},
   "outputs": [],
   "source": [
    "(argent_nora+depense_nora)*(1+i)**t"
   ]
  },
  {
   "cell_type": "code",
   "execution_count": null,
   "id": "45cd529a-eb69-4527-9e66-e794b6e84d79",
   "metadata": {},
   "outputs": [],
   "source": []
  }
 ],
 "metadata": {
  "kernelspec": {
   "display_name": "Django Shell-Plus",
   "language": "python",
   "name": "django_extensions"
  },
  "language_info": {
   "codemirror_mode": {
    "name": "ipython",
    "version": 3
   },
   "file_extension": ".py",
   "mimetype": "text/x-python",
   "name": "python",
   "nbconvert_exporter": "python",
   "pygments_lexer": "ipython3",
   "version": "3.9.18"
  },
  "toc-autonumbering": true
 },
 "nbformat": 4,
 "nbformat_minor": 5
}
