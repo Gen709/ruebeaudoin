{
 "cells": [
  {
   "cell_type": "markdown",
   "id": "e470475f-1ba1-4dc5-afe7-80e71d197bb8",
   "metadata": {},
   "source": [
    "# Import"
   ]
  },
  {
   "cell_type": "code",
   "execution_count": 3,
   "id": "33606812-b7b5-4279-b829-521ad9238c19",
   "metadata": {},
   "outputs": [],
   "source": [
    "from investment.utils import get_date_parameter, budget_item_transaction_monthly_recon, update_foreign_key\n",
    "from investment.models import Budget, FinancialManager, SpendingTheme,\\\n",
    "    FinancialInstitutions, Transaction, CashFlowAccountingCategorie, Merchant, TransactionSource,\\\n",
    "    UploadedPDF\n"
   ]
  },
  {
   "cell_type": "markdown",
   "id": "0bb4a49d-b95d-4aa0-ae55-a9185703f583",
   "metadata": {},
   "source": []
  },
  {
   "cell_type": "code",
   "execution_count": 1,
   "id": "44f3077d-45f7-4cc9-a797-eddbd97fc326",
   "metadata": {},
   "outputs": [],
   "source": [
    "def budget_item_transaction_monthly_recon(request, budget_item, date_dict):\n",
    "    # Combine queries for last month and current month\n",
    "    from .models import \n",
    "    # this takes into considerentaion all transaction sonce inception\n",
    "    all_transactions_as_of_last_month = Transaction.objects.filter(\n",
    "        user__id=request.user.id,\n",
    "        category__id=budget_item.id,\n",
    "        date__lte=date_dict['previous_month_eom_date']\n",
    "    ).order_by('date')\n",
    "\n",
    "    all_transactions_as_of_this_begining_of_year = Transaction.objects.filter(\n",
    "        user__id=request.user.id,\n",
    "        category__id=budget_item.id,\n",
    "        date__lt=date_dict['boy']\n",
    "    ).order_by('date')\n",
    "\n",
    "    this_month_transaction = Transaction.objects.filter(\n",
    "        user__id=request.user.id,\n",
    "        category__id=budget_item.id,\n",
    "        date__range=(date_dict['b'], date_dict['e'])\n",
    "    ).order_by('date')\n",
    "\n",
    "    # Check for next and previous month existence\n",
    "    next_month_transactions_exists = date_dict[\"evaluation_date\"] < timezone.make_aware(datetime.today())\n",
    "    previous_month_transactions_exists = date_dict[\"evaluation_date\"] > timezone.make_aware(datetime(date_dict[\"evaluation_date\"].year, 1, 1))\n",
    "\n",
    "    # Calculate total_spent and current_month_transactions_total directly in the database\n",
    "    total_spent_last_year = all_transactions_as_of_this_begining_of_year.aggregate(total_spent=Sum('amount'))['total_spent'] or 0\n",
    "    total_spent = all_transactions_as_of_last_month.aggregate(total_spent=Sum('amount'))['total_spent'] or 0\n",
    "    current_month_transactions_total = this_month_transaction.aggregate(current_month_total=Sum('amount'))['current_month_total'] or 0\n",
    "\n",
    "    # Calculate total_budgeted once and reuse\n",
    "    total_budgeted = budget_item.calculate_amount() * date_dict[\"previous_month_eom_date\"].month if date_dict[\"previous_month_eom_date\"].month != 12 else 0\n",
    "\n",
    "    # Calculate carried_over_amount without rounding first\n",
    "    carried_over_amount = total_budgeted - (total_spent - total_spent_last_year)\n",
    "\n",
    "    context = {\n",
    "        'transaction_total': round(current_month_transactions_total, 2),\n",
    "        'transactions': this_month_transaction,\n",
    "        'budget_item': budget_item,\n",
    "        \"previous_month_transfer\": round(carried_over_amount, 2),\n",
    "        'previous_month_exists': previous_month_transactions_exists,\n",
    "        'next_month_exists': next_month_transactions_exists,\n",
    "        'previous_month_url': reverse('transactions-by-budget-titem-view', kwargs={'budget_item_id': budget_item.id}),\n",
    "        'next_month_url': reverse('transactions-by-budget-titem-view', kwargs={'budget_item_id': budget_item.id}),\n",
    "        \"difference\": round(budget_item.calculate_amount() + carried_over_amount - current_month_transactions_total, 2)\n",
    "    }\n",
    "\n",
    "    return context\n"
   ]
  },
  {
   "cell_type": "code",
   "execution_count": null,
   "id": "fb63c579-a95b-465b-9c07-b8d43826b9bb",
   "metadata": {},
   "outputs": [],
   "source": []
  }
 ],
 "metadata": {
  "kernelspec": {
   "display_name": "Django Shell-Plus",
   "language": "python",
   "name": "django_extensions"
  },
  "language_info": {
   "codemirror_mode": {
    "name": "ipython",
    "version": 3
   },
   "file_extension": ".py",
   "mimetype": "text/x-python",
   "name": "python",
   "nbconvert_exporter": "python",
   "pygments_lexer": "ipython3",
   "version": "3.9.18"
  }
 },
 "nbformat": 4,
 "nbformat_minor": 5
}
