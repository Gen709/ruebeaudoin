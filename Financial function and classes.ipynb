{
 "cells": [
  {
   "cell_type": "markdown",
   "id": "bdb5e688-635f-4fe8-b6f3-43e5969be7db",
   "metadata": {},
   "source": [
    "# Financial function and classes"
   ]
  },
  {
   "cell_type": "markdown",
   "id": "cb97ffd0-30fa-4071-890c-d80192a3cb71",
   "metadata": {},
   "source": [
    "## import"
   ]
  },
  {
   "cell_type": "code",
   "execution_count": 1,
   "id": "a64b7b20-a4ff-4bc9-ac63-f8bbaaefad9a",
   "metadata": {},
   "outputs": [],
   "source": [
    "from datetime import datetime, timedelta\n",
    "from dateutil import relativedelta\n",
    "import pandas as pd"
   ]
  },
  {
   "cell_type": "code",
   "execution_count": null,
   "id": "fc5ac63e-a78e-4fd6-ae45-4fd16b76163a",
   "metadata": {},
   "outputs": [],
   "source": [
    "\n",
    "\n",
    "def get_period_number(self, date):\n",
    "    \"\"\"\n",
    "    Calculate the period number based on the start date of the loan and the number of compounding periods per year.\n",
    "\n",
    "    Args:\n",
    "        date (datetime.datetime): The date for which you want to calculate the period number.\n",
    "\n",
    "    Returns:\n",
    "        int: The period number.\n",
    "    \"\"\"\n",
    "    delta = date - self.start_date\n",
    "    days = delta.days\n",
    "    compounding_days = 365 / self.m\n",
    "    period_number = days / compounding_days\n",
    "    return int(period_number)\n",
    "\n",
    "# Example usage:\n",
    "start_date = datetime(2023, 1, 1)\n",
    "date_to_check = datetime(2023, 4, 15)\n",
    "\n",
    "\n",
    "\n"
   ]
  },
  {
   "cell_type": "markdown",
   "id": "ab47ff0b-c4b2-482a-89e3-f72225a1d595",
   "metadata": {},
   "source": [
    "## Single Cash flow Class"
   ]
  },
  {
   "cell_type": "code",
   "execution_count": 2,
   "id": "1910c9a0-8994-4fe3-a883-dcee11603550",
   "metadata": {
    "tags": []
   },
   "outputs": [],
   "source": [
    "class SingleCashFlow():\n",
    "    # this makes no sens\n",
    "    def __init__(self, amount, equivalent_ineterest_rate_per_pmt_period):\n",
    "        self.P = amount\n",
    "        self.p = equivalent_ineterest_rate_per_pmt_period\n",
    "        \n",
    "    def fv(self, n):\n",
    "        return self.P * (1 + self.p) ** n\n",
    "    def pv(self, n):\n",
    "        return self.P * (1 + self.p) ** -n"
   ]
  },
  {
   "cell_type": "markdown",
   "id": "af0bc0b1-92ce-4f85-8338-a49ae74adaf7",
   "metadata": {},
   "source": [
    "### CPG class"
   ]
  },
  {
   "cell_type": "code",
   "execution_count": 3,
   "id": "f6ab37a2-b57d-4cda-8801-4b4b9c3ebd08",
   "metadata": {
    "tags": []
   },
   "outputs": [],
   "source": [
    "class CPG(SingleCashFlow):\n",
    "    def __init__(self, start_date, investment_horizon_in_years, amount, equivalent_ineterest_rate_per_pmt_period, ):\n",
    "        self.start_date=start_date\n",
    "        self.investment_horizon_in_years=investment_horizon_in_years\n",
    "        super().__init__(amount, equivalent_ineterest_rate_per_pmt_period)\n",
    "        "
   ]
  },
  {
   "cell_type": "markdown",
   "id": "d1a65e28-73c8-46ff-b2f7-e90ef938d65b",
   "metadata": {},
   "source": [
    "## Anuity cashflow class"
   ]
  },
  {
   "cell_type": "code",
   "execution_count": 4,
   "id": "982a247e-3777-4755-8fda-f48ae5591a2b",
   "metadata": {},
   "outputs": [],
   "source": [
    "class GeneralAnnuity:\n",
    "    \"\"\"\n",
    "    Calculate various financial parameters for a general annuity.\n",
    "\n",
    "    Args:\n",
    "        principal (float): The initial principal amount.\n",
    "        nominal_annual_interest_rate (float): The nominal annual interest rate as a decimal.\n",
    "        number_of_compounding_periods_per_year (int): The number of compounding periods in a year.\n",
    "        number_of_pmt_per_year (int, optional): The number of payment periods and interest compounding\n",
    "        in a year in case the pmt do not match. If not provided, it defaults to the same value as `number_of_compounding_periods_per_year`.\n",
    "\n",
    "    Attributes:\n",
    "        P (float): The initial principal amount.\n",
    "        j (float): The nominal annual interest rate as a decimal.\n",
    "        m (int): The number of interest compounding periods in a year.\n",
    "        nppy (int): The number of payment periods in a year.\n",
    "\n",
    "    Properties:\n",
    "        c (float): The ratio of compounding periods to payment periods.\n",
    "        i (float): The nominal interest rate per compounding period.\n",
    "        p (float): The periodic interest rate conversion factor.\n",
    "    \n",
    "    Methods:\n",
    "        sn(n) (float): Calculate the sum of a geometric series for `n` periods.\n",
    "        an(n) (float): Calculate the annuity factor for `n` periods.\n",
    "        pmt(n) (float): Calculate the periodic payment amount for `n` periods.\n",
    "    \"\"\"\n",
    "    \n",
    "    def __init__(self, principal, nominal_annual_interest_rate, number_of_compounding_periods_per_year, number_of_years, number_of_pmt_per_year=None):\n",
    "        self.P = principal\n",
    "        self.j = nominal_annual_interest_rate\n",
    "        self.m = number_of_compounding_periods_per_year\n",
    "        self.y = number_of_years\n",
    "        self.nppy = self.m if number_of_pmt_per_year is None else number_of_pmt_per_year\n",
    "       \n",
    "    @property\n",
    "    def last_period(self):\n",
    "        return self.nppy * self.y\n",
    "    @property\n",
    "    def c(self):\n",
    "        return self.m / self.nppy\n",
    "    \n",
    "    @property\n",
    "    def i(self):\n",
    "        return self.j / self.m\n",
    "    \n",
    "    @property\n",
    "    def p(self):\n",
    "        return (1 + self.i) ** self.c - 1\n",
    "\n",
    "    def sn(self, n):\n",
    "        return ((1 + self.p) ** n - 1) / self.p\n",
    "    \n",
    "    def an(self,n):\n",
    "        v = (1 / (1 + self.p))\n",
    "        return (1 - v ** n) / self.p\n",
    "    @property\n",
    "    def pmt(self):\n",
    "        return self.P / self.an(self.last_period)\n",
    "    \n"
   ]
  },
  {
   "cell_type": "markdown",
   "id": "55dad6f9-dd78-4712-9b6f-4258645b3764",
   "metadata": {},
   "source": [
    "### Class FixedRateFixedAmorizationPeriodLoan"
   ]
  },
  {
   "cell_type": "code",
   "execution_count": 5,
   "id": "678c9129-ccdc-45d6-a9ba-0605e6c8311e",
   "metadata": {},
   "outputs": [],
   "source": [
    "class FixedRateLoan(GeneralAnnuity):\n",
    "    def __init__(self, name, start_date, term_in_years, principal, nominal_annual_interest_rate, number_of_compounding_periods_per_year, number_of_years):\n",
    "        self.name = name\n",
    "        self.term = term_in_years \n",
    "        self.start_date = datetime.strptime(start_date, \"%Y-%m-%d\")\n",
    "        super().__init__(principal, nominal_annual_interest_rate, number_of_compounding_periods_per_year, number_of_years, number_of_pmt_per_year=None)\n",
    "    \n",
    "    @property\n",
    "    def end_date(self):\n",
    "        return self.start_date + timedelta(days=365) * self.term\n",
    "    \n",
    "    def get_date_for_period(self, period_number):\n",
    "        \"\"\"\n",
    "        Calculate the date corresponding to the given period number based on the start date of the loan and the number of compounding periods per year.\n",
    "\n",
    "        Args:\n",
    "            period_number (int): The period number for which you want to calculate the date.\n",
    "\n",
    "        Returns:\n",
    "            datetime.datetime: The date corresponding to the period number.\n",
    "        \"\"\"\n",
    "        compounding_days = 365 / self.m\n",
    "        days = period_number * compounding_days\n",
    "        date = self.start_date + timedelta(days=days)\n",
    "        return date\n",
    "    \n",
    "    def n(self, evaluation_date):\n",
    "        \"\"\"\n",
    "        Calculate the period number based on the start date of the loan and the number of compounding periods per year.\n",
    "\n",
    "        Args:\n",
    "            date (datetime.datetime): The date for which you want to calculate the period number.\n",
    "\n",
    "        Returns:\n",
    "            int: The period number.\n",
    "        \"\"\"\n",
    "        if isinstance(evaluation_date, int):\n",
    "            return evaluation_date\n",
    "        else:\n",
    "            evaluation_date = datetime.strptime(evaluation_date, \"%Y-%m-%d\") if isinstance(evaluation_date, str) else evaluation_date\n",
    "            assert isinstance(evaluation_date, datetime), f\"The evaluation date must be a string or a datetime obj it is a {type(evaluation_date)}\"\n",
    "            delta = evaluation_date - self.start_date\n",
    "            days = delta.days\n",
    "            compounding_days = 365 / self.m\n",
    "            period_number = days / compounding_days\n",
    "            return int(round(period_number))\n",
    "    \n",
    "    def balance(self, evaluation_date=None):\n",
    "        if not evaluation_date:\n",
    "            evaluation_date = self.end_date\n",
    "        n = self.n(evaluation_date)\n",
    "        return  SingleCashFlow(self.P, self.p).fv(n) - self.pmt * self.sn(n)\n",
    "    \n",
    "    def interest_pmt(self, evaluation_date):\n",
    "        return self.balance(evaluation_date) * self.p\n",
    "    \n",
    "    def principal_paiment(self, evaluation_date):\n",
    "        return self.pmt - self.interest_pmt(evaluation_date)\n",
    "    \n",
    "    def interest_cost_as_of(self, evaluation_date=None):\n",
    "        if not evaluation_date:\n",
    "            evaluation_date = self.end_date\n",
    "        return sum([self.interest_pmt(d) for d in range(self.n(evaluation_date) + 1)])\n",
    "    \n",
    "    def repaid_principal_as_of(self, evaluation_date):\n",
    "        return sum([self.principal_paiment(d) for d in range(self.n(evaluation_date) + 1)])\n",
    "\n",
    "    def get_amortization_schedule(self):\n",
    "        date_list = []\n",
    "        balance_list = []\n",
    "        interest_list = []\n",
    "        principal_list = []\n",
    "        for period in range(self.last_period):\n",
    "            dt = self.get_date_for_period(period).date()\n",
    "            dt_str = datetime.strftime(dt, \"%Y-%m-%d\")\n",
    "            date_list.append(dt)\n",
    "            balance_list.append(self.balance(dt_str))\n",
    "            interest_list.append(self.interest_pmt(dt_str))\n",
    "            principal_list.append(self.principal_paiment(dt_str))\n",
    "        return pd.DataFrame({\"date\": date_list, \"balance\": balance_list, \"interest\": interest_list, \"principal\": principal_list})\n",
    "        \n",
    "    def modified_duration_remaining_cash_flows(self, new_interest_rate):\n",
    "        # Calculate the present value of remaining cash flows at the current interest rate\n",
    "        pv_current_rate = self.balance(self.end_date)\n",
    "\n",
    "        # Slightly increase the interest rate (e.g., by 1%)\n",
    "        delta_rate = 0.01\n",
    "        new_rate = self.p + delta_rate\n",
    "\n",
    "        # Calculate the present value of remaining cash flows at the new interest rate\n",
    "        pv_new_rate = 0.01\n",
    "\n",
    "        # Calculate the change in present values\n",
    "        delta_pv = pv_new_rate - pv_current_rate\n",
    "\n",
    "        # Calculate the modified duration\n",
    "        modified_duration = delta_pv / (2 * pv_current_rate * delta_rate)\n",
    "\n",
    "        return modified_duration\n",
    "    \n",
    "    \n",
    "\n",
    "\n"
   ]
  },
  {
   "cell_type": "markdown",
   "id": "c174f3f4-2847-4628-998a-b487a8973f11",
   "metadata": {},
   "source": [
    "#### FixedRateLoan case use"
   ]
  },
  {
   "cell_type": "code",
   "execution_count": 10,
   "id": "b011fa68-b569-4b88-ae3d-30442d113dd2",
   "metadata": {},
   "outputs": [
    {
     "name": "stdout",
     "output_type": "stream",
     "text": [
      "This fixed rate loan contract for 250000 $ started on the 2023-06-18 and will end on the 2028-06-16\n",
      "for for a term of 5 years. The amortization period was 25.\n",
      "The pmt amount was 743\n",
      "The total amount of interest paid will be 71906 $\n",
      "and the total principal repayment will be of 25144 $ for an outstanding balance of 224856 $\n",
      "The Balance is at 249667 as of the 2023-07-18 the amount of interest paid was 1672 and the\n",
      "principal repaid was 557. Total interest cost\n"
     ]
    }
   ],
   "source": [
    "mortgage = FixedRateLoan(\"House Mortgage\", \"2023-06-18\", 5, 250000, 0.06, 26, 25)\n",
    "evaluation_date=\"2023-07-18\"\n",
    "n=mortgage.n(evaluation_date)\n",
    "mortgage.pmt\n",
    "print(f\"This fixed rate loan contract for {mortgage.P} $ started on the {mortgage.start_date.date()} and will end on the {mortgage.end_date.date()}\\\n",
    "\\nfor for a term of {mortgage.term} years. The amortization period was {mortgage.y}.\\\n",
    "\\nThe pmt amount was {round(mortgage.pmt)}\\\n",
    "\\nThe total amount of interest paid will be {round(mortgage.interest_cost_as_of(mortgage.end_date))} $\\\n",
    "\\nand the total principal repayment will be of {round(mortgage.P - mortgage.balance(mortgage.end_date))} $ for an outstanding balance of {round(mortgage.balance(mortgage.end_date))} $\\\n",
    "\\nThe Balance is at {round(mortgage.balance(evaluation_date))} as of the {evaluation_date}\\\n",
    " the amount of interest paid was {round(mortgage.interest_cost_as_of(evaluation_date))} and the\\\n",
    "\\nprincipal repaid was {round(mortgage.repaid_principal_as_of(evaluation_date))}. Total interest cost\")\n",
    "\n",
    "# print(f\"Value of the loan :{round(SingleCashFlow(mortgage.P, mortgage.p).fv(n))} at periond {n}\\\n",
    "# \\nvalue of pmts {round(mortgage.pmt)} value of an {mortgage.sn(n)}\")"
   ]
  },
  {
   "cell_type": "code",
   "execution_count": null,
   "id": "eab9b0d4-3c14-46d8-b1d8-bef98619f03f",
   "metadata": {},
   "outputs": [],
   "source": [
    "total_amount = 1100000\n",
    "amount_1 = 280000\n",
    "rate_1 = 0.027\n",
    "amount_2 = total_amount - amount_1\n",
    "rate_2 = 0.051\n",
    "\n",
    "loan1 = FixedRateLoan(\"pret @ 2.7\", \"2024-04-01\", 5, amount_1, rate_1, 26, 30)\n",
    "loan2 = FixedRateLoan(\"pret @ 5.1\", \"2024-04-01\", 5, amount_2, rate_2, 26, 30)\n",
    "loan3 = FixedRateLoan(\"pret @ 5.1\", \"2024-04-01\", 5, total_amount, rate_2, 26, 30)\n",
    "t = loan3.interest_cost_as_of() - (loan1.interest_cost_as_of() + loan2.interest_cost_as_of())\n",
    "amort1 = loan1.get_amortization_schedule()\n",
    "amort2 = loan2.get_amortization_schedule()\n",
    "amort3 = loan3.get_amortization_schedule()\n",
    "t"
   ]
  },
  {
   "cell_type": "code",
   "execution_count": null,
   "id": "ee69bc6b-f2d0-4c0c-8e88-161fd5349e37",
   "metadata": {},
   "outputs": [],
   "source": [
    "ti_1 = amort1[\"interest\"][:5*26].sum()\n",
    "ti_2 = amort2[\"interest\"][:5*26].sum()\n",
    "ti_3 = amort3[\"interest\"][:5*26].sum()"
   ]
  },
  {
   "cell_type": "code",
   "execution_count": null,
   "id": "4491260a-4d7e-4184-bdf4-68d39bcedb62",
   "metadata": {},
   "outputs": [],
   "source": [
    "# Specify the Excel file path\n",
    "excel_file_path = 'data/MC/test2.xlsx'\n",
    "\n",
    "# Export the DataFrame to Excel\n",
    "amort3.to_excel(excel_file_path, index=False)"
   ]
  },
  {
   "cell_type": "code",
   "execution_count": null,
   "id": "9a462011-b41e-4416-81c3-b332c8d9713f",
   "metadata": {},
   "outputs": [],
   "source": [
    "class RecuringExpenses():\n",
    "    def __init__(self, name, amount, start_date, pmt_per_year, end_date=None):\n",
    "        self.name = name\n",
    "        self.amount = amount\n",
    "        self.start_date = datetime.strptime(start_date, \"%Y-%m-%d\")\n",
    "        self.pmt_per_year = pmt_per_year\n",
    "        self.end_date = datetime.strptime(end_date, \"%Y-%m-%d\") if end_date else datetime.today() + timedelta(days=365) * 100\n",
    "        \n",
    "    @property\n",
    "    def annual_amount(self):\n",
    "        return self.amount * self.pmt_per_year\n",
    "    @property\n",
    "    def bi_weekly_amount(self):\n",
    "        return self.annual_amount / 26\n",
    "    \n",
    "    \n",
    "        \n",
    "Netflix = RecuringExpenses(\"Netfilx\", 15.75, \"2023-02-01\", 12)\n",
    "Netflix.bi_weekly_amount"
   ]
  },
  {
   "cell_type": "code",
   "execution_count": null,
   "id": "c208f069-1dea-4e35-b602-70d392222ca6",
   "metadata": {},
   "outputs": [],
   "source": []
  },
  {
   "cell_type": "code",
   "execution_count": null,
   "id": "f7283352-78d9-420f-ac69-4996dda17ce4",
   "metadata": {},
   "outputs": [],
   "source": []
  },
  {
   "cell_type": "code",
   "execution_count": null,
   "id": "ebb20f91-f52b-41c6-b9f6-1d61b08d2f1d",
   "metadata": {},
   "outputs": [],
   "source": []
  },
  {
   "cell_type": "markdown",
   "id": "9ea178a3-47f8-4287-8450-53c37ca0076e",
   "metadata": {},
   "source": [
    "# Old classes"
   ]
  },
  {
   "cell_type": "markdown",
   "id": "f5007347-8bac-45e8-a88a-be86415cab18",
   "metadata": {
    "jp-MarkdownHeadingCollapsed": true
   },
   "source": [
    "## Asset Class"
   ]
  },
  {
   "cell_type": "code",
   "execution_count": null,
   "id": "36f9a68a-2297-493b-904b-1847fdc2fde3",
   "metadata": {},
   "outputs": [],
   "source": [
    "class Asset:\n",
    "    def __init__(self, name, acquisition_date, acquisition_cost, evaluation_date):\n",
    "        self.name = name\n",
    "        self.acquisition_date = datetime.strptime(acquisition_date, \"%Y-%m-%d\")\n",
    "        self.acquisition_cost = acquisition_cost\n",
    "        self.evaluation_date = datetime.strptime(acquisition_date, \"%Y-%m-%d\") if acquisition_date else datetime.today()\n",
    "        self.liabilities = []\n",
    "        self.funding = []\n",
    "        \n",
    "    def get_evaluation_date(self, evaluation_date=None):\n",
    "        if isinstance(evaluation_date, str) or evaluation_date is None:\n",
    "            return datetime.strptime(evaluation_date, \"%Y-%m-%d\") if evaluation_date else datetime.now()\n",
    "        else:\n",
    "            return evaluation_date\n",
    "\n",
    "    def add_liability(self, liability):\n",
    "        assert isinstance(liability, Liability), \"Not a liability\"\n",
    "        self.liabilities.append(liability)\n",
    "        \n",
    "    def add_funding(self, investment):\n",
    "        assert isinstance(investment, InvestmentAsset)\n",
    "        self.funding.append(investment)\n",
    "        \n",
    "    def calculate_net_asset_value(self, evaluation_date):\n",
    "        pass\n",
    "\n",
    "    def calculate_depreciation(self, evaluation_date=None):\n",
    "        pass\n",
    "    \n",
    "    def calculate_total_costs(self, evaluation_date):\n",
    "        total_interest_cost = 0\n",
    "        total_reimbursement_amount = 0\n",
    "        \n",
    "        for liability in self.liabilities:\n",
    "            total_interest_cost += liability.get_info_dict(evaluation_date)[\"cumulative_interest_costs\"]\n",
    "            total_reimbursement_amount += liability.get_info_dict(evaluation_date)[\"cumulative_acquisition_cost_repaiments\"]\n",
    "        return total_interest_cost, total_reimbursement_amount\n",
    "\n",
    "    \n",
    "    def __str__(self):\n",
    "        asset_info = f\"{self.name}: ${self.acquisition_cost:.2f}, Acquisition Date: {self.acquisition_date.strftime('%Y-%m-%d')}\"\n",
    "        if self.liabilities:\n",
    "            liability_info = \"\\n  Liabilities:\"\n",
    "            for liability in self.liabilities:\n",
    "                liability_info += f\"\\n    {liability}\"\n",
    "            asset_info += liability_info\n",
    "        if self.funding:\n",
    "            funding_info = \"\\n Funding:\"\n",
    "            for fund in self.funding:\n",
    "                funding_info += f\"\\n   {fund}\"\n",
    "            asset_info += funding_info\n",
    "            \n",
    "        return asset_info\n"
   ]
  },
  {
   "cell_type": "markdown",
   "id": "097513f8-b0c6-4c06-afa3-37f16a51cb85",
   "metadata": {
    "jp-MarkdownHeadingCollapsed": true
   },
   "source": [
    "## Current assets"
   ]
  },
  {
   "cell_type": "code",
   "execution_count": null,
   "id": "4f7ccc20-c3d1-4136-822f-66cee2fa89db",
   "metadata": {},
   "outputs": [],
   "source": [
    "class CurrentAsset(Asset):\n",
    "    def __init__(self, name, acquisition_cost, acquisition_date, residual_value=0):\n",
    "        super().__init__(name, acquisition_cost, acquisition_date=None)\n",
    "        self.asset_type = \"Current Asset\"\n",
    "\n",
    "    def __str__(self):\n",
    "        return f\"Current {super().__str__()}\""
   ]
  },
  {
   "cell_type": "markdown",
   "id": "c2abbd82-ce00-4c0b-bc88-dc91a1d3948d",
   "metadata": {
    "jp-MarkdownHeadingCollapsed": true
   },
   "source": [
    "## Fixed Asset"
   ]
  },
  {
   "cell_type": "code",
   "execution_count": null,
   "id": "30675e09-4f78-4a98-9773-631e52fdb69c",
   "metadata": {},
   "outputs": [],
   "source": [
    "class FixedAsset(Asset):\n",
    "    def __init__(self, name, acquisition_cost, useful_life_in_years, acquisition_date=None, residual_value=0):\n",
    "        super().__init__(name, acquisition_cost, acquisition_date)\n",
    "        self.asset_type = \"Fixed Asset\"\n",
    "        self.useful_life_in_years = useful_life_in_years\n",
    "        self.residual_value = residual_value\n",
    "\n",
    "    def set_funding(self, investment):\n",
    "        self.funding = investment\n",
    "\n",
    "    def calculate_biweekly_funding(self):\n",
    "        if self.useful_life_in_years <= 0:\n",
    "            return 0  # Useful life is already expired\n",
    "        else:\n",
    "            total_funding_required = (self.acquisition_cost - self.residual_value) / self.useful_life_in_years\n",
    "            biweekly_funding = total_funding_required / (self.useful_life_in_years * 26)  # Assuming 26 bi-weekly periods in a year\n",
    "            return biweekly_funding\n",
    "        \n",
    "    def calculate_book_value(self, evaluation_date):\n",
    "        return self.acquisition_cost - self.calculate_depreciation(evaluation_date)\n",
    "    \n",
    "    def calculate_net_asset_value(self, evaluation_date):\n",
    "        total_liabilities = sum(liability.get_info_dict(evaluation_date)[\"balance\"] for liability in self.liabilities)\n",
    "        net_asset_value = self.calculate_book_value(evaluation_date) - total_liabilities\n",
    "        return net_asset_value\n",
    "    @property\n",
    "    def annual_depreciation(self):\n",
    "        return (self.acquisition_cost - self.residual_value) / self.useful_life_in_years\n",
    "    \n",
    "    def calculate_depreciation(self, evaluation_date=None):\n",
    "        age_in_years = (self.get_evaluation_date(evaluation_date) - self.acquisition_date).days / 365\n",
    "        if age_in_years <= self.useful_life_in_years:\n",
    "            depreciation = age_in_years * self.annual_depreciation\n",
    "        else:\n",
    "            depreciation = self.acquisition_cost\n",
    "        return depreciation\n",
    "    \n",
    "    def calculate_funding(self, evaluation_date):\n",
    "        pass\n",
    "\n",
    "    def __str__(self):\n",
    "        asset_info = f\"Fixed {self.name}: ${self.acquisition_cost:.2f}, Useful Life: {self.useful_life_in_years} years, necessary bi-wwekly funding {round(self.calculate_biweekly_funding(), 2)}\"\n",
    "        if self.funding:\n",
    "            funding_info = f\"\\n  Funding: {self.funding}\"\n",
    "            return asset_info + funding_info\n",
    "        return asset_info"
   ]
  },
  {
   "cell_type": "markdown",
   "id": "9a3a3d5e-ed27-41df-ba9f-a75d7dcad6e8",
   "metadata": {
    "jp-MarkdownHeadingCollapsed": true
   },
   "source": [
    "## Liability class"
   ]
  },
  {
   "cell_type": "code",
   "execution_count": null,
   "id": "47043748-5012-48fb-aa43-ad27f5c67c72",
   "metadata": {},
   "outputs": [],
   "source": [
    "class Liability:\n",
    "    def __init__(self, name, amount, start_date, nominal_interet_rate, number_of_compounding_periods_per_year, amortisation_period_in_years):\n",
    "        self.name = name\n",
    "        self.amount = amount\n",
    "        self.start_date = datetime.strptime(start_date, \"%Y-%m-%d\")\n",
    "        self.nominal_interet_rate = nominal_interet_rate\n",
    "        self.number_of_compounding_periods_per_year = number_of_compounding_periods_per_year\n",
    "        self.effective_interest_rate = self.nominal_interet_rate / self.number_of_compounding_periods_per_year\n",
    "        self.amortisation_period_in_years = amortisation_period_in_years\n",
    "        self.total_number_of_period = self.amortisation_period_in_years * self.number_of_compounding_periods_per_year\n",
    "        self.actualisation_factor = (1 - (1 / (1 + self.effective_interest_rate )) ** self.total_number_of_period) / self.effective_interest_rate\n",
    "        self.pmt = self.amount / self.actualisation_factor\n",
    "        # self.evaluation_date = datetime.strptime(evaluation_date, \"%Y-%m-%d\").date() if evaluation_date else None\n",
    "        \n",
    "    def generate_amortization_schedule(self):\n",
    "        amortization_schedule = []\n",
    "        current_date = self.start_date\n",
    "        days_per_period = 365.0 / self.number_of_compounding_periods_per_year\n",
    "\n",
    "        for _ in range(self.total_number_of_period + 1):\n",
    "            amortization_schedule.append(current_date)\n",
    "            current_date += timedelta(days=days_per_period)\n",
    "        # first_date = amortization_schedule.pop(0) \n",
    "        return amortization_schedule\n",
    "    \n",
    "    def get_closest_previous_date_to_evaluation_date(self, evaluation_date):\n",
    "        if isinstance(evaluation_date, str):\n",
    "            evaluation_date = datetime.strptime(evaluation_date, \"%Y-%m-%d\") if evaluation_date else datetime.now()\n",
    "        \n",
    "        end_date = self.start_date + timedelta(days=365) * self.amortisation_period_in_years\n",
    "        \n",
    "        assert evaluation_date >= self.start_date, f\"Evaluation date can't be inferior to start date received {evaluation_date.date()} while start date is {self.start_date}\"\n",
    "        assert evaluation_date <= end_date, f\"Evaluation date must be inferior to end date: {end_date}\"\n",
    "        \n",
    "        if evaluation_date < self.start_date or evaluation_date > end_date:\n",
    "            return None\n",
    "        else:\n",
    "            date_list = self.generate_amortization_schedule()\n",
    "            return [date for date in date_list if date_list[date_list.index(date)] <= evaluation_date][-1]\n",
    "        \n",
    "    def get_n(self, evaluation_date):\n",
    "        if isinstance(evaluation_date, str):\n",
    "            evaluation_date = datetime.strptime(evaluation_date, \"%Y-%m-%d\") if evaluation_date else datetime.now()\n",
    "        if evaluation_date and self.start_date:\n",
    "            days_between_dates = (evaluation_date - self.start_date).days\n",
    "            periods_between_dates = days_between_dates / (365.0 / self.number_of_compounding_periods_per_year)\n",
    "            return int(round(periods_between_dates))\n",
    "        else:\n",
    "            return None\n",
    "        \n",
    "    def sn(self, n):\n",
    "        return (((1 + self.effective_interest_rate) ** n) - 1) / self.effective_interest_rate\n",
    "    \n",
    "    def get_loan_balance(self, evaluation_date):\n",
    "        n = self.get_n(evaluation_date) \n",
    "        return self.amount * ( 1 + self.effective_interest_rate) ** n - self.pmt * self.sn(n)\n",
    "        \n",
    "    def get_interest_pmt(self, evaluation_date):\n",
    "        return self.get_loan_balance(evaluation_date) * self.effective_interest_rate\n",
    "    \n",
    "    def get_acquisition_cost_pmt(self, evaluation_date):\n",
    "        return self.pmt - self.get_interest_pmt(evaluation_date)   \n",
    "    \n",
    "    def get_cumulative_interest_costs(self, evaluation_date):\n",
    "        if isinstance(evaluation_date, str):\n",
    "            evaluation_date = datetime.strptime(evaluation_date, \"%Y-%m-%d\") if evaluation_date else datetime.now()\n",
    "\n",
    "        return sum([self.get_interest_pmt(d) for d in self.generate_amortization_schedule() if d <= evaluation_date])\n",
    "    \n",
    "    def get_remaining_interest_costs(self, evaluation_date):\n",
    "        if isinstance(evaluation_date, str):\n",
    "            evaluation_date = datetime.strptime(evaluation_date, \"%Y-%m-%d\") if evaluation_date else datetime.now()\n",
    "        return sum([self.get_interest_pmt(d) for d in self.generate_amortization_schedule() if d > evaluation_date])\n",
    "    \n",
    "    def get_cumulative_acquisition_cost_costs(self, evaluation_date):\n",
    "        if isinstance(evaluation_date, str):\n",
    "            evaluation_date = datetime.strptime(evaluation_date, \"%Y-%m-%d\") if evaluation_date else datetime.now()\n",
    "\n",
    "        return sum([self.get_acquisition_cost_pmt(d) for d in self.generate_amortization_schedule() if d <= evaluation_date])\n",
    "    \n",
    "    def get_info_dict(self, evaluation_date):\n",
    "        d = self.get_closest_previous_date_to_evaluation_date(evaluation_date)\n",
    "        return {\"date\": d.date(), \n",
    "                \"period\": self.get_n(d), \n",
    "                \"balance\": round(self.get_loan_balance(d), 2), \n",
    "                \"principal_repaiement\": round(self.get_acquisition_cost_pmt(d), 2),  \n",
    "                \"interest_cost\": round(self.get_interest_pmt(d), 2),  \n",
    "                \"remaining_interets_costs\": round(self.get_remaining_interest_costs(d), 2),\n",
    "                \"cumulative_interest_costs\": round(car_loan.get_cumulative_interest_costs(d), 2),\n",
    "                \"cumulative_principal_repaiments\": round(self.get_cumulative_acquisition_cost_costs(d), 2)\n",
    "               }\n",
    "        \n",
    "        \n",
    "    def __str__(self):\n",
    "        return f\"{self.name}: ${self.amount:.2f}, monthly pmt:{self.pmt}\"\n"
   ]
  },
  {
   "cell_type": "markdown",
   "id": "e0da1454-2b42-4c6c-b8c0-1c44f1b12ca1",
   "metadata": {
    "jp-MarkdownHeadingCollapsed": true
   },
   "source": [
    "## Investment Class"
   ]
  },
  {
   "cell_type": "code",
   "execution_count": null,
   "id": "0ab3103b-7161-40d3-9e5f-d5b73756dbeb",
   "metadata": {},
   "outputs": [],
   "source": [
    "class InvestmentAsset(Asset):\n",
    "    def __init__(self, \n",
    "                 name, \n",
    "                 acquisition_date, \n",
    "                 investment_type, \n",
    "                 nominal_interet_rate, \n",
    "                 investment_priode_in_years, \n",
    "                 acquisition_cost = None,\n",
    "                 compounding_periods_per_year=1):\n",
    "        super().__init__(name, acquisition_date, acquisition_cost)\n",
    "        \n",
    "        self.asset_type = \"Investment\"\n",
    "        self.nominal_interet_rate = nominal_interet_rate\n",
    "        self.compounding_periods_per_year = compounding_periods_per_year\n",
    "        self.effective_interest_rate = self.nominal_interet_rate / self.compounding_periods_per_year\n",
    "        self.investment_priode_in_years = investment_priode_in_years\n",
    "        self.total_number_of_compunding_periods = self.compounding_periods_per_year * self.investment_priode_in_years\n",
    "        self.investment_type = investment_type\n",
    "        self.pmt_date = self.acquisition_date + timedelta(days=365) * investment_priode_in_years\n",
    "        \n",
    "    def get_interest_pmt(self):\n",
    "        return self.acquisition_cost * ((1+self.nominal_interet_rate) ** self.total_number_of_compunding_periods - 1)\n",
    "        \n",
    "    def __str__(self):\n",
    "        return f\"Investment {super().__str()}, Type: {self.investment_type}\"\n",
    "    \n"
   ]
  },
  {
   "cell_type": "markdown",
   "id": "eaafb862-c1f7-4223-a597-04fc3a8df66c",
   "metadata": {
    "jp-MarkdownHeadingCollapsed": true
   },
   "source": [
    "## Test case"
   ]
  },
  {
   "cell_type": "markdown",
   "id": "053af675-9bbb-4db1-93c9-4e68533bea38",
   "metadata": {},
   "source": [
    "### Car loan"
   ]
  },
  {
   "cell_type": "code",
   "execution_count": null,
   "id": "80d908f3-fcde-490a-a8a2-8727080d5aa7",
   "metadata": {},
   "outputs": [],
   "source": [
    "car_loan = Liability(\"car loan\", 55000, \"2020-08-01\", 0.06, 12, 5)"
   ]
  },
  {
   "cell_type": "code",
   "execution_count": null,
   "id": "c80ee852-e486-4432-9399-40c73bdcf2d6",
   "metadata": {},
   "outputs": [],
   "source": [
    "car_loan.get_info_dict(\"2022-05-25\")"
   ]
  },
  {
   "cell_type": "markdown",
   "id": "8d534b26-e52d-4bd4-bebc-26c21124643c",
   "metadata": {},
   "source": [
    "#### amortisation schedule"
   ]
  },
  {
   "cell_type": "code",
   "execution_count": null,
   "id": "913cf8e6-6114-4519-812d-8a073d571885",
   "metadata": {
    "tags": []
   },
   "outputs": [],
   "source": [
    "for d in car_loan.generate_amortization_schedule():\n",
    "    for k,v in car_loan.get_info_dict(d).items():\n",
    "        pass"
   ]
  },
  {
   "cell_type": "code",
   "execution_count": null,
   "id": "d0756760-25c0-4891-9e83-4dc5140cdb9e",
   "metadata": {},
   "outputs": [],
   "source": [
    "evaluation_date = \"2025-08-01\"\n",
    "# p, i = car_loan.get_cumulative_costs(\"2025-08-01\")\n",
    "print(car_loan.get_n(\"2025-08-01\"))\n",
    "print(\"balance:\", round(car_loan.get_loan_balance(evaluation_date)), \n",
    "      \"pmt:\", round(car_loan.pmt), \n",
    "      \"capital:\", round(car_loan.get_acquisition_cost_pmt(evaluation_date)), \n",
    "      \"interest:\", round(car_loan.get_interest_pmt(evaluation_date)))\n",
    "\n",
    "print(\"total interest paid\", \n",
    "      car_loan.get_cumulative_interest_costs(evaluation_date), \n",
    "      car_loan.get_cumulative_acquisition_cost_costs(evaluation_date))\n",
    "# print(p, i)"
   ]
  },
  {
   "cell_type": "markdown",
   "id": "514de26f-97d7-46cc-be0d-120f6c2da4a5",
   "metadata": {},
   "source": [
    "### Car asset "
   ]
  },
  {
   "cell_type": "markdown",
   "id": "9b9adc97-608a-4f13-8f6a-600c62f9abe5",
   "metadata": {},
   "source": [
    "#### Instantiation"
   ]
  },
  {
   "cell_type": "code",
   "execution_count": null,
   "id": "2ef66593-6cf1-4fcc-bba9-8f3983cc8b2b",
   "metadata": {},
   "outputs": [],
   "source": [
    "car = FixedAsset('Car', 60000, 7, \"2020-08-01\", residual_value=0)\n",
    "car_loan = Liability(\"Car loan\", 55000, \"2020-08-01\", 0.06, 12, 5)\n",
    "car.add_liability(car_loan)\n",
    "print(car)"
   ]
  },
  {
   "cell_type": "markdown",
   "id": "5d76613d-a519-4455-9e1e-5c27b307f9a2",
   "metadata": {},
   "source": [
    "#### Net asset value"
   ]
  },
  {
   "cell_type": "code",
   "execution_count": null,
   "id": "334bca76-7692-44a8-beb3-da78238f38cc",
   "metadata": {},
   "outputs": [],
   "source": [
    "evaluation_date = \"2020-10-31\"\n",
    "(car.calculate_net_asset_value(evaluation_date), car.calculate_book_value(evaluation_date))"
   ]
  },
  {
   "cell_type": "markdown",
   "id": "37568301-15a1-4c42-bc5f-8343c2d42d2f",
   "metadata": {},
   "source": [
    "### Cash flow associated with asset"
   ]
  },
  {
   "cell_type": "markdown",
   "id": "f3b1dcf8-3b5f-46c6-a98f-b2c87926605f",
   "metadata": {},
   "source": [
    "#### Car depreciation"
   ]
  },
  {
   "cell_type": "code",
   "execution_count": null,
   "id": "d5fc8969-75d9-46b2-8536-f363cabeb4e6",
   "metadata": {},
   "outputs": [],
   "source": [
    "car.annual_depreciation / 26"
   ]
  },
  {
   "cell_type": "markdown",
   "id": "38078eaa-37fb-41de-b81b-9dd33cd7f37b",
   "metadata": {},
   "source": [
    "#### Car value at replacement time"
   ]
  },
  {
   "cell_type": "code",
   "execution_count": null,
   "id": "f0e0c17f-a40f-4716-81c9-e6110e1ca619",
   "metadata": {},
   "outputs": [],
   "source": [
    "pmt_date = car.acquisition_date + timedelta(days=car.useful_life_in_years * 365)\n",
    "car_fv = CashFlow(pmt_date, car.acquisition_cost,annual_nominal_interets_rate=0.02, number_of_compounding_period_per_year=1)\n",
    "car_fv.fv()"
   ]
  },
  {
   "cell_type": "code",
   "execution_count": null,
   "id": "7b1bf7be-01a2-40fd-b6ef-8ecbc7e2518c",
   "metadata": {},
   "outputs": [],
   "source": []
  },
  {
   "cell_type": "markdown",
   "id": "f6cbaafc-c744-4f4e-a082-77bf6e2d4c28",
   "metadata": {},
   "source": [
    "#### loan amortisation"
   ]
  },
  {
   "cell_type": "code",
   "execution_count": null,
   "id": "f88be8db-2b04-4ac7-843c-2e7e9fd20e4a",
   "metadata": {},
   "outputs": [],
   "source": [
    "car.acquisition_date + timedelta(days=car.useful_life_in_years * 365)\n",
    "\n",
    "for d in car.liabilities[0].generate_amortization_schedule():\n",
    "    print(car.liabilities[0].get_info_dict(d)[\"date\"], car.liabilities[0].get_info_dict(d)['principal_repaiement'] + car.liabilities[0].get_info_dict(d)['interest_cost'] )\n",
    "# car.calculate_depreciation()\n",
    "# car.useful_life_in_years"
   ]
  },
  {
   "cell_type": "markdown",
   "id": "0761160d-4aec-4c60-8e18-7871a0da3195",
   "metadata": {},
   "source": [
    "### Funding\n"
   ]
  },
  {
   "cell_type": "code",
   "execution_count": null,
   "id": "63b05cf4-aaa7-4a7d-b291-b5ee6398247e",
   "metadata": {},
   "outputs": [],
   "source": [
    "cpg = InvestmentAsset(\"Car Funding\", 5000, \"CPG\", 0.06, 3, acquisition_cost=\"2022-07-29\")\n",
    "car.add_funding(cpg)"
   ]
  },
  {
   "cell_type": "code",
   "execution_count": null,
   "id": "c2a4570d-9c92-4006-a4a7-673ed6f6b512",
   "metadata": {},
   "outputs": [],
   "source": [
    "print(round(cpg.get_interest_pmt(), 2), cpg.pmt_date.date())"
   ]
  },
  {
   "cell_type": "code",
   "execution_count": null,
   "id": "810d4b59-5818-459b-9625-1dfc32ce3298",
   "metadata": {},
   "outputs": [],
   "source": [
    "car_purchased_date = car.acquisition_date + timedelta(days=365) * car.useful_life_in_years\n",
    "round(car.calculate_depreciation())\n",
    "# car_purchased_date"
   ]
  },
  {
   "cell_type": "code",
   "execution_count": null,
   "id": "c39f5ce3-a2be-49f7-8edd-8a75358b7ef7",
   "metadata": {},
   "outputs": [],
   "source": [
    "maison = FixedAsset(\"709 rue Beaudoin\", 350000, 120, \"2018-02-01\")"
   ]
  },
  {
   "cell_type": "code",
   "execution_count": null,
   "id": "f7e986eb-afd7-4d3a-b063-2c07d11386d7",
   "metadata": {},
   "outputs": [],
   "source": [
    "revetement_bardeau = FixedAsset(\"Revêtement Bardeau\", 15000, 15, \"\")"
   ]
  },
  {
   "cell_type": "markdown",
   "id": "2b7027c8-152d-4edc-985e-204e2cf0b2ed",
   "metadata": {},
   "source": [
    "# Cash flow class"
   ]
  },
  {
   "cell_type": "code",
   "execution_count": null,
   "id": "c593543c-6ad3-47b2-858d-481c409fe787",
   "metadata": {},
   "outputs": [],
   "source": [
    " amount = car.acquisition_cost"
   ]
  },
  {
   "cell_type": "markdown",
   "id": "ff508c9c-e0c7-4c5c-9e82-6a0260773aee",
   "metadata": {},
   "source": [
    "# Open ended annuity\n",
    "\n",
    "The open ended annuity is used to model recurring spending item at regular time interval where \n",
    "the start date \n",
    "the pmt \n",
    "the frequency\n",
    "the end date (if unknown the difference between the age and expected age at death is used)\n",
    "\n",
    "the user info is needed for this.\n",
    "\n",
    "the interest rate"
   ]
  },
  {
   "cell_type": "code",
   "execution_count": null,
   "id": "9919a125-d884-4a03-8725-96d1a29a7bb6",
   "metadata": {},
   "outputs": [],
   "source": [
    "class OpenEndedAnnuity(GeneralAnnuity):\n",
    "    def __init__(self):\n",
    "        super.__init__(nominal_annual_interest_rate, number_of_compounding_periods_per_year, number_of_years, number_of_pmt_per_year=None, principal=None)\n",
    "    "
   ]
  },
  {
   "cell_type": "code",
   "execution_count": null,
   "id": "11d32d7c-d3d2-4fb8-a0bf-40142cd5da9e",
   "metadata": {
    "tags": []
   },
   "outputs": [],
   "source": [
    "appleCloud = OpenEndedAnnuity()"
   ]
  },
  {
   "cell_type": "code",
   "execution_count": null,
   "id": "552682c5-3f5e-434f-acab-ce90bb9f2ca5",
   "metadata": {},
   "outputs": [],
   "source": []
  }
 ],
 "metadata": {
  "kernelspec": {
   "display_name": "Django Shell-Plus",
   "language": "python",
   "name": "django_extensions"
  },
  "language_info": {
   "codemirror_mode": {
    "name": "ipython",
    "version": 3
   },
   "file_extension": ".py",
   "mimetype": "text/x-python",
   "name": "python",
   "nbconvert_exporter": "python",
   "pygments_lexer": "ipython3",
   "version": "3.9.18"
  }
 },
 "nbformat": 4,
 "nbformat_minor": 5
}
